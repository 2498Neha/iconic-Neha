{
 "cells": [
  {
   "cell_type": "code",
   "execution_count": 1,
   "id": "3b26fc10",
   "metadata": {},
   "outputs": [
    {
     "name": "stdout",
     "output_type": "stream",
     "text": [
      "Requirement already satisfied: selenium in c:\\users\\neha\\anaconda\\lib\\site-packages (3.141.0)\n",
      "Requirement already satisfied: urllib3 in c:\\users\\neha\\anaconda\\lib\\site-packages (from selenium) (1.26.4)\n"
     ]
    }
   ],
   "source": [
    "! pip install selenium"
   ]
  },
  {
   "cell_type": "code",
   "execution_count": 2,
   "id": "898a1171",
   "metadata": {},
   "outputs": [],
   "source": [
    "# Importing Libraries\n",
    "import selenium\n",
    "import pandas as pd\n",
    "import time\n",
    "from bs4 import BeautifulSoup\n",
    "\n",
    "# Importing selenium webdriver \n",
    "from selenium import webdriver\n",
    "\n",
    "# Importing required Exceptions which needs to handled\n",
    "from selenium.common.exceptions import StaleElementReferenceException, NoSuchElementException,ElementNotInteractableException,ElementNotVisibleException\n",
    "\n",
    "#Importing requests\n",
    "import requests\n",
    "\n",
    "# importing regex\n",
    "import re"
   ]
  },
  {
   "cell_type": "code",
   "execution_count": 3,
   "id": "2ce662a9",
   "metadata": {},
   "outputs": [],
   "source": [
    "# Activating the chrome browser\n",
    "driver=webdriver.Chrome(\"chromedriver.exe\") \n",
    "time.sleep(3)"
   ]
  },
  {
   "cell_type": "code",
   "execution_count": 6,
   "id": "ce1cfb56",
   "metadata": {},
   "outputs": [],
   "source": [
    "# opening the homepage of cars24\n",
    "url=\"https://www.cars24.com/buy-used-cars-new-delhi/?itm_source=Cars24Website&itm_medium=sticky_header\"\n",
    "driver.get(url)"
   ]
  },
  {
   "cell_type": "code",
   "execution_count": 7,
   "id": "34c1baf4",
   "metadata": {},
   "outputs": [],
   "source": [
    "# Here the location is New Delhi"
   ]
  },
  {
   "cell_type": "code",
   "execution_count": 8,
   "id": "09328f70",
   "metadata": {},
   "outputs": [],
   "source": [
    "#scrapping name of the car\n",
    "car_name=[]\n",
    "for page in range(1,139):\n",
    "    try:\n",
    "        name=driver.find_elements_by_xpath('//h2[@class=\"_3FpCg\"]')\n",
    "        for i in name:\n",
    "            car_name.append(i.text)\n",
    "    except NoSuchElementnException:\n",
    "        car_name.append(\"No details available\")"
   ]
  },
  {
   "cell_type": "code",
   "execution_count": 9,
   "id": "6b230e8c",
   "metadata": {},
   "outputs": [
    {
     "data": {
      "text/plain": [
       "2760"
      ]
     },
     "execution_count": 9,
     "metadata": {},
     "output_type": "execute_result"
    }
   ],
   "source": [
    "len(car_name)"
   ]
  },
  {
   "cell_type": "code",
   "execution_count": 10,
   "id": "9e108608",
   "metadata": {},
   "outputs": [],
   "source": [
    "car_model=[]\n",
    "for page in range(1,139):\n",
    "    try:\n",
    "        model=driver.find_elements_by_xpath('//p[@class=\"cvakB\"]')\n",
    "        for j in model:\n",
    "            car_model.append(j.text.replace(\"Manual\",\"\"))\n",
    "    except NoSuchElementnException:\n",
    "        car_model.append(\"No details available\")"
   ]
  },
  {
   "cell_type": "code",
   "execution_count": 11,
   "id": "0f3cc7a5",
   "metadata": {},
   "outputs": [
    {
     "data": {
      "text/plain": [
       "2760"
      ]
     },
     "execution_count": 11,
     "metadata": {},
     "output_type": "execute_result"
    }
   ],
   "source": [
    "len(car_model)"
   ]
  },
  {
   "cell_type": "code",
   "execution_count": 12,
   "id": "e96040cd",
   "metadata": {},
   "outputs": [],
   "source": [
    "car_price=[]\n",
    "for page in range (1,139):\n",
    "    try:\n",
    "        price=driver.find_elements_by_xpath(\"//p[@class='_31Wtw']\")\n",
    "        for k in price:\n",
    "            car_price.append(k.text.replace(\"₹\",\"\"))\n",
    "    except NoSuchElementException:\n",
    "        car_price.append(\"No details available\")"
   ]
  },
  {
   "cell_type": "code",
   "execution_count": 13,
   "id": "285c57c5",
   "metadata": {},
   "outputs": [
    {
     "data": {
      "text/plain": [
       "2760"
      ]
     },
     "execution_count": 13,
     "metadata": {},
     "output_type": "execute_result"
    }
   ],
   "source": [
    "len(car_price)"
   ]
  },
  {
   "cell_type": "code",
   "execution_count": 14,
   "id": "60cb9907",
   "metadata": {},
   "outputs": [],
   "source": [
    "trans=[]\n",
    "for page in range(1,139):\n",
    "    try:\n",
    "        tran=driver.find_elements_by_xpath(\"//p[@class='cvakB']/span\")\n",
    "        for l in tran:\n",
    "            trans.append(l.text)\n",
    "    except NoSuchElementException:#handling no such element exception\n",
    "        trans.append('No details available')"
   ]
  },
  {
   "cell_type": "code",
   "execution_count": 15,
   "id": "17e4686b",
   "metadata": {},
   "outputs": [
    {
     "data": {
      "text/plain": [
       "2760"
      ]
     },
     "execution_count": 15,
     "metadata": {},
     "output_type": "execute_result"
    }
   ],
   "source": [
    "len(trans)"
   ]
  },
  {
   "cell_type": "code",
   "execution_count": 18,
   "id": "ca582871",
   "metadata": {},
   "outputs": [],
   "source": [
    "km=[]\n",
    "for page in range (1,139):\n",
    "    try:\n",
    "        kms=driver.find_elements_by_xpath(\"//ul[@class='bVR0c']/li[1]\")\n",
    "        for m in kms:\n",
    "            km.append(m.text.replace(\"km\",\"\"))\n",
    "    except NoSuchElementException:#handling no such element exception\n",
    "        km.append('No details available')\n",
    "    except StaleElementReferenceException:#handling Stale element exception\n",
    "        km.append('No details available')"
   ]
  },
  {
   "cell_type": "code",
   "execution_count": 21,
   "id": "897b3a48",
   "metadata": {},
   "outputs": [
    {
     "data": {
      "text/plain": [
       "2760"
      ]
     },
     "execution_count": 21,
     "metadata": {},
     "output_type": "execute_result"
    }
   ],
   "source": [
    "len(km)"
   ]
  },
  {
   "cell_type": "code",
   "execution_count": 25,
   "id": "bb91d2f0",
   "metadata": {},
   "outputs": [],
   "source": [
    "owner=[]\n",
    "for page in range(1,139):\n",
    "    try:\n",
    "        own=driver.find_elements_by_xpath(\"//ul[@class='bVR0c']/li[2]\")\n",
    "        for n in own:\n",
    "            owner.append(n.text)\n",
    "    except NoSuchElementException:#handling no such element exception\n",
    "        owner.append('No details available')\n",
    "    except StaleElementReferenceException:#handling Stale element exception\n",
    "        owner.append('No details available')"
   ]
  },
  {
   "cell_type": "code",
   "execution_count": 26,
   "id": "c618a863",
   "metadata": {},
   "outputs": [
    {
     "data": {
      "text/plain": [
       "2760"
      ]
     },
     "execution_count": 26,
     "metadata": {},
     "output_type": "execute_result"
    }
   ],
   "source": [
    "len(owner)"
   ]
  },
  {
   "cell_type": "code",
   "execution_count": 27,
   "id": "d9d1880f",
   "metadata": {},
   "outputs": [],
   "source": [
    "fuel=[]\n",
    "for page in range(1,139):\n",
    "    try:\n",
    "        t_fuel=driver.find_elements_by_xpath(\"//ul[@class='bVR0c']/li[3]\")\n",
    "        for o in t_fuel:\n",
    "            fuel.append(o.text)\n",
    "    except NoSuchElementException:#handling no such element exception\n",
    "        owner.append('No details available')\n",
    "    except StaleElementReferenceException:#handling Stale element exception\n",
    "        owner.append('No details available')"
   ]
  },
  {
   "cell_type": "code",
   "execution_count": 29,
   "id": "c0a79a6c",
   "metadata": {},
   "outputs": [
    {
     "data": {
      "text/plain": [
       "2760"
      ]
     },
     "execution_count": 29,
     "metadata": {},
     "output_type": "execute_result"
    }
   ],
   "source": [
    "len(fuel)"
   ]
  },
  {
   "cell_type": "code",
   "execution_count": 49,
   "id": "1e7d8420",
   "metadata": {},
   "outputs": [],
   "source": [
    "discount=[]\n",
    "for page in range(1,139):\n",
    "    try:\n",
    "        dis=driver.find_elements_by_xpath(\"//div[@class='_3mZ8j']\")\n",
    "        for p in dis:\n",
    "            discount.append(p.text.replace(\"OFF\",\"\"))\n",
    "    except NoSuchElementException:#handling no such element exception\n",
    "        discount.append('No details available')\n",
    "        "
   ]
  },
  {
   "cell_type": "code",
   "execution_count": 51,
   "id": "db6eab9a",
   "metadata": {},
   "outputs": [
    {
     "data": {
      "text/plain": [
       "2760"
      ]
     },
     "execution_count": 51,
     "metadata": {},
     "output_type": "execute_result"
    }
   ],
   "source": [
    "len(discount)"
   ]
  },
  {
   "cell_type": "code",
   "execution_count": 52,
   "id": "e20956bd",
   "metadata": {},
   "outputs": [],
   "source": [
    "dis_price=[]\n",
    "for page in range(1,139):\n",
    "    try:\n",
    "        d_price=driver.find_elements_by_xpath(\"//div[@class='_7udZZ']\")\n",
    "        for q in d_price:\n",
    "            dis_price.append(q.text.replace(\"₹\",\"\"))\n",
    "    except NoSuchElementException:#handling no such element exception\n",
    "        dis_price.append('No details available')\n",
    "        "
   ]
  },
  {
   "cell_type": "code",
   "execution_count": 54,
   "id": "a9219fed",
   "metadata": {},
   "outputs": [
    {
     "data": {
      "text/plain": [
       "2760"
      ]
     },
     "execution_count": 54,
     "metadata": {},
     "output_type": "execute_result"
    }
   ],
   "source": [
    "len(dis_price)"
   ]
  },
  {
   "cell_type": "code",
   "execution_count": 56,
   "id": "4ca85b6f",
   "metadata": {},
   "outputs": [
    {
     "data": {
      "text/html": [
       "<div>\n",
       "<style scoped>\n",
       "    .dataframe tbody tr th:only-of-type {\n",
       "        vertical-align: middle;\n",
       "    }\n",
       "\n",
       "    .dataframe tbody tr th {\n",
       "        vertical-align: top;\n",
       "    }\n",
       "\n",
       "    .dataframe thead th {\n",
       "        text-align: right;\n",
       "    }\n",
       "</style>\n",
       "<table border=\"1\" class=\"dataframe\">\n",
       "  <thead>\n",
       "    <tr style=\"text-align: right;\">\n",
       "      <th></th>\n",
       "      <th>Name</th>\n",
       "      <th>Model</th>\n",
       "      <th>Transmission</th>\n",
       "      <th>Km_driven</th>\n",
       "      <th>Owner</th>\n",
       "      <th>Fuel</th>\n",
       "      <th>Discount</th>\n",
       "      <th>Discount_price</th>\n",
       "      <th>Sale_price</th>\n",
       "    </tr>\n",
       "  </thead>\n",
       "  <tbody>\n",
       "    <tr>\n",
       "      <th>0</th>\n",
       "      <td>2020 Renault Kwid</td>\n",
       "      <td>1.0 RXT Opt AT Automatic</td>\n",
       "      <td>Automatic</td>\n",
       "      <td>3,252</td>\n",
       "      <td>1st Owner</td>\n",
       "      <td>Petrol</td>\n",
       "      <td>₹5,000</td>\n",
       "      <td>4,31,699</td>\n",
       "      <td>4,36,699</td>\n",
       "    </tr>\n",
       "    <tr>\n",
       "      <th>1</th>\n",
       "      <td>2013 Maruti Alto 800</td>\n",
       "      <td>LXI Manual</td>\n",
       "      <td>Manual</td>\n",
       "      <td>13,807</td>\n",
       "      <td>1st Owner</td>\n",
       "      <td>Petrol</td>\n",
       "      <td>₹11,000</td>\n",
       "      <td>2,16,899</td>\n",
       "      <td>2,27,899</td>\n",
       "    </tr>\n",
       "    <tr>\n",
       "      <th>2</th>\n",
       "      <td>2020 Maruti New Wagon-R</td>\n",
       "      <td>VXI 1.0 Manual</td>\n",
       "      <td>Manual</td>\n",
       "      <td>3,865</td>\n",
       "      <td>1st Owner</td>\n",
       "      <td>Petrol</td>\n",
       "      <td>₹5,000</td>\n",
       "      <td>5,16,399</td>\n",
       "      <td>5,21,399</td>\n",
       "    </tr>\n",
       "    <tr>\n",
       "      <th>3</th>\n",
       "      <td>2019 Maruti Swift</td>\n",
       "      <td>VXI Manual</td>\n",
       "      <td>Manual</td>\n",
       "      <td>3,362</td>\n",
       "      <td>1st Owner</td>\n",
       "      <td>Petrol</td>\n",
       "      <td>₹5,000</td>\n",
       "      <td>6,20,699</td>\n",
       "      <td>6,25,699</td>\n",
       "    </tr>\n",
       "    <tr>\n",
       "      <th>4</th>\n",
       "      <td>2020 Maruti Baleno</td>\n",
       "      <td>SIGMA 1.2 K12 Manual</td>\n",
       "      <td>Manual</td>\n",
       "      <td>5,645</td>\n",
       "      <td>1st Owner</td>\n",
       "      <td>Petrol</td>\n",
       "      <td>₹6,000</td>\n",
       "      <td>5,75,299</td>\n",
       "      <td>5,81,299</td>\n",
       "    </tr>\n",
       "    <tr>\n",
       "      <th>...</th>\n",
       "      <td>...</td>\n",
       "      <td>...</td>\n",
       "      <td>...</td>\n",
       "      <td>...</td>\n",
       "      <td>...</td>\n",
       "      <td>...</td>\n",
       "      <td>...</td>\n",
       "      <td>...</td>\n",
       "      <td>...</td>\n",
       "    </tr>\n",
       "    <tr>\n",
       "      <th>2755</th>\n",
       "      <td>2019 Maruti New Wagon-R</td>\n",
       "      <td>VXI 1.0 Manual</td>\n",
       "      <td>Manual</td>\n",
       "      <td>11,213</td>\n",
       "      <td>1st Owner</td>\n",
       "      <td>Petrol</td>\n",
       "      <td>₹37,000</td>\n",
       "      <td>4,68,599</td>\n",
       "      <td>5,05,599</td>\n",
       "    </tr>\n",
       "    <tr>\n",
       "      <th>2756</th>\n",
       "      <td>2018 Maruti Swift</td>\n",
       "      <td>LXI Manual</td>\n",
       "      <td>Manual</td>\n",
       "      <td>4,482</td>\n",
       "      <td>1st Owner</td>\n",
       "      <td>Petrol</td>\n",
       "      <td>₹5,000</td>\n",
       "      <td>5,23,299</td>\n",
       "      <td>5,28,299</td>\n",
       "    </tr>\n",
       "    <tr>\n",
       "      <th>2757</th>\n",
       "      <td>2014 Maruti Celerio</td>\n",
       "      <td>VXI AMT Automatic</td>\n",
       "      <td>Automatic</td>\n",
       "      <td>19,045</td>\n",
       "      <td>2nd Owner</td>\n",
       "      <td>Petrol</td>\n",
       "      <td>₹16,000</td>\n",
       "      <td>3,25,399</td>\n",
       "      <td>3,41,399</td>\n",
       "    </tr>\n",
       "    <tr>\n",
       "      <th>2758</th>\n",
       "      <td>2013 Maruti Swift Dzire</td>\n",
       "      <td>VDI BS IV Manual</td>\n",
       "      <td>Manual</td>\n",
       "      <td>33,554</td>\n",
       "      <td>1st Owner</td>\n",
       "      <td>Diesel</td>\n",
       "      <td>₹5,000</td>\n",
       "      <td>3,70,199</td>\n",
       "      <td>3,75,199</td>\n",
       "    </tr>\n",
       "    <tr>\n",
       "      <th>2759</th>\n",
       "      <td>2017 Renault Kwid</td>\n",
       "      <td>CLIMBER 1.0 AT</td>\n",
       "      <td></td>\n",
       "      <td>11,721</td>\n",
       "      <td>1st Owner</td>\n",
       "      <td>Petrol</td>\n",
       "      <td>₹15,000</td>\n",
       "      <td>3,83,799</td>\n",
       "      <td>3,98,799</td>\n",
       "    </tr>\n",
       "  </tbody>\n",
       "</table>\n",
       "<p>2760 rows × 9 columns</p>\n",
       "</div>"
      ],
      "text/plain": [
       "                         Name                     Model Transmission  \\\n",
       "0           2020 Renault Kwid  1.0 RXT Opt AT Automatic    Automatic   \n",
       "1        2013 Maruti Alto 800                LXI Manual       Manual   \n",
       "2     2020 Maruti New Wagon-R            VXI 1.0 Manual       Manual   \n",
       "3           2019 Maruti Swift                VXI Manual       Manual   \n",
       "4          2020 Maruti Baleno      SIGMA 1.2 K12 Manual       Manual   \n",
       "...                       ...                       ...          ...   \n",
       "2755  2019 Maruti New Wagon-R            VXI 1.0 Manual       Manual   \n",
       "2756        2018 Maruti Swift                LXI Manual       Manual   \n",
       "2757      2014 Maruti Celerio         VXI AMT Automatic    Automatic   \n",
       "2758  2013 Maruti Swift Dzire          VDI BS IV Manual       Manual   \n",
       "2759        2017 Renault Kwid            CLIMBER 1.0 AT                \n",
       "\n",
       "     Km_driven      Owner    Fuel  Discount Discount_price Sale_price  \n",
       "0       3,252   1st Owner  Petrol   ₹5,000        4,31,699   4,36,699  \n",
       "1      13,807   1st Owner  Petrol  ₹11,000        2,16,899   2,27,899  \n",
       "2       3,865   1st Owner  Petrol   ₹5,000        5,16,399   5,21,399  \n",
       "3       3,362   1st Owner  Petrol   ₹5,000        6,20,699   6,25,699  \n",
       "4       5,645   1st Owner  Petrol   ₹6,000        5,75,299   5,81,299  \n",
       "...        ...        ...     ...       ...            ...        ...  \n",
       "2755   11,213   1st Owner  Petrol  ₹37,000        4,68,599   5,05,599  \n",
       "2756    4,482   1st Owner  Petrol   ₹5,000        5,23,299   5,28,299  \n",
       "2757   19,045   2nd Owner  Petrol  ₹16,000        3,25,399   3,41,399  \n",
       "2758   33,554   1st Owner  Diesel   ₹5,000        3,70,199   3,75,199  \n",
       "2759   11,721   1st Owner  Petrol  ₹15,000        3,83,799   3,98,799  \n",
       "\n",
       "[2760 rows x 9 columns]"
      ]
     },
     "execution_count": 56,
     "metadata": {},
     "output_type": "execute_result"
    }
   ],
   "source": [
    "ds=pd.DataFrame({\"Name\":car_name,\n",
    "                 \"Model\":car_model,\n",
    "                \"Transmission\":trans,\n",
    "                \"Km_driven\":km,\n",
    "                \"Owner\":owner,\n",
    "                \"Fuel\":fuel,\n",
    "                \"Discount\":discount,\n",
    "                \"Discount_price\":dis_price,\n",
    "                \"Sale_price\":car_price})\n",
    "ds"
   ]
  },
  {
   "cell_type": "code",
   "execution_count": 57,
   "id": "0667be24",
   "metadata": {},
   "outputs": [],
   "source": [
    "#Now the location is Chennai"
   ]
  },
  {
   "cell_type": "code",
   "execution_count": 125,
   "id": "f5cfd993",
   "metadata": {},
   "outputs": [],
   "source": [
    "# Activating the chrome browser\n",
    "driver=webdriver.Chrome(\"chromedriver.exe\") \n",
    "time.sleep(3)"
   ]
  },
  {
   "cell_type": "code",
   "execution_count": 126,
   "id": "f40fad90",
   "metadata": {},
   "outputs": [],
   "source": [
    "# opening the homepage of cars24\n",
    "url=\"https://www.cars24.com/buy-used-car?sort=P&storeCityId=5732&pinId=600001\"\n",
    "driver.get(url)"
   ]
  },
  {
   "cell_type": "code",
   "execution_count": 133,
   "id": "d57491a8",
   "metadata": {},
   "outputs": [
    {
     "data": {
      "text/html": [
       "<div>\n",
       "<style scoped>\n",
       "    .dataframe tbody tr th:only-of-type {\n",
       "        vertical-align: middle;\n",
       "    }\n",
       "\n",
       "    .dataframe tbody tr th {\n",
       "        vertical-align: top;\n",
       "    }\n",
       "\n",
       "    .dataframe thead th {\n",
       "        text-align: right;\n",
       "    }\n",
       "</style>\n",
       "<table border=\"1\" class=\"dataframe\">\n",
       "  <thead>\n",
       "    <tr style=\"text-align: right;\">\n",
       "      <th></th>\n",
       "      <th>Name</th>\n",
       "      <th>Model</th>\n",
       "      <th>Transmission</th>\n",
       "      <th>Km_driven</th>\n",
       "      <th>Owner</th>\n",
       "      <th>Fuel</th>\n",
       "      <th>Discount</th>\n",
       "      <th>Discount_price</th>\n",
       "      <th>Sale_price</th>\n",
       "    </tr>\n",
       "  </thead>\n",
       "  <tbody>\n",
       "    <tr>\n",
       "      <th>0</th>\n",
       "      <td>2020 Maruti Alto</td>\n",
       "      <td>LXI</td>\n",
       "      <td>Manual</td>\n",
       "      <td>3,494</td>\n",
       "      <td>1st Owner</td>\n",
       "      <td>Petrol</td>\n",
       "      <td>₹5,000</td>\n",
       "      <td>4,19,599</td>\n",
       "      <td>4,24,599</td>\n",
       "    </tr>\n",
       "    <tr>\n",
       "      <th>1</th>\n",
       "      <td>2014 Maruti Swift</td>\n",
       "      <td>VXI</td>\n",
       "      <td>Manual</td>\n",
       "      <td>3,600</td>\n",
       "      <td>1st Owner</td>\n",
       "      <td>Petrol</td>\n",
       "      <td>₹20,000</td>\n",
       "      <td>4,48,999</td>\n",
       "      <td>4,68,999</td>\n",
       "    </tr>\n",
       "    <tr>\n",
       "      <th>2</th>\n",
       "      <td>2011 Hyundai i10</td>\n",
       "      <td>MAGNA 1.2 KAPPA2</td>\n",
       "      <td>Manual</td>\n",
       "      <td>13,179</td>\n",
       "      <td>1st Owner</td>\n",
       "      <td>Petrol</td>\n",
       "      <td>₹8,000</td>\n",
       "      <td>3,18,999</td>\n",
       "      <td>3,26,999</td>\n",
       "    </tr>\n",
       "    <tr>\n",
       "      <th>3</th>\n",
       "      <td>2011 Maruti Alto</td>\n",
       "      <td>LXI</td>\n",
       "      <td>Manual</td>\n",
       "      <td>23,217</td>\n",
       "      <td>1st Owner</td>\n",
       "      <td>Petrol</td>\n",
       "      <td>₹7,000</td>\n",
       "      <td>2,48,099</td>\n",
       "      <td>2,55,099</td>\n",
       "    </tr>\n",
       "    <tr>\n",
       "      <th>4</th>\n",
       "      <td>2014 Maruti Eeco</td>\n",
       "      <td>5 STR WITH AC PLUSHTR</td>\n",
       "      <td>Manual</td>\n",
       "      <td>18,371</td>\n",
       "      <td>1st Owner</td>\n",
       "      <td>Petrol</td>\n",
       "      <td>₹10,000</td>\n",
       "      <td>3,54,499</td>\n",
       "      <td>3,64,499</td>\n",
       "    </tr>\n",
       "    <tr>\n",
       "      <th>...</th>\n",
       "      <td>...</td>\n",
       "      <td>...</td>\n",
       "      <td>...</td>\n",
       "      <td>...</td>\n",
       "      <td>...</td>\n",
       "      <td>...</td>\n",
       "      <td>...</td>\n",
       "      <td>...</td>\n",
       "      <td>...</td>\n",
       "    </tr>\n",
       "    <tr>\n",
       "      <th>2575</th>\n",
       "      <td>2016 Maruti Wagon R 1.0</td>\n",
       "      <td>VXI</td>\n",
       "      <td>Manual</td>\n",
       "      <td>33,463</td>\n",
       "      <td>1st Owner</td>\n",
       "      <td>Petrol</td>\n",
       "      <td>₹6,000</td>\n",
       "      <td>3,88,699</td>\n",
       "      <td>3,94,699</td>\n",
       "    </tr>\n",
       "    <tr>\n",
       "      <th>2576</th>\n",
       "      <td>2015 Hyundai Eon</td>\n",
       "      <td>SPORTZ</td>\n",
       "      <td>Manual</td>\n",
       "      <td>15,346</td>\n",
       "      <td>3rd Owner</td>\n",
       "      <td>Petrol</td>\n",
       "      <td>₹20,000</td>\n",
       "      <td>3,01,299</td>\n",
       "      <td>3,21,299</td>\n",
       "    </tr>\n",
       "    <tr>\n",
       "      <th>2577</th>\n",
       "      <td>2012 Maruti Wagon R 1.0</td>\n",
       "      <td>VXI</td>\n",
       "      <td>Manual</td>\n",
       "      <td>38,553</td>\n",
       "      <td>1st Owner</td>\n",
       "      <td>Petrol</td>\n",
       "      <td>₹12,000</td>\n",
       "      <td>3,15,199</td>\n",
       "      <td>3,27,199</td>\n",
       "    </tr>\n",
       "    <tr>\n",
       "      <th>2578</th>\n",
       "      <td>2018 Tata Tiago</td>\n",
       "      <td>XT 1.2 REVOTRON</td>\n",
       "      <td>Manual</td>\n",
       "      <td>11,253</td>\n",
       "      <td>1st Owner</td>\n",
       "      <td>Petrol</td>\n",
       "      <td>₹7,000</td>\n",
       "      <td>4,86,799</td>\n",
       "      <td>4,93,799</td>\n",
       "    </tr>\n",
       "    <tr>\n",
       "      <th>2579</th>\n",
       "      <td>2017 Maruti Alto 800</td>\n",
       "      <td>VXI</td>\n",
       "      <td>Manual</td>\n",
       "      <td>21,239</td>\n",
       "      <td>1st Owner</td>\n",
       "      <td>Petrol</td>\n",
       "      <td>₹37,000</td>\n",
       "      <td>3,20,999</td>\n",
       "      <td>3,57,999</td>\n",
       "    </tr>\n",
       "  </tbody>\n",
       "</table>\n",
       "<p>2580 rows × 9 columns</p>\n",
       "</div>"
      ],
      "text/plain": [
       "                         Name                   Model Transmission Km_driven  \\\n",
       "0            2020 Maruti Alto                    LXI        Manual    3,494    \n",
       "1           2014 Maruti Swift                    VXI        Manual    3,600    \n",
       "2            2011 Hyundai i10       MAGNA 1.2 KAPPA2        Manual   13,179    \n",
       "3            2011 Maruti Alto                    LXI        Manual   23,217    \n",
       "4            2014 Maruti Eeco  5 STR WITH AC PLUSHTR        Manual   18,371    \n",
       "...                       ...                     ...          ...       ...   \n",
       "2575  2016 Maruti Wagon R 1.0                    VXI        Manual   33,463    \n",
       "2576         2015 Hyundai Eon                 SPORTZ        Manual   15,346    \n",
       "2577  2012 Maruti Wagon R 1.0                    VXI        Manual   38,553    \n",
       "2578          2018 Tata Tiago        XT 1.2 REVOTRON        Manual   11,253    \n",
       "2579     2017 Maruti Alto 800                    VXI        Manual   21,239    \n",
       "\n",
       "          Owner    Fuel  Discount Discount_price Sale_price  \n",
       "0     1st Owner  Petrol   ₹5,000        4,19,599   4,24,599  \n",
       "1     1st Owner  Petrol  ₹20,000        4,48,999   4,68,999  \n",
       "2     1st Owner  Petrol   ₹8,000        3,18,999   3,26,999  \n",
       "3     1st Owner  Petrol   ₹7,000        2,48,099   2,55,099  \n",
       "4     1st Owner  Petrol  ₹10,000        3,54,499   3,64,499  \n",
       "...         ...     ...       ...            ...        ...  \n",
       "2575  1st Owner  Petrol   ₹6,000        3,88,699   3,94,699  \n",
       "2576  3rd Owner  Petrol  ₹20,000        3,01,299   3,21,299  \n",
       "2577  1st Owner  Petrol  ₹12,000        3,15,199   3,27,199  \n",
       "2578  1st Owner  Petrol   ₹7,000        4,86,799   4,93,799  \n",
       "2579  1st Owner  Petrol  ₹37,000        3,20,999   3,57,999  \n",
       "\n",
       "[2580 rows x 9 columns]"
      ]
     },
     "execution_count": 133,
     "metadata": {},
     "output_type": "execute_result"
    }
   ],
   "source": [
    "#scrapping name of the car\n",
    "car_name=[]\n",
    "car_model=[]\n",
    "trans=[]\n",
    "km=[]\n",
    "owner=[]\n",
    "fuel=[]\n",
    "discount=[]\n",
    "dis_price=[]\n",
    "car_price=[]\n",
    "\n",
    "\n",
    "for page in range(1,130):\n",
    "    try:\n",
    "        name=driver.find_elements_by_xpath('//h2[@class=\"_3FpCg\"]')\n",
    "        for a in name:\n",
    "            car_name.append(a.text)\n",
    "    except NoSuchElementnException:\n",
    "        car_name.append(\"No details available\")\n",
    "        \n",
    "time.sleep(2)\n",
    "for page in range(1,130):\n",
    "    try:\n",
    "        model=driver.find_elements_by_xpath('//p[@class=\"cvakB\"]')\n",
    "        for b in model:\n",
    "            car_model.append(b.text.replace(\"Manual\",\"\"))\n",
    "    except NoSuchElementnException:\n",
    "        car_model.append(\"No details available\") \n",
    "        \n",
    "time.sleep(2)  \n",
    "for page in range(1,130):\n",
    "    try:\n",
    "        price=driver.find_elements_by_xpath(\"//p[@class='_31Wtw']\")\n",
    "        for c in price:\n",
    "            car_price.append(c.text.replace(\"₹\",\"\"))\n",
    "    except NoSuchElementException:\n",
    "        car_price.append(\"No details available\") \n",
    "        \n",
    "time.sleep(2) \n",
    "for page in range(1,130):\n",
    "    try:\n",
    "        tran=driver.find_elements_by_xpath(\"//p[@class='cvakB']/span\")\n",
    "        for d in tran:\n",
    "            trans.append(d.text)\n",
    "    except NoSuchElementException:#handling no such element exception\n",
    "        trans.append('No details available')  \n",
    "        \n",
    "time.sleep(2)\n",
    "\n",
    "for page in range(1,130):\n",
    "    try:\n",
    "        kms=driver.find_elements_by_xpath(\"//ul[@class='bVR0c']/li[1]\")\n",
    "        for e in kms:\n",
    "            km.append(e.text.replace(\"km\",\"\"))\n",
    "    except NoSuchElementException:#handling no such element exception\n",
    "        km.append('No details available')\n",
    "    except StaleElementReferenceException:#handling Stale element exception\n",
    "        km.append('No details available')\n",
    "        \n",
    "time.sleep(2) \n",
    "\n",
    "for page in range(1,130):\n",
    "    try:\n",
    "        own=driver.find_elements_by_xpath(\"//ul[@class='bVR0c']/li[2]\")\n",
    "        for f in own:\n",
    "            owner.append(f.text)\n",
    "    except NoSuchElementException:#handling no such element exception\n",
    "        owner.append('No details available')\n",
    "    except StaleElementReferenceException:#handling Stale element exception\n",
    "        owner.append('No details available')\n",
    "\n",
    "time.sleep(2)   \n",
    "for page in range(1,130):\n",
    "    try:\n",
    "        t_fuel=driver.find_elements_by_xpath(\"//ul[@class='bVR0c']/li[3]\")\n",
    "        for g in t_fuel:\n",
    "            fuel.append(g.text)\n",
    "    except NoSuchElementException:#handling no such element exception\n",
    "        owner.append('No details available')\n",
    "    except StaleElementReferenceException:#handling Stale element exception\n",
    "        owner.append('No details available')\n",
    "        \n",
    "        \n",
    "time.sleep(2) \n",
    "\n",
    "for page in range(1,130):\n",
    "    try:\n",
    "        dis=driver.find_elements_by_xpath(\"//div[@class='_3mZ8j']\")\n",
    "        for h in dis:\n",
    "            discount.append(h.text.replace(\"OFF\",\"\"))\n",
    "    except NoSuchElementException:#handling no such element exception\n",
    "        discount.append('No details available')\n",
    "        \n",
    "time.sleep(2) \n",
    "\n",
    "for page in range(1,130):\n",
    "    try:\n",
    "        d_price=driver.find_elements_by_xpath(\"//div[@class='_7udZZ']\")\n",
    "        for t in d_price:\n",
    "            dis_price.append(t.text.replace(\"₹\",\"\"))\n",
    "    except NoSuchElementException:#handling no such element exception\n",
    "        dis_price.append('No details available')\n",
    "\n",
    "# creating the dataframe\n",
    "dt=pd.DataFrame({\"Name\":car_name,\n",
    "                 \"Model\":car_model,\n",
    "                \"Transmission\":trans,\n",
    "                \"Km_driven\":km,\n",
    "                \"Owner\":owner,\n",
    "                \"Fuel\":fuel,\n",
    "                \"Discount\":discount,\n",
    "                \"Discount_price\":dis_price,\n",
    "                \"Sale_price\":car_price})\n",
    "dt"
   ]
  },
  {
   "cell_type": "code",
   "execution_count": 139,
   "id": "13834806",
   "metadata": {},
   "outputs": [],
   "source": [
    "# Let's concatenate bothe the dataframe ds and dt"
   ]
  },
  {
   "cell_type": "code",
   "execution_count": 140,
   "id": "c6c479a5",
   "metadata": {},
   "outputs": [
    {
     "data": {
      "text/html": [
       "<div>\n",
       "<style scoped>\n",
       "    .dataframe tbody tr th:only-of-type {\n",
       "        vertical-align: middle;\n",
       "    }\n",
       "\n",
       "    .dataframe tbody tr th {\n",
       "        vertical-align: top;\n",
       "    }\n",
       "\n",
       "    .dataframe thead th {\n",
       "        text-align: right;\n",
       "    }\n",
       "</style>\n",
       "<table border=\"1\" class=\"dataframe\">\n",
       "  <thead>\n",
       "    <tr style=\"text-align: right;\">\n",
       "      <th></th>\n",
       "      <th>Name</th>\n",
       "      <th>Model</th>\n",
       "      <th>Transmission</th>\n",
       "      <th>Km_driven</th>\n",
       "      <th>Owner</th>\n",
       "      <th>Fuel</th>\n",
       "      <th>Discount</th>\n",
       "      <th>Discount_price</th>\n",
       "      <th>Sale_price</th>\n",
       "    </tr>\n",
       "  </thead>\n",
       "  <tbody>\n",
       "    <tr>\n",
       "      <th>0</th>\n",
       "      <td>2020 Renault Kwid</td>\n",
       "      <td>1.0 RXT Opt AT Automatic</td>\n",
       "      <td>Automatic</td>\n",
       "      <td>3,252</td>\n",
       "      <td>1st Owner</td>\n",
       "      <td>Petrol</td>\n",
       "      <td>₹5,000</td>\n",
       "      <td>4,31,699</td>\n",
       "      <td>4,36,699</td>\n",
       "    </tr>\n",
       "    <tr>\n",
       "      <th>1</th>\n",
       "      <td>2013 Maruti Alto 800</td>\n",
       "      <td>LXI Manual</td>\n",
       "      <td>Manual</td>\n",
       "      <td>13,807</td>\n",
       "      <td>1st Owner</td>\n",
       "      <td>Petrol</td>\n",
       "      <td>₹11,000</td>\n",
       "      <td>2,16,899</td>\n",
       "      <td>2,27,899</td>\n",
       "    </tr>\n",
       "    <tr>\n",
       "      <th>2</th>\n",
       "      <td>2020 Maruti New Wagon-R</td>\n",
       "      <td>VXI 1.0 Manual</td>\n",
       "      <td>Manual</td>\n",
       "      <td>3,865</td>\n",
       "      <td>1st Owner</td>\n",
       "      <td>Petrol</td>\n",
       "      <td>₹5,000</td>\n",
       "      <td>5,16,399</td>\n",
       "      <td>5,21,399</td>\n",
       "    </tr>\n",
       "    <tr>\n",
       "      <th>3</th>\n",
       "      <td>2019 Maruti Swift</td>\n",
       "      <td>VXI Manual</td>\n",
       "      <td>Manual</td>\n",
       "      <td>3,362</td>\n",
       "      <td>1st Owner</td>\n",
       "      <td>Petrol</td>\n",
       "      <td>₹5,000</td>\n",
       "      <td>6,20,699</td>\n",
       "      <td>6,25,699</td>\n",
       "    </tr>\n",
       "    <tr>\n",
       "      <th>4</th>\n",
       "      <td>2020 Maruti Baleno</td>\n",
       "      <td>SIGMA 1.2 K12 Manual</td>\n",
       "      <td>Manual</td>\n",
       "      <td>5,645</td>\n",
       "      <td>1st Owner</td>\n",
       "      <td>Petrol</td>\n",
       "      <td>₹6,000</td>\n",
       "      <td>5,75,299</td>\n",
       "      <td>5,81,299</td>\n",
       "    </tr>\n",
       "    <tr>\n",
       "      <th>...</th>\n",
       "      <td>...</td>\n",
       "      <td>...</td>\n",
       "      <td>...</td>\n",
       "      <td>...</td>\n",
       "      <td>...</td>\n",
       "      <td>...</td>\n",
       "      <td>...</td>\n",
       "      <td>...</td>\n",
       "      <td>...</td>\n",
       "    </tr>\n",
       "    <tr>\n",
       "      <th>5335</th>\n",
       "      <td>2016 Maruti Wagon R 1.0</td>\n",
       "      <td>VXI</td>\n",
       "      <td>Manual</td>\n",
       "      <td>33,463</td>\n",
       "      <td>1st Owner</td>\n",
       "      <td>Petrol</td>\n",
       "      <td>₹6,000</td>\n",
       "      <td>3,88,699</td>\n",
       "      <td>3,94,699</td>\n",
       "    </tr>\n",
       "    <tr>\n",
       "      <th>5336</th>\n",
       "      <td>2015 Hyundai Eon</td>\n",
       "      <td>SPORTZ</td>\n",
       "      <td>Manual</td>\n",
       "      <td>15,346</td>\n",
       "      <td>3rd Owner</td>\n",
       "      <td>Petrol</td>\n",
       "      <td>₹20,000</td>\n",
       "      <td>3,01,299</td>\n",
       "      <td>3,21,299</td>\n",
       "    </tr>\n",
       "    <tr>\n",
       "      <th>5337</th>\n",
       "      <td>2012 Maruti Wagon R 1.0</td>\n",
       "      <td>VXI</td>\n",
       "      <td>Manual</td>\n",
       "      <td>38,553</td>\n",
       "      <td>1st Owner</td>\n",
       "      <td>Petrol</td>\n",
       "      <td>₹12,000</td>\n",
       "      <td>3,15,199</td>\n",
       "      <td>3,27,199</td>\n",
       "    </tr>\n",
       "    <tr>\n",
       "      <th>5338</th>\n",
       "      <td>2018 Tata Tiago</td>\n",
       "      <td>XT 1.2 REVOTRON</td>\n",
       "      <td>Manual</td>\n",
       "      <td>11,253</td>\n",
       "      <td>1st Owner</td>\n",
       "      <td>Petrol</td>\n",
       "      <td>₹7,000</td>\n",
       "      <td>4,86,799</td>\n",
       "      <td>4,93,799</td>\n",
       "    </tr>\n",
       "    <tr>\n",
       "      <th>5339</th>\n",
       "      <td>2017 Maruti Alto 800</td>\n",
       "      <td>VXI</td>\n",
       "      <td>Manual</td>\n",
       "      <td>21,239</td>\n",
       "      <td>1st Owner</td>\n",
       "      <td>Petrol</td>\n",
       "      <td>₹37,000</td>\n",
       "      <td>3,20,999</td>\n",
       "      <td>3,57,999</td>\n",
       "    </tr>\n",
       "  </tbody>\n",
       "</table>\n",
       "<p>5340 rows × 9 columns</p>\n",
       "</div>"
      ],
      "text/plain": [
       "                         Name                     Model Transmission  \\\n",
       "0           2020 Renault Kwid  1.0 RXT Opt AT Automatic    Automatic   \n",
       "1        2013 Maruti Alto 800                LXI Manual       Manual   \n",
       "2     2020 Maruti New Wagon-R            VXI 1.0 Manual       Manual   \n",
       "3           2019 Maruti Swift                VXI Manual       Manual   \n",
       "4          2020 Maruti Baleno      SIGMA 1.2 K12 Manual       Manual   \n",
       "...                       ...                       ...          ...   \n",
       "5335  2016 Maruti Wagon R 1.0                      VXI        Manual   \n",
       "5336         2015 Hyundai Eon                   SPORTZ        Manual   \n",
       "5337  2012 Maruti Wagon R 1.0                      VXI        Manual   \n",
       "5338          2018 Tata Tiago          XT 1.2 REVOTRON        Manual   \n",
       "5339     2017 Maruti Alto 800                      VXI        Manual   \n",
       "\n",
       "     Km_driven      Owner    Fuel  Discount Discount_price Sale_price  \n",
       "0       3,252   1st Owner  Petrol   ₹5,000        4,31,699   4,36,699  \n",
       "1      13,807   1st Owner  Petrol  ₹11,000        2,16,899   2,27,899  \n",
       "2       3,865   1st Owner  Petrol   ₹5,000        5,16,399   5,21,399  \n",
       "3       3,362   1st Owner  Petrol   ₹5,000        6,20,699   6,25,699  \n",
       "4       5,645   1st Owner  Petrol   ₹6,000        5,75,299   5,81,299  \n",
       "...        ...        ...     ...       ...            ...        ...  \n",
       "5335   33,463   1st Owner  Petrol   ₹6,000        3,88,699   3,94,699  \n",
       "5336   15,346   3rd Owner  Petrol  ₹20,000        3,01,299   3,21,299  \n",
       "5337   38,553   1st Owner  Petrol  ₹12,000        3,15,199   3,27,199  \n",
       "5338   11,253   1st Owner  Petrol   ₹7,000        4,86,799   4,93,799  \n",
       "5339   21,239   1st Owner  Petrol  ₹37,000        3,20,999   3,57,999  \n",
       "\n",
       "[5340 rows x 9 columns]"
      ]
     },
     "execution_count": 140,
     "metadata": {},
     "output_type": "execute_result"
    }
   ],
   "source": [
    "df=pd.concat([ds,dt],axis=0)\n",
    "df.reset_index(drop=True,inplace=True)\n",
    "df"
   ]
  },
  {
   "cell_type": "code",
   "execution_count": 141,
   "id": "1917ea0c",
   "metadata": {},
   "outputs": [
    {
     "data": {
      "text/plain": [
       "(5340, 9)"
      ]
     },
     "execution_count": 141,
     "metadata": {},
     "output_type": "execute_result"
    }
   ],
   "source": [
    "df.shape"
   ]
  },
  {
   "cell_type": "markdown",
   "id": "e987bc4d",
   "metadata": {},
   "source": [
    "Here we can see that we have 5340 rows and 9 columns in our dataset."
   ]
  },
  {
   "cell_type": "markdown",
   "id": "f9b0e424",
   "metadata": {},
   "source": [
    "### Saving the dataframe in csv"
   ]
  },
  {
   "cell_type": "code",
   "execution_count": 144,
   "id": "cab73483",
   "metadata": {},
   "outputs": [],
   "source": [
    "df.to_csv(\"car.csv\")"
   ]
  },
  {
   "cell_type": "code",
   "execution_count": null,
   "id": "2849ff92",
   "metadata": {},
   "outputs": [],
   "source": []
  },
  {
   "cell_type": "code",
   "execution_count": null,
   "id": "c13beecc",
   "metadata": {},
   "outputs": [],
   "source": []
  }
 ],
 "metadata": {
  "kernelspec": {
   "display_name": "Python 3",
   "language": "python",
   "name": "python3"
  },
  "language_info": {
   "codemirror_mode": {
    "name": "ipython",
    "version": 3
   },
   "file_extension": ".py",
   "mimetype": "text/x-python",
   "name": "python",
   "nbconvert_exporter": "python",
   "pygments_lexer": "ipython3",
   "version": "3.8.8"
  }
 },
 "nbformat": 4,
 "nbformat_minor": 5
}
