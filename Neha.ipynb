{
 "cells": [
  {
   "cell_type": "code",
   "execution_count": 1,
   "id": "0ab598b5",
   "metadata": {},
   "outputs": [],
   "source": [
    "import pandas as pd\n",
    "import numpy as np\n"
   ]
  },
  {
   "cell_type": "code",
   "execution_count": 2,
   "id": "fb45f66e",
   "metadata": {},
   "outputs": [
    {
     "data": {
      "text/html": [
       "<div>\n",
       "<style scoped>\n",
       "    .dataframe tbody tr th:only-of-type {\n",
       "        vertical-align: middle;\n",
       "    }\n",
       "\n",
       "    .dataframe tbody tr th {\n",
       "        vertical-align: top;\n",
       "    }\n",
       "\n",
       "    .dataframe thead th {\n",
       "        text-align: right;\n",
       "    }\n",
       "</style>\n",
       "<table border=\"1\" class=\"dataframe\">\n",
       "  <thead>\n",
       "    <tr style=\"text-align: right;\">\n",
       "      <th></th>\n",
       "      <th>Date</th>\n",
       "      <th>TimeStamp</th>\n",
       "      <th>No_of_Occupants</th>\n",
       "      <th>Activity 1</th>\n",
       "      <th>Activity 2</th>\n",
       "      <th>Room Number</th>\n",
       "      <th>Unnamed: 6</th>\n",
       "      <th>Unnamed: 7</th>\n",
       "      <th>Unnamed: 8</th>\n",
       "      <th>Unnamed: 9</th>\n",
       "    </tr>\n",
       "  </thead>\n",
       "  <tbody>\n",
       "    <tr>\n",
       "      <th>0</th>\n",
       "      <td>2022-03-12</td>\n",
       "      <td>2022-03-12 09:00:00</td>\n",
       "      <td>2</td>\n",
       "      <td>False</td>\n",
       "      <td>True</td>\n",
       "      <td>M2</td>\n",
       "      <td>NaN</td>\n",
       "      <td>NaN</td>\n",
       "      <td>NaN</td>\n",
       "      <td>NaN</td>\n",
       "    </tr>\n",
       "    <tr>\n",
       "      <th>1</th>\n",
       "      <td>2022-03-12</td>\n",
       "      <td>2022-03-12 09:31:00</td>\n",
       "      <td>3</td>\n",
       "      <td>False</td>\n",
       "      <td>True</td>\n",
       "      <td>M2</td>\n",
       "      <td>NaN</td>\n",
       "      <td>NaN</td>\n",
       "      <td>NaN</td>\n",
       "      <td>NaN</td>\n",
       "    </tr>\n",
       "    <tr>\n",
       "      <th>2</th>\n",
       "      <td>2022-03-12</td>\n",
       "      <td>2022-03-12 09:40:00</td>\n",
       "      <td>3</td>\n",
       "      <td>False</td>\n",
       "      <td>False</td>\n",
       "      <td>M2</td>\n",
       "      <td>NaN</td>\n",
       "      <td>NaN</td>\n",
       "      <td>NaN</td>\n",
       "      <td>NaN</td>\n",
       "    </tr>\n",
       "    <tr>\n",
       "      <th>3</th>\n",
       "      <td>2022-03-12</td>\n",
       "      <td>2022-03-12 10:00:00</td>\n",
       "      <td>2</td>\n",
       "      <td>False</td>\n",
       "      <td>False</td>\n",
       "      <td>M2</td>\n",
       "      <td>NaN</td>\n",
       "      <td>NaN</td>\n",
       "      <td>NaN</td>\n",
       "      <td>NaN</td>\n",
       "    </tr>\n",
       "    <tr>\n",
       "      <th>4</th>\n",
       "      <td>2022-03-12</td>\n",
       "      <td>2022-03-12 10:32:00</td>\n",
       "      <td>4</td>\n",
       "      <td>False</td>\n",
       "      <td>False</td>\n",
       "      <td>M2</td>\n",
       "      <td>NaN</td>\n",
       "      <td>NaN</td>\n",
       "      <td>NaN</td>\n",
       "      <td>NaN</td>\n",
       "    </tr>\n",
       "    <tr>\n",
       "      <th>...</th>\n",
       "      <td>...</td>\n",
       "      <td>...</td>\n",
       "      <td>...</td>\n",
       "      <td>...</td>\n",
       "      <td>...</td>\n",
       "      <td>...</td>\n",
       "      <td>...</td>\n",
       "      <td>...</td>\n",
       "      <td>...</td>\n",
       "      <td>...</td>\n",
       "    </tr>\n",
       "    <tr>\n",
       "      <th>82</th>\n",
       "      <td>2022-03-16</td>\n",
       "      <td>2022-03-16 15:48:00</td>\n",
       "      <td>2</td>\n",
       "      <td>False</td>\n",
       "      <td>False</td>\n",
       "      <td>M1</td>\n",
       "      <td>NaN</td>\n",
       "      <td>NaN</td>\n",
       "      <td>NaN</td>\n",
       "      <td>NaN</td>\n",
       "    </tr>\n",
       "    <tr>\n",
       "      <th>83</th>\n",
       "      <td>2022-03-16</td>\n",
       "      <td>2022-03-16 18:01:00</td>\n",
       "      <td>6</td>\n",
       "      <td>False</td>\n",
       "      <td>False</td>\n",
       "      <td>M2</td>\n",
       "      <td>NaN</td>\n",
       "      <td>NaN</td>\n",
       "      <td>NaN</td>\n",
       "      <td>NaN</td>\n",
       "    </tr>\n",
       "    <tr>\n",
       "      <th>84</th>\n",
       "      <td>2022-03-16</td>\n",
       "      <td>2022-03-16 19:51:00</td>\n",
       "      <td>3</td>\n",
       "      <td>False</td>\n",
       "      <td>False</td>\n",
       "      <td>M2</td>\n",
       "      <td>NaN</td>\n",
       "      <td>NaN</td>\n",
       "      <td>NaN</td>\n",
       "      <td>NaN</td>\n",
       "    </tr>\n",
       "    <tr>\n",
       "      <th>85</th>\n",
       "      <td>2022-03-16</td>\n",
       "      <td>2022-03-16 22:03:50</td>\n",
       "      <td>4</td>\n",
       "      <td>False</td>\n",
       "      <td>False</td>\n",
       "      <td>M2</td>\n",
       "      <td>NaN</td>\n",
       "      <td>NaN</td>\n",
       "      <td>NaN</td>\n",
       "      <td>NaN</td>\n",
       "    </tr>\n",
       "    <tr>\n",
       "      <th>86</th>\n",
       "      <td>2022-03-16</td>\n",
       "      <td>2022-03-16 23:00:00</td>\n",
       "      <td>6</td>\n",
       "      <td>False</td>\n",
       "      <td>False</td>\n",
       "      <td>M2</td>\n",
       "      <td>NaN</td>\n",
       "      <td>NaN</td>\n",
       "      <td>NaN</td>\n",
       "      <td>NaN</td>\n",
       "    </tr>\n",
       "  </tbody>\n",
       "</table>\n",
       "<p>87 rows × 10 columns</p>\n",
       "</div>"
      ],
      "text/plain": [
       "         Date           TimeStamp  No_of_Occupants  Activity 1  Activity 2  \\\n",
       "0  2022-03-12 2022-03-12 09:00:00                2       False        True   \n",
       "1  2022-03-12 2022-03-12 09:31:00                3       False        True   \n",
       "2  2022-03-12 2022-03-12 09:40:00                3       False       False   \n",
       "3  2022-03-12 2022-03-12 10:00:00                2       False       False   \n",
       "4  2022-03-12 2022-03-12 10:32:00                4       False       False   \n",
       "..        ...                 ...              ...         ...         ...   \n",
       "82 2022-03-16 2022-03-16 15:48:00                2       False       False   \n",
       "83 2022-03-16 2022-03-16 18:01:00                6       False       False   \n",
       "84 2022-03-16 2022-03-16 19:51:00                3       False       False   \n",
       "85 2022-03-16 2022-03-16 22:03:50                4       False       False   \n",
       "86 2022-03-16 2022-03-16 23:00:00                6       False       False   \n",
       "\n",
       "   Room Number  Unnamed: 6  Unnamed: 7  Unnamed: 8  Unnamed: 9  \n",
       "0           M2         NaN         NaN         NaN         NaN  \n",
       "1           M2         NaN         NaN         NaN         NaN  \n",
       "2           M2         NaN         NaN         NaN         NaN  \n",
       "3           M2         NaN         NaN         NaN         NaN  \n",
       "4           M2         NaN         NaN         NaN         NaN  \n",
       "..         ...         ...         ...         ...         ...  \n",
       "82          M1         NaN         NaN         NaN         NaN  \n",
       "83          M2         NaN         NaN         NaN         NaN  \n",
       "84          M2         NaN         NaN         NaN         NaN  \n",
       "85          M2         NaN         NaN         NaN         NaN  \n",
       "86          M2         NaN         NaN         NaN         NaN  \n",
       "\n",
       "[87 rows x 10 columns]"
      ]
     },
     "execution_count": 2,
     "metadata": {},
     "output_type": "execute_result"
    }
   ],
   "source": [
    "ds=pd.read_excel(\"DAFebAssignment_RawData.xlsx\")\n",
    "ds"
   ]
  },
  {
   "cell_type": "code",
   "execution_count": 3,
   "id": "ff5ae490",
   "metadata": {},
   "outputs": [
    {
     "data": {
      "text/html": [
       "<div>\n",
       "<style scoped>\n",
       "    .dataframe tbody tr th:only-of-type {\n",
       "        vertical-align: middle;\n",
       "    }\n",
       "\n",
       "    .dataframe tbody tr th {\n",
       "        vertical-align: top;\n",
       "    }\n",
       "\n",
       "    .dataframe thead th {\n",
       "        text-align: right;\n",
       "    }\n",
       "</style>\n",
       "<table border=\"1\" class=\"dataframe\">\n",
       "  <thead>\n",
       "    <tr style=\"text-align: right;\">\n",
       "      <th></th>\n",
       "      <th>Date</th>\n",
       "      <th>TimeStamp</th>\n",
       "      <th>No_of_Occupants</th>\n",
       "      <th>Activity 1</th>\n",
       "      <th>Activity 2</th>\n",
       "      <th>Room Number</th>\n",
       "      <th>Unnamed: 6</th>\n",
       "      <th>Unnamed: 7</th>\n",
       "      <th>Unnamed: 8</th>\n",
       "      <th>Unnamed: 9</th>\n",
       "    </tr>\n",
       "  </thead>\n",
       "  <tbody>\n",
       "    <tr>\n",
       "      <th>0</th>\n",
       "      <td>2022-03-12</td>\n",
       "      <td>2022-03-12 09:00:00</td>\n",
       "      <td>2</td>\n",
       "      <td>False</td>\n",
       "      <td>True</td>\n",
       "      <td>M2</td>\n",
       "      <td>NaN</td>\n",
       "      <td>NaN</td>\n",
       "      <td>NaN</td>\n",
       "      <td>NaN</td>\n",
       "    </tr>\n",
       "    <tr>\n",
       "      <th>1</th>\n",
       "      <td>2022-03-12</td>\n",
       "      <td>2022-03-12 09:31:00</td>\n",
       "      <td>3</td>\n",
       "      <td>False</td>\n",
       "      <td>True</td>\n",
       "      <td>M2</td>\n",
       "      <td>NaN</td>\n",
       "      <td>NaN</td>\n",
       "      <td>NaN</td>\n",
       "      <td>NaN</td>\n",
       "    </tr>\n",
       "    <tr>\n",
       "      <th>2</th>\n",
       "      <td>2022-03-12</td>\n",
       "      <td>2022-03-12 09:40:00</td>\n",
       "      <td>3</td>\n",
       "      <td>False</td>\n",
       "      <td>False</td>\n",
       "      <td>M2</td>\n",
       "      <td>NaN</td>\n",
       "      <td>NaN</td>\n",
       "      <td>NaN</td>\n",
       "      <td>NaN</td>\n",
       "    </tr>\n",
       "    <tr>\n",
       "      <th>3</th>\n",
       "      <td>2022-03-12</td>\n",
       "      <td>2022-03-12 10:00:00</td>\n",
       "      <td>2</td>\n",
       "      <td>False</td>\n",
       "      <td>False</td>\n",
       "      <td>M2</td>\n",
       "      <td>NaN</td>\n",
       "      <td>NaN</td>\n",
       "      <td>NaN</td>\n",
       "      <td>NaN</td>\n",
       "    </tr>\n",
       "    <tr>\n",
       "      <th>4</th>\n",
       "      <td>2022-03-12</td>\n",
       "      <td>2022-03-12 10:32:00</td>\n",
       "      <td>4</td>\n",
       "      <td>False</td>\n",
       "      <td>False</td>\n",
       "      <td>M2</td>\n",
       "      <td>NaN</td>\n",
       "      <td>NaN</td>\n",
       "      <td>NaN</td>\n",
       "      <td>NaN</td>\n",
       "    </tr>\n",
       "    <tr>\n",
       "      <th>...</th>\n",
       "      <td>...</td>\n",
       "      <td>...</td>\n",
       "      <td>...</td>\n",
       "      <td>...</td>\n",
       "      <td>...</td>\n",
       "      <td>...</td>\n",
       "      <td>...</td>\n",
       "      <td>...</td>\n",
       "      <td>...</td>\n",
       "      <td>...</td>\n",
       "    </tr>\n",
       "    <tr>\n",
       "      <th>82</th>\n",
       "      <td>2022-03-16</td>\n",
       "      <td>2022-03-16 15:48:00</td>\n",
       "      <td>2</td>\n",
       "      <td>False</td>\n",
       "      <td>False</td>\n",
       "      <td>M1</td>\n",
       "      <td>NaN</td>\n",
       "      <td>NaN</td>\n",
       "      <td>NaN</td>\n",
       "      <td>NaN</td>\n",
       "    </tr>\n",
       "    <tr>\n",
       "      <th>83</th>\n",
       "      <td>2022-03-16</td>\n",
       "      <td>2022-03-16 18:01:00</td>\n",
       "      <td>6</td>\n",
       "      <td>False</td>\n",
       "      <td>False</td>\n",
       "      <td>M2</td>\n",
       "      <td>NaN</td>\n",
       "      <td>NaN</td>\n",
       "      <td>NaN</td>\n",
       "      <td>NaN</td>\n",
       "    </tr>\n",
       "    <tr>\n",
       "      <th>84</th>\n",
       "      <td>2022-03-16</td>\n",
       "      <td>2022-03-16 19:51:00</td>\n",
       "      <td>3</td>\n",
       "      <td>False</td>\n",
       "      <td>False</td>\n",
       "      <td>M2</td>\n",
       "      <td>NaN</td>\n",
       "      <td>NaN</td>\n",
       "      <td>NaN</td>\n",
       "      <td>NaN</td>\n",
       "    </tr>\n",
       "    <tr>\n",
       "      <th>85</th>\n",
       "      <td>2022-03-16</td>\n",
       "      <td>2022-03-16 22:03:50</td>\n",
       "      <td>4</td>\n",
       "      <td>False</td>\n",
       "      <td>False</td>\n",
       "      <td>M2</td>\n",
       "      <td>NaN</td>\n",
       "      <td>NaN</td>\n",
       "      <td>NaN</td>\n",
       "      <td>NaN</td>\n",
       "    </tr>\n",
       "    <tr>\n",
       "      <th>86</th>\n",
       "      <td>2022-03-16</td>\n",
       "      <td>2022-03-16 23:00:00</td>\n",
       "      <td>6</td>\n",
       "      <td>False</td>\n",
       "      <td>False</td>\n",
       "      <td>M2</td>\n",
       "      <td>NaN</td>\n",
       "      <td>NaN</td>\n",
       "      <td>NaN</td>\n",
       "      <td>NaN</td>\n",
       "    </tr>\n",
       "  </tbody>\n",
       "</table>\n",
       "<p>87 rows × 10 columns</p>\n",
       "</div>"
      ],
      "text/plain": [
       "         Date           TimeStamp  No_of_Occupants  Activity 1  Activity 2  \\\n",
       "0  2022-03-12 2022-03-12 09:00:00                2       False        True   \n",
       "1  2022-03-12 2022-03-12 09:31:00                3       False        True   \n",
       "2  2022-03-12 2022-03-12 09:40:00                3       False       False   \n",
       "3  2022-03-12 2022-03-12 10:00:00                2       False       False   \n",
       "4  2022-03-12 2022-03-12 10:32:00                4       False       False   \n",
       "..        ...                 ...              ...         ...         ...   \n",
       "82 2022-03-16 2022-03-16 15:48:00                2       False       False   \n",
       "83 2022-03-16 2022-03-16 18:01:00                6       False       False   \n",
       "84 2022-03-16 2022-03-16 19:51:00                3       False       False   \n",
       "85 2022-03-16 2022-03-16 22:03:50                4       False       False   \n",
       "86 2022-03-16 2022-03-16 23:00:00                6       False       False   \n",
       "\n",
       "   Room Number  Unnamed: 6  Unnamed: 7  Unnamed: 8  Unnamed: 9  \n",
       "0           M2         NaN         NaN         NaN         NaN  \n",
       "1           M2         NaN         NaN         NaN         NaN  \n",
       "2           M2         NaN         NaN         NaN         NaN  \n",
       "3           M2         NaN         NaN         NaN         NaN  \n",
       "4           M2         NaN         NaN         NaN         NaN  \n",
       "..         ...         ...         ...         ...         ...  \n",
       "82          M1         NaN         NaN         NaN         NaN  \n",
       "83          M2         NaN         NaN         NaN         NaN  \n",
       "84          M2         NaN         NaN         NaN         NaN  \n",
       "85          M2         NaN         NaN         NaN         NaN  \n",
       "86          M2         NaN         NaN         NaN         NaN  \n",
       "\n",
       "[87 rows x 10 columns]"
      ]
     },
     "execution_count": 3,
     "metadata": {},
     "output_type": "execute_result"
    }
   ],
   "source": [
    "df=pd.DataFrame(data=ds)\n",
    "df"
   ]
  },
  {
   "cell_type": "markdown",
   "id": "cf143dab",
   "metadata": {},
   "source": [
    "## Data Preprocessing"
   ]
  },
  {
   "cell_type": "code",
   "execution_count": 4,
   "id": "fa572609",
   "metadata": {},
   "outputs": [
    {
     "data": {
      "text/plain": [
       "(87, 10)"
      ]
     },
     "execution_count": 4,
     "metadata": {},
     "output_type": "execute_result"
    }
   ],
   "source": [
    "df.shape"
   ]
  },
  {
   "cell_type": "code",
   "execution_count": 5,
   "id": "6bca078d",
   "metadata": {},
   "outputs": [
    {
     "data": {
      "text/plain": [
       "Date               datetime64[ns]\n",
       "TimeStamp          datetime64[ns]\n",
       "No_of_Occupants             int64\n",
       "Activity 1                   bool\n",
       "Activity 2                   bool\n",
       "Room Number                object\n",
       "Unnamed: 6                float64\n",
       "Unnamed: 7                float64\n",
       "Unnamed: 8                float64\n",
       "Unnamed: 9                float64\n",
       "dtype: object"
      ]
     },
     "execution_count": 5,
     "metadata": {},
     "output_type": "execute_result"
    }
   ],
   "source": [
    "df.dtypes"
   ]
  },
  {
   "cell_type": "code",
   "execution_count": 6,
   "id": "6f832a60",
   "metadata": {},
   "outputs": [
    {
     "data": {
      "text/plain": [
       "<bound method DataFrame.info of          Date           TimeStamp  No_of_Occupants  Activity 1  Activity 2  \\\n",
       "0  2022-03-12 2022-03-12 09:00:00                2       False        True   \n",
       "1  2022-03-12 2022-03-12 09:31:00                3       False        True   \n",
       "2  2022-03-12 2022-03-12 09:40:00                3       False       False   \n",
       "3  2022-03-12 2022-03-12 10:00:00                2       False       False   \n",
       "4  2022-03-12 2022-03-12 10:32:00                4       False       False   \n",
       "..        ...                 ...              ...         ...         ...   \n",
       "82 2022-03-16 2022-03-16 15:48:00                2       False       False   \n",
       "83 2022-03-16 2022-03-16 18:01:00                6       False       False   \n",
       "84 2022-03-16 2022-03-16 19:51:00                3       False       False   \n",
       "85 2022-03-16 2022-03-16 22:03:50                4       False       False   \n",
       "86 2022-03-16 2022-03-16 23:00:00                6       False       False   \n",
       "\n",
       "   Room Number  Unnamed: 6  Unnamed: 7  Unnamed: 8  Unnamed: 9  \n",
       "0           M2         NaN         NaN         NaN         NaN  \n",
       "1           M2         NaN         NaN         NaN         NaN  \n",
       "2           M2         NaN         NaN         NaN         NaN  \n",
       "3           M2         NaN         NaN         NaN         NaN  \n",
       "4           M2         NaN         NaN         NaN         NaN  \n",
       "..         ...         ...         ...         ...         ...  \n",
       "82          M1         NaN         NaN         NaN         NaN  \n",
       "83          M2         NaN         NaN         NaN         NaN  \n",
       "84          M2         NaN         NaN         NaN         NaN  \n",
       "85          M2         NaN         NaN         NaN         NaN  \n",
       "86          M2         NaN         NaN         NaN         NaN  \n",
       "\n",
       "[87 rows x 10 columns]>"
      ]
     },
     "execution_count": 6,
     "metadata": {},
     "output_type": "execute_result"
    }
   ],
   "source": [
    "df.info"
   ]
  },
  {
   "cell_type": "code",
   "execution_count": 7,
   "id": "410bd2ca",
   "metadata": {},
   "outputs": [
    {
     "data": {
      "text/plain": [
       "Index(['Date', 'TimeStamp', 'No_of_Occupants', 'Activity 1', 'Activity 2',\n",
       "       'Room Number', 'Unnamed: 6', 'Unnamed: 7', 'Unnamed: 8', 'Unnamed: 9'],\n",
       "      dtype='object')"
      ]
     },
     "execution_count": 7,
     "metadata": {},
     "output_type": "execute_result"
    }
   ],
   "source": [
    "df.columns"
   ]
  },
  {
   "cell_type": "code",
   "execution_count": 8,
   "id": "74fe1f15",
   "metadata": {},
   "outputs": [
    {
     "data": {
      "text/plain": [
       "Date                0\n",
       "TimeStamp           0\n",
       "No_of_Occupants     0\n",
       "Activity 1          0\n",
       "Activity 2          0\n",
       "Room Number         0\n",
       "Unnamed: 6         87\n",
       "Unnamed: 7         87\n",
       "Unnamed: 8         87\n",
       "Unnamed: 9         87\n",
       "dtype: int64"
      ]
     },
     "execution_count": 8,
     "metadata": {},
     "output_type": "execute_result"
    }
   ],
   "source": [
    "#Let's check misisng values\n",
    "df.isnull().sum()"
   ]
  },
  {
   "cell_type": "raw",
   "id": "29bca463",
   "metadata": {},
   "source": [
    "we can see that last four columns are completely null, So we will drop those column later."
   ]
  },
  {
   "cell_type": "code",
   "execution_count": 9,
   "id": "d930812a",
   "metadata": {},
   "outputs": [
    {
     "data": {
      "text/plain": [
       "<AxesSubplot:>"
      ]
     },
     "execution_count": 9,
     "metadata": {},
     "output_type": "execute_result"
    },
    {
     "data": {
      "image/png": "[encoded data removed]",
      "text/plain": [
       "<Figure size 432x288 with 2 Axes>"
      ]
     },
     "metadata": {
      "needs_background": "light"
     },
     "output_type": "display_data"
    }
   ],
   "source": [
    "# Let's look at the data using a heatmap\n",
    "import seaborn as sns\n",
    "sns.heatmap(df.isnull())"
   ]
  },
  {
   "cell_type": "markdown",
   "id": "01be4fc9",
   "metadata": {},
   "source": [
    "Here also we can see the null values clearly."
   ]
  },
  {
   "cell_type": "code",
   "execution_count": 10,
   "id": "033edbd8",
   "metadata": {},
   "outputs": [],
   "source": [
    "# Let's drop the null columns.\n",
    "df=df.drop([\"Unnamed: 6\",\"Unnamed: 7\",\"Unnamed: 8\",\"Unnamed: 9\"], axis=1)"
   ]
  },
  {
   "cell_type": "code",
   "execution_count": 11,
   "id": "bffb34f9",
   "metadata": {},
   "outputs": [
    {
     "data": {
      "text/html": [
       "<div>\n",
       "<style scoped>\n",
       "    .dataframe tbody tr th:only-of-type {\n",
       "        vertical-align: middle;\n",
       "    }\n",
       "\n",
       "    .dataframe tbody tr th {\n",
       "        vertical-align: top;\n",
       "    }\n",
       "\n",
       "    .dataframe thead th {\n",
       "        text-align: right;\n",
       "    }\n",
       "</style>\n",
       "<table border=\"1\" class=\"dataframe\">\n",
       "  <thead>\n",
       "    <tr style=\"text-align: right;\">\n",
       "      <th></th>\n",
       "      <th>Date</th>\n",
       "      <th>TimeStamp</th>\n",
       "      <th>No_of_Occupants</th>\n",
       "      <th>Activity 1</th>\n",
       "      <th>Activity 2</th>\n",
       "      <th>Room Number</th>\n",
       "    </tr>\n",
       "  </thead>\n",
       "  <tbody>\n",
       "    <tr>\n",
       "      <th>0</th>\n",
       "      <td>2022-03-12</td>\n",
       "      <td>2022-03-12 09:00:00</td>\n",
       "      <td>2</td>\n",
       "      <td>False</td>\n",
       "      <td>True</td>\n",
       "      <td>M2</td>\n",
       "    </tr>\n",
       "    <tr>\n",
       "      <th>1</th>\n",
       "      <td>2022-03-12</td>\n",
       "      <td>2022-03-12 09:31:00</td>\n",
       "      <td>3</td>\n",
       "      <td>False</td>\n",
       "      <td>True</td>\n",
       "      <td>M2</td>\n",
       "    </tr>\n",
       "    <tr>\n",
       "      <th>2</th>\n",
       "      <td>2022-03-12</td>\n",
       "      <td>2022-03-12 09:40:00</td>\n",
       "      <td>3</td>\n",
       "      <td>False</td>\n",
       "      <td>False</td>\n",
       "      <td>M2</td>\n",
       "    </tr>\n",
       "    <tr>\n",
       "      <th>3</th>\n",
       "      <td>2022-03-12</td>\n",
       "      <td>2022-03-12 10:00:00</td>\n",
       "      <td>2</td>\n",
       "      <td>False</td>\n",
       "      <td>False</td>\n",
       "      <td>M2</td>\n",
       "    </tr>\n",
       "    <tr>\n",
       "      <th>4</th>\n",
       "      <td>2022-03-12</td>\n",
       "      <td>2022-03-12 10:32:00</td>\n",
       "      <td>4</td>\n",
       "      <td>False</td>\n",
       "      <td>False</td>\n",
       "      <td>M2</td>\n",
       "    </tr>\n",
       "  </tbody>\n",
       "</table>\n",
       "</div>"
      ],
      "text/plain": [
       "        Date           TimeStamp  No_of_Occupants  Activity 1  Activity 2  \\\n",
       "0 2022-03-12 2022-03-12 09:00:00                2       False        True   \n",
       "1 2022-03-12 2022-03-12 09:31:00                3       False        True   \n",
       "2 2022-03-12 2022-03-12 09:40:00                3       False       False   \n",
       "3 2022-03-12 2022-03-12 10:00:00                2       False       False   \n",
       "4 2022-03-12 2022-03-12 10:32:00                4       False       False   \n",
       "\n",
       "  Room Number  \n",
       "0          M2  \n",
       "1          M2  \n",
       "2          M2  \n",
       "3          M2  \n",
       "4          M2  "
      ]
     },
     "execution_count": 11,
     "metadata": {},
     "output_type": "execute_result"
    }
   ],
   "source": [
    "df.head()"
   ]
  },
  {
   "cell_type": "markdown",
   "id": "1cb0aa3c",
   "metadata": {},
   "source": [
    "Now we have data having no null values."
   ]
  },
  {
   "cell_type": "code",
   "execution_count": 12,
   "id": "62636cc3",
   "metadata": {},
   "outputs": [],
   "source": [
    "# Here we can see that we have few columns having object and bool data type, So we are going to change the data type using Label encoding.\n",
    "from sklearn.preprocessing import LabelEncoder\n"
   ]
  },
  {
   "cell_type": "code",
   "execution_count": 13,
   "id": "e4412b31",
   "metadata": {},
   "outputs": [],
   "source": [
    "le=LabelEncoder()\n",
    "column=['Activity 1','Activity 2','Room Number']\n",
    "for col in column:\n",
    "    df[col]=le.fit_transform(df[col])"
   ]
  },
  {
   "cell_type": "code",
   "execution_count": 14,
   "id": "cb4b769a",
   "metadata": {},
   "outputs": [
    {
     "data": {
      "text/html": [
       "<div>\n",
       "<style scoped>\n",
       "    .dataframe tbody tr th:only-of-type {\n",
       "        vertical-align: middle;\n",
       "    }\n",
       "\n",
       "    .dataframe tbody tr th {\n",
       "        vertical-align: top;\n",
       "    }\n",
       "\n",
       "    .dataframe thead th {\n",
       "        text-align: right;\n",
       "    }\n",
       "</style>\n",
       "<table border=\"1\" class=\"dataframe\">\n",
       "  <thead>\n",
       "    <tr style=\"text-align: right;\">\n",
       "      <th></th>\n",
       "      <th>Date</th>\n",
       "      <th>TimeStamp</th>\n",
       "      <th>No_of_Occupants</th>\n",
       "      <th>Activity 1</th>\n",
       "      <th>Activity 2</th>\n",
       "      <th>Room Number</th>\n",
       "    </tr>\n",
       "  </thead>\n",
       "  <tbody>\n",
       "    <tr>\n",
       "      <th>0</th>\n",
       "      <td>2022-03-12</td>\n",
       "      <td>2022-03-12 09:00:00</td>\n",
       "      <td>2</td>\n",
       "      <td>0</td>\n",
       "      <td>1</td>\n",
       "      <td>1</td>\n",
       "    </tr>\n",
       "    <tr>\n",
       "      <th>1</th>\n",
       "      <td>2022-03-12</td>\n",
       "      <td>2022-03-12 09:31:00</td>\n",
       "      <td>3</td>\n",
       "      <td>0</td>\n",
       "      <td>1</td>\n",
       "      <td>1</td>\n",
       "    </tr>\n",
       "    <tr>\n",
       "      <th>2</th>\n",
       "      <td>2022-03-12</td>\n",
       "      <td>2022-03-12 09:40:00</td>\n",
       "      <td>3</td>\n",
       "      <td>0</td>\n",
       "      <td>0</td>\n",
       "      <td>1</td>\n",
       "    </tr>\n",
       "    <tr>\n",
       "      <th>3</th>\n",
       "      <td>2022-03-12</td>\n",
       "      <td>2022-03-12 10:00:00</td>\n",
       "      <td>2</td>\n",
       "      <td>0</td>\n",
       "      <td>0</td>\n",
       "      <td>1</td>\n",
       "    </tr>\n",
       "    <tr>\n",
       "      <th>4</th>\n",
       "      <td>2022-03-12</td>\n",
       "      <td>2022-03-12 10:32:00</td>\n",
       "      <td>4</td>\n",
       "      <td>0</td>\n",
       "      <td>0</td>\n",
       "      <td>1</td>\n",
       "    </tr>\n",
       "  </tbody>\n",
       "</table>\n",
       "</div>"
      ],
      "text/plain": [
       "        Date           TimeStamp  No_of_Occupants  Activity 1  Activity 2  \\\n",
       "0 2022-03-12 2022-03-12 09:00:00                2           0           1   \n",
       "1 2022-03-12 2022-03-12 09:31:00                3           0           1   \n",
       "2 2022-03-12 2022-03-12 09:40:00                3           0           0   \n",
       "3 2022-03-12 2022-03-12 10:00:00                2           0           0   \n",
       "4 2022-03-12 2022-03-12 10:32:00                4           0           0   \n",
       "\n",
       "   Room Number  \n",
       "0            1  \n",
       "1            1  \n",
       "2            1  \n",
       "3            1  \n",
       "4            1  "
      ]
     },
     "execution_count": 14,
     "metadata": {},
     "output_type": "execute_result"
    }
   ],
   "source": [
    "df.head()"
   ]
  },
  {
   "cell_type": "markdown",
   "id": "5cb64fa4",
   "metadata": {},
   "source": [
    "So we can see that we have encoded the columns."
   ]
  },
  {
   "cell_type": "code",
   "execution_count": 15,
   "id": "814dfdff",
   "metadata": {},
   "outputs": [],
   "source": [
    "# WE can see few column names are not appropriate for furtehr analysis, So let's rename those column.\n",
    "df=df.rename({\"Activity 1\":\"activity_1\",\"Activity 2\":\"activity_2\",\"Room Number\":\"room_no\"},axis=1)"
   ]
  },
  {
   "cell_type": "code",
   "execution_count": 16,
   "id": "0af9a46e",
   "metadata": {},
   "outputs": [
    {
     "data": {
      "text/plain": [
       "Index(['Date', 'TimeStamp', 'No_of_Occupants', 'activity_1', 'activity_2',\n",
       "       'room_no'],\n",
       "      dtype='object')"
      ]
     },
     "execution_count": 16,
     "metadata": {},
     "output_type": "execute_result"
    }
   ],
   "source": [
    "df.columns"
   ]
  },
  {
   "cell_type": "code",
   "execution_count": 17,
   "id": "9a077a6e",
   "metadata": {},
   "outputs": [],
   "source": [
    "# Now we have date time columns so let's separate them.\n",
    "df['year'] = df['Date'].dt.year\n",
    "df['month'] = df['Date'].dt.month\n",
    "df['day']=df['Date'].dt.day\n",
    "df['time']=df['TimeStamp'].dt.time"
   ]
  },
  {
   "cell_type": "code",
   "execution_count": 18,
   "id": "e5dfada4",
   "metadata": {},
   "outputs": [
    {
     "data": {
      "text/html": [
       "<div>\n",
       "<style scoped>\n",
       "    .dataframe tbody tr th:only-of-type {\n",
       "        vertical-align: middle;\n",
       "    }\n",
       "\n",
       "    .dataframe tbody tr th {\n",
       "        vertical-align: top;\n",
       "    }\n",
       "\n",
       "    .dataframe thead th {\n",
       "        text-align: right;\n",
       "    }\n",
       "</style>\n",
       "<table border=\"1\" class=\"dataframe\">\n",
       "  <thead>\n",
       "    <tr style=\"text-align: right;\">\n",
       "      <th></th>\n",
       "      <th>Date</th>\n",
       "      <th>TimeStamp</th>\n",
       "      <th>No_of_Occupants</th>\n",
       "      <th>activity_1</th>\n",
       "      <th>activity_2</th>\n",
       "      <th>room_no</th>\n",
       "      <th>year</th>\n",
       "      <th>month</th>\n",
       "      <th>day</th>\n",
       "      <th>time</th>\n",
       "    </tr>\n",
       "  </thead>\n",
       "  <tbody>\n",
       "    <tr>\n",
       "      <th>0</th>\n",
       "      <td>2022-03-12</td>\n",
       "      <td>2022-03-12 09:00:00</td>\n",
       "      <td>2</td>\n",
       "      <td>0</td>\n",
       "      <td>1</td>\n",
       "      <td>1</td>\n",
       "      <td>2022</td>\n",
       "      <td>3</td>\n",
       "      <td>12</td>\n",
       "      <td>09:00:00</td>\n",
       "    </tr>\n",
       "    <tr>\n",
       "      <th>1</th>\n",
       "      <td>2022-03-12</td>\n",
       "      <td>2022-03-12 09:31:00</td>\n",
       "      <td>3</td>\n",
       "      <td>0</td>\n",
       "      <td>1</td>\n",
       "      <td>1</td>\n",
       "      <td>2022</td>\n",
       "      <td>3</td>\n",
       "      <td>12</td>\n",
       "      <td>09:31:00</td>\n",
       "    </tr>\n",
       "    <tr>\n",
       "      <th>2</th>\n",
       "      <td>2022-03-12</td>\n",
       "      <td>2022-03-12 09:40:00</td>\n",
       "      <td>3</td>\n",
       "      <td>0</td>\n",
       "      <td>0</td>\n",
       "      <td>1</td>\n",
       "      <td>2022</td>\n",
       "      <td>3</td>\n",
       "      <td>12</td>\n",
       "      <td>09:40:00</td>\n",
       "    </tr>\n",
       "    <tr>\n",
       "      <th>3</th>\n",
       "      <td>2022-03-12</td>\n",
       "      <td>2022-03-12 10:00:00</td>\n",
       "      <td>2</td>\n",
       "      <td>0</td>\n",
       "      <td>0</td>\n",
       "      <td>1</td>\n",
       "      <td>2022</td>\n",
       "      <td>3</td>\n",
       "      <td>12</td>\n",
       "      <td>10:00:00</td>\n",
       "    </tr>\n",
       "    <tr>\n",
       "      <th>4</th>\n",
       "      <td>2022-03-12</td>\n",
       "      <td>2022-03-12 10:32:00</td>\n",
       "      <td>4</td>\n",
       "      <td>0</td>\n",
       "      <td>0</td>\n",
       "      <td>1</td>\n",
       "      <td>2022</td>\n",
       "      <td>3</td>\n",
       "      <td>12</td>\n",
       "      <td>10:32:00</td>\n",
       "    </tr>\n",
       "  </tbody>\n",
       "</table>\n",
       "</div>"
      ],
      "text/plain": [
       "        Date           TimeStamp  No_of_Occupants  activity_1  activity_2  \\\n",
       "0 2022-03-12 2022-03-12 09:00:00                2           0           1   \n",
       "1 2022-03-12 2022-03-12 09:31:00                3           0           1   \n",
       "2 2022-03-12 2022-03-12 09:40:00                3           0           0   \n",
       "3 2022-03-12 2022-03-12 10:00:00                2           0           0   \n",
       "4 2022-03-12 2022-03-12 10:32:00                4           0           0   \n",
       "\n",
       "   room_no  year  month  day      time  \n",
       "0        1  2022      3   12  09:00:00  \n",
       "1        1  2022      3   12  09:31:00  \n",
       "2        1  2022      3   12  09:40:00  \n",
       "3        1  2022      3   12  10:00:00  \n",
       "4        1  2022      3   12  10:32:00  "
      ]
     },
     "execution_count": 18,
     "metadata": {},
     "output_type": "execute_result"
    }
   ],
   "source": [
    "df.head()"
   ]
  },
  {
   "cell_type": "markdown",
   "id": "e1f6b348",
   "metadata": {},
   "source": [
    " Now we can see that we have day, month , year and time column separately."
   ]
  },
  {
   "cell_type": "code",
   "execution_count": 19,
   "id": "275b1f0a",
   "metadata": {},
   "outputs": [
    {
     "data": {
      "text/html": [
       "<div>\n",
       "<style scoped>\n",
       "    .dataframe tbody tr th:only-of-type {\n",
       "        vertical-align: middle;\n",
       "    }\n",
       "\n",
       "    .dataframe tbody tr th {\n",
       "        vertical-align: top;\n",
       "    }\n",
       "\n",
       "    .dataframe thead th {\n",
       "        text-align: right;\n",
       "    }\n",
       "</style>\n",
       "<table border=\"1\" class=\"dataframe\">\n",
       "  <thead>\n",
       "    <tr style=\"text-align: right;\">\n",
       "      <th></th>\n",
       "      <th>No_of_Occupants</th>\n",
       "      <th>activity_1</th>\n",
       "      <th>activity_2</th>\n",
       "      <th>room_no</th>\n",
       "      <th>year</th>\n",
       "      <th>month</th>\n",
       "      <th>day</th>\n",
       "      <th>time</th>\n",
       "    </tr>\n",
       "  </thead>\n",
       "  <tbody>\n",
       "    <tr>\n",
       "      <th>0</th>\n",
       "      <td>2</td>\n",
       "      <td>0</td>\n",
       "      <td>1</td>\n",
       "      <td>1</td>\n",
       "      <td>2022</td>\n",
       "      <td>3</td>\n",
       "      <td>12</td>\n",
       "      <td>09:00:00</td>\n",
       "    </tr>\n",
       "    <tr>\n",
       "      <th>1</th>\n",
       "      <td>3</td>\n",
       "      <td>0</td>\n",
       "      <td>1</td>\n",
       "      <td>1</td>\n",
       "      <td>2022</td>\n",
       "      <td>3</td>\n",
       "      <td>12</td>\n",
       "      <td>09:31:00</td>\n",
       "    </tr>\n",
       "    <tr>\n",
       "      <th>2</th>\n",
       "      <td>3</td>\n",
       "      <td>0</td>\n",
       "      <td>0</td>\n",
       "      <td>1</td>\n",
       "      <td>2022</td>\n",
       "      <td>3</td>\n",
       "      <td>12</td>\n",
       "      <td>09:40:00</td>\n",
       "    </tr>\n",
       "    <tr>\n",
       "      <th>3</th>\n",
       "      <td>2</td>\n",
       "      <td>0</td>\n",
       "      <td>0</td>\n",
       "      <td>1</td>\n",
       "      <td>2022</td>\n",
       "      <td>3</td>\n",
       "      <td>12</td>\n",
       "      <td>10:00:00</td>\n",
       "    </tr>\n",
       "    <tr>\n",
       "      <th>4</th>\n",
       "      <td>4</td>\n",
       "      <td>0</td>\n",
       "      <td>0</td>\n",
       "      <td>1</td>\n",
       "      <td>2022</td>\n",
       "      <td>3</td>\n",
       "      <td>12</td>\n",
       "      <td>10:32:00</td>\n",
       "    </tr>\n",
       "    <tr>\n",
       "      <th>...</th>\n",
       "      <td>...</td>\n",
       "      <td>...</td>\n",
       "      <td>...</td>\n",
       "      <td>...</td>\n",
       "      <td>...</td>\n",
       "      <td>...</td>\n",
       "      <td>...</td>\n",
       "      <td>...</td>\n",
       "    </tr>\n",
       "    <tr>\n",
       "      <th>82</th>\n",
       "      <td>2</td>\n",
       "      <td>0</td>\n",
       "      <td>0</td>\n",
       "      <td>0</td>\n",
       "      <td>2022</td>\n",
       "      <td>3</td>\n",
       "      <td>16</td>\n",
       "      <td>15:48:00</td>\n",
       "    </tr>\n",
       "    <tr>\n",
       "      <th>83</th>\n",
       "      <td>6</td>\n",
       "      <td>0</td>\n",
       "      <td>0</td>\n",
       "      <td>1</td>\n",
       "      <td>2022</td>\n",
       "      <td>3</td>\n",
       "      <td>16</td>\n",
       "      <td>18:01:00</td>\n",
       "    </tr>\n",
       "    <tr>\n",
       "      <th>84</th>\n",
       "      <td>3</td>\n",
       "      <td>0</td>\n",
       "      <td>0</td>\n",
       "      <td>1</td>\n",
       "      <td>2022</td>\n",
       "      <td>3</td>\n",
       "      <td>16</td>\n",
       "      <td>19:51:00</td>\n",
       "    </tr>\n",
       "    <tr>\n",
       "      <th>85</th>\n",
       "      <td>4</td>\n",
       "      <td>0</td>\n",
       "      <td>0</td>\n",
       "      <td>1</td>\n",
       "      <td>2022</td>\n",
       "      <td>3</td>\n",
       "      <td>16</td>\n",
       "      <td>22:03:50</td>\n",
       "    </tr>\n",
       "    <tr>\n",
       "      <th>86</th>\n",
       "      <td>6</td>\n",
       "      <td>0</td>\n",
       "      <td>0</td>\n",
       "      <td>1</td>\n",
       "      <td>2022</td>\n",
       "      <td>3</td>\n",
       "      <td>16</td>\n",
       "      <td>23:00:00</td>\n",
       "    </tr>\n",
       "  </tbody>\n",
       "</table>\n",
       "<p>87 rows × 8 columns</p>\n",
       "</div>"
      ],
      "text/plain": [
       "    No_of_Occupants  activity_1  activity_2  room_no  year  month  day  \\\n",
       "0                 2           0           1        1  2022      3   12   \n",
       "1                 3           0           1        1  2022      3   12   \n",
       "2                 3           0           0        1  2022      3   12   \n",
       "3                 2           0           0        1  2022      3   12   \n",
       "4                 4           0           0        1  2022      3   12   \n",
       "..              ...         ...         ...      ...   ...    ...  ...   \n",
       "82                2           0           0        0  2022      3   16   \n",
       "83                6           0           0        1  2022      3   16   \n",
       "84                3           0           0        1  2022      3   16   \n",
       "85                4           0           0        1  2022      3   16   \n",
       "86                6           0           0        1  2022      3   16   \n",
       "\n",
       "        time  \n",
       "0   09:00:00  \n",
       "1   09:31:00  \n",
       "2   09:40:00  \n",
       "3   10:00:00  \n",
       "4   10:32:00  \n",
       "..       ...  \n",
       "82  15:48:00  \n",
       "83  18:01:00  \n",
       "84  19:51:00  \n",
       "85  22:03:50  \n",
       "86  23:00:00  \n",
       "\n",
       "[87 rows x 8 columns]"
      ]
     },
     "execution_count": 19,
     "metadata": {},
     "output_type": "execute_result"
    }
   ],
   "source": [
    "# Now we do not need date and TimeStamp column so let's drop them\n",
    "df=df.drop([\"Date\",\"TimeStamp\"], axis=1)\n",
    "df"
   ]
  },
  {
   "cell_type": "markdown",
   "id": "9f96eed8",
   "metadata": {},
   "source": [
    "Now we are having the data in very sorted form."
   ]
  },
  {
   "cell_type": "code",
   "execution_count": 20,
   "id": "724e40c9",
   "metadata": {},
   "outputs": [],
   "source": [
    "import matplotlib.pyplot as plt\n",
    "import warnings"
   ]
  },
  {
   "cell_type": "markdown",
   "id": "91f17627",
   "metadata": {},
   "source": [
    "### Now let's check the no of activities in both the rooms"
   ]
  },
  {
   "cell_type": "markdown",
   "id": "1d478fac",
   "metadata": {},
   "source": [
    "From the plot we can see the activies in both the rooms."
   ]
  },
  {
   "cell_type": "code",
   "execution_count": 21,
   "id": "350cc7b4",
   "metadata": {
    "scrolled": true
   },
   "outputs": [
    {
     "data": {
      "text/plain": [
       "<AxesSubplot:ylabel='room_no'>"
      ]
     },
     "execution_count": 21,
     "metadata": {},
     "output_type": "execute_result"
    },
    {
     "data": {
      "image/png": "[encoded data removed]",
      "text/plain": [
       "<Figure size 432x288 with 1 Axes>"
      ]
     },
     "metadata": {},
     "output_type": "display_data"
    }
   ],
   "source": [
    "df.room_no.value_counts().plot(kind='pie', autopct='%1.0f%%')"
   ]
  },
  {
   "cell_type": "markdown",
   "id": "7caa5a90",
   "metadata": {},
   "source": [
    "Here we can see the percentage of activities in both the rooms."
   ]
  },
  {
   "cell_type": "code",
   "execution_count": 22,
   "id": "3c81ceac",
   "metadata": {},
   "outputs": [
    {
     "data": {
      "text/plain": [
       "<AxesSubplot:ylabel='activity_1'>"
      ]
     },
     "execution_count": 22,
     "metadata": {},
     "output_type": "execute_result"
    },
    {
     "data": {
      "image/png": "[encoded data removed]",
      "text/plain": [
       "<Figure size 432x288 with 1 Axes>"
      ]
     },
     "metadata": {},
     "output_type": "display_data"
    }
   ],
   "source": [
    "df.activity_1.value_counts().plot(kind='pie', autopct='%1.0f%%')"
   ]
  },
  {
   "cell_type": "markdown",
   "id": "5966fb29",
   "metadata": {},
   "source": [
    "Here we can see that only 26% activity 1 is happened.M"
   ]
  },
  {
   "cell_type": "code",
   "execution_count": 23,
   "id": "0de6947b",
   "metadata": {},
   "outputs": [
    {
     "data": {
      "text/plain": [
       "<AxesSubplot:ylabel='activity_2'>"
      ]
     },
     "execution_count": 23,
     "metadata": {},
     "output_type": "execute_result"
    },
    {
     "data": {
      "image/png": "[encoded data removed]",
      "text/plain": [
       "<Figure size 432x288 with 1 Axes>"
      ]
     },
     "metadata": {},
     "output_type": "display_data"
    }
   ],
   "source": [
    "df.activity_2.value_counts().plot(kind='pie', autopct='%1.0f%%')"
   ]
  },
  {
   "cell_type": "markdown",
   "id": "055c473a",
   "metadata": {},
   "source": [
    "Here we can see only 8% activity_2 is happened."
   ]
  },
  {
   "cell_type": "code",
   "execution_count": 24,
   "id": "23d6262b",
   "metadata": {},
   "outputs": [],
   "source": [
    "# Now let's see the relation of other columns"
   ]
  },
  {
   "cell_type": "code",
   "execution_count": 25,
   "id": "e2146d31",
   "metadata": {},
   "outputs": [
    {
     "data": {
      "text/plain": [
       "<AxesSubplot:xlabel='room_no', ylabel='No_of_Occupants'>"
      ]
     },
     "execution_count": 25,
     "metadata": {},
     "output_type": "execute_result"
    },
    {
     "data": {
      "image/png": "[encoded data removed]",
      "text/plain": [
       "<Figure size 432x288 with 1 Axes>"
      ]
     },
     "metadata": {
      "needs_background": "light"
     },
     "output_type": "display_data"
    }
   ],
   "source": [
    "sns.stripplot(data=df,y='No_of_Occupants', x='room_no')"
   ]
  },
  {
   "cell_type": "markdown",
   "id": "e5c93b1e",
   "metadata": {},
   "source": [
    "Here we can see the no of occupants in each room."
   ]
  },
  {
   "cell_type": "code",
   "execution_count": 26,
   "id": "c292fd0d",
   "metadata": {},
   "outputs": [
    {
     "data": {
      "text/plain": [
       "<AxesSubplot:xlabel='room_no', ylabel='activity_1'>"
      ]
     },
     "execution_count": 26,
     "metadata": {},
     "output_type": "execute_result"
    },
    {
     "data": {
      "image/png": "[encoded data removed]",
      "text/plain": [
       "<Figure size 432x288 with 1 Axes>"
      ]
     },
     "metadata": {
      "needs_background": "light"
     },
     "output_type": "display_data"
    }
   ],
   "source": [
    "sns.stripplot(data=df,y='activity_1', x='room_no')"
   ]
  },
  {
   "cell_type": "markdown",
   "id": "5f14b57d",
   "metadata": {},
   "source": [
    "Here we can see the activity_1 in both the rooms."
   ]
  },
  {
   "cell_type": "code",
   "execution_count": 27,
   "id": "ec8a922a",
   "metadata": {},
   "outputs": [
    {
     "data": {
      "text/plain": [
       "<AxesSubplot:xlabel='room_no', ylabel='activity_2'>"
      ]
     },
     "execution_count": 27,
     "metadata": {},
     "output_type": "execute_result"
    },
    {
     "data": {
      "image/png": "[encoded data removed]",
      "text/plain": [
       "<Figure size 432x288 with 1 Axes>"
      ]
     },
     "metadata": {
      "needs_background": "light"
     },
     "output_type": "display_data"
    }
   ],
   "source": [
    "sns.stripplot(data=df,y='activity_2', x='room_no')"
   ]
  },
  {
   "cell_type": "markdown",
   "id": "7a1a1e21",
   "metadata": {},
   "source": [
    "we can see the activity2 in both rooms."
   ]
  },
  {
   "cell_type": "code",
   "execution_count": 28,
   "id": "b3059076",
   "metadata": {},
   "outputs": [
    {
     "data": {
      "text/plain": [
       "<AxesSubplot:xlabel='day', ylabel='No_of_Occupants'>"
      ]
     },
     "execution_count": 28,
     "metadata": {},
     "output_type": "execute_result"
    },
    {
     "data": {
      "image/png": "[encoded data removed]",
      "text/plain": [
       "<Figure size 432x288 with 1 Axes>"
      ]
     },
     "metadata": {
      "needs_background": "light"
     },
     "output_type": "display_data"
    }
   ],
   "source": [
    "sns.stripplot(data=df,y='No_of_Occupants', x='day')"
   ]
  },
  {
   "cell_type": "markdown",
   "id": "23dbd9fa",
   "metadata": {},
   "source": [
    "Here we can see the no of occupants on each day."
   ]
  },
  {
   "cell_type": "code",
   "execution_count": 29,
   "id": "21d69fc6",
   "metadata": {},
   "outputs": [
    {
     "data": {
      "text/plain": [
       "<AxesSubplot:xlabel='activity_1', ylabel='No_of_Occupants'>"
      ]
     },
     "execution_count": 29,
     "metadata": {},
     "output_type": "execute_result"
    },
    {
     "data": {
      "image/png": "[encoded data removed]",
      "text/plain": [
       "<Figure size 432x288 with 1 Axes>"
      ]
     },
     "metadata": {
      "needs_background": "light"
     },
     "output_type": "display_data"
    }
   ],
   "source": [
    "sns.stripplot(data=df,y='No_of_Occupants', x='activity_1')"
   ]
  },
  {
   "cell_type": "markdown",
   "id": "c75d6a05",
   "metadata": {},
   "source": [
    "Here we can see the no of occupants in activity1."
   ]
  },
  {
   "cell_type": "code",
   "execution_count": 30,
   "id": "5a609b8b",
   "metadata": {},
   "outputs": [
    {
     "data": {
      "text/plain": [
       "<AxesSubplot:xlabel='activity_2', ylabel='No_of_Occupants'>"
      ]
     },
     "execution_count": 30,
     "metadata": {},
     "output_type": "execute_result"
    },
    {
     "data": {
      "image/png": "[encoded data removed]",
      "text/plain": [
       "<Figure size 432x288 with 1 Axes>"
      ]
     },
     "metadata": {
      "needs_background": "light"
     },
     "output_type": "display_data"
    }
   ],
   "source": [
    "sns.stripplot(data=df,y='No_of_Occupants', x='activity_2')"
   ]
  },
  {
   "cell_type": "markdown",
   "id": "314f6f02",
   "metadata": {},
   "source": [
    "Here we can see the no of occupants in activity 2."
   ]
  },
  {
   "cell_type": "markdown",
   "id": "86df1897",
   "metadata": {},
   "source": [
    "### Now let's check the relation of each column with other columns."
   ]
  },
  {
   "cell_type": "markdown",
   "id": "6f856b24",
   "metadata": {},
   "source": [
    "##### Multivariate Analysis"
   ]
  },
  {
   "cell_type": "code",
   "execution_count": 31,
   "id": "2cf21605",
   "metadata": {},
   "outputs": [
    {
     "data": {
      "text/html": [
       "<div>\n",
       "<style scoped>\n",
       "    .dataframe tbody tr th:only-of-type {\n",
       "        vertical-align: middle;\n",
       "    }\n",
       "\n",
       "    .dataframe tbody tr th {\n",
       "        vertical-align: top;\n",
       "    }\n",
       "\n",
       "    .dataframe thead th {\n",
       "        text-align: right;\n",
       "    }\n",
       "</style>\n",
       "<table border=\"1\" class=\"dataframe\">\n",
       "  <thead>\n",
       "    <tr style=\"text-align: right;\">\n",
       "      <th></th>\n",
       "      <th>No_of_Occupants</th>\n",
       "      <th>activity_1</th>\n",
       "      <th>activity_2</th>\n",
       "      <th>room_no</th>\n",
       "      <th>year</th>\n",
       "      <th>month</th>\n",
       "      <th>day</th>\n",
       "    </tr>\n",
       "  </thead>\n",
       "  <tbody>\n",
       "    <tr>\n",
       "      <th>No_of_Occupants</th>\n",
       "      <td>1.000000</td>\n",
       "      <td>-0.093515</td>\n",
       "      <td>-0.047444</td>\n",
       "      <td>-0.141572</td>\n",
       "      <td>NaN</td>\n",
       "      <td>NaN</td>\n",
       "      <td>-0.029988</td>\n",
       "    </tr>\n",
       "    <tr>\n",
       "      <th>activity_1</th>\n",
       "      <td>-0.093515</td>\n",
       "      <td>1.000000</td>\n",
       "      <td>-0.177328</td>\n",
       "      <td>0.163619</td>\n",
       "      <td>NaN</td>\n",
       "      <td>NaN</td>\n",
       "      <td>0.093952</td>\n",
       "    </tr>\n",
       "    <tr>\n",
       "      <th>activity_2</th>\n",
       "      <td>-0.047444</td>\n",
       "      <td>-0.177328</td>\n",
       "      <td>1.000000</td>\n",
       "      <td>0.100804</td>\n",
       "      <td>NaN</td>\n",
       "      <td>NaN</td>\n",
       "      <td>0.033353</td>\n",
       "    </tr>\n",
       "    <tr>\n",
       "      <th>room_no</th>\n",
       "      <td>-0.141572</td>\n",
       "      <td>0.163619</td>\n",
       "      <td>0.100804</td>\n",
       "      <td>1.000000</td>\n",
       "      <td>NaN</td>\n",
       "      <td>NaN</td>\n",
       "      <td>0.076210</td>\n",
       "    </tr>\n",
       "    <tr>\n",
       "      <th>year</th>\n",
       "      <td>NaN</td>\n",
       "      <td>NaN</td>\n",
       "      <td>NaN</td>\n",
       "      <td>NaN</td>\n",
       "      <td>NaN</td>\n",
       "      <td>NaN</td>\n",
       "      <td>NaN</td>\n",
       "    </tr>\n",
       "    <tr>\n",
       "      <th>month</th>\n",
       "      <td>NaN</td>\n",
       "      <td>NaN</td>\n",
       "      <td>NaN</td>\n",
       "      <td>NaN</td>\n",
       "      <td>NaN</td>\n",
       "      <td>NaN</td>\n",
       "      <td>NaN</td>\n",
       "    </tr>\n",
       "    <tr>\n",
       "      <th>day</th>\n",
       "      <td>-0.029988</td>\n",
       "      <td>0.093952</td>\n",
       "      <td>0.033353</td>\n",
       "      <td>0.076210</td>\n",
       "      <td>NaN</td>\n",
       "      <td>NaN</td>\n",
       "      <td>1.000000</td>\n",
       "    </tr>\n",
       "  </tbody>\n",
       "</table>\n",
       "</div>"
      ],
      "text/plain": [
       "                 No_of_Occupants  activity_1  activity_2   room_no  year  \\\n",
       "No_of_Occupants         1.000000   -0.093515   -0.047444 -0.141572   NaN   \n",
       "activity_1             -0.093515    1.000000   -0.177328  0.163619   NaN   \n",
       "activity_2             -0.047444   -0.177328    1.000000  0.100804   NaN   \n",
       "room_no                -0.141572    0.163619    0.100804  1.000000   NaN   \n",
       "year                         NaN         NaN         NaN       NaN   NaN   \n",
       "month                        NaN         NaN         NaN       NaN   NaN   \n",
       "day                    -0.029988    0.093952    0.033353  0.076210   NaN   \n",
       "\n",
       "                 month       day  \n",
       "No_of_Occupants    NaN -0.029988  \n",
       "activity_1         NaN  0.093952  \n",
       "activity_2         NaN  0.033353  \n",
       "room_no            NaN  0.076210  \n",
       "year               NaN       NaN  \n",
       "month              NaN       NaN  \n",
       "day                NaN  1.000000  "
      ]
     },
     "execution_count": 31,
     "metadata": {},
     "output_type": "execute_result"
    }
   ],
   "source": [
    "df_cor=df.corr()\n",
    "df_cor"
   ]
  },
  {
   "cell_type": "code",
   "execution_count": 32,
   "id": "584068bc",
   "metadata": {},
   "outputs": [
    {
     "data": {
      "text/plain": [
       "<AxesSubplot:>"
      ]
     },
     "execution_count": 32,
     "metadata": {},
     "output_type": "execute_result"
    },
    {
     "data": {
      "image/png": "[encoded data removed]",
      "text/plain": [
       "<Figure size 1440x864 with 2 Axes>"
      ]
     },
     "metadata": {
      "needs_background": "light"
     },
     "output_type": "display_data"
    }
   ],
   "source": [
    "plt.figure(figsize=(20,12))\n",
    "sns.heatmap(df_cor,annot=True,cmap='YlOrRd_r')"
   ]
  },
  {
   "cell_type": "markdown",
   "id": "e4c71ffc",
   "metadata": {},
   "source": [
    "Here we can see the relation of each column with other column some columns are positively correlated while some are negatively correlated."
   ]
  },
  {
   "cell_type": "code",
   "execution_count": 33,
   "id": "ec7d6e75",
   "metadata": {},
   "outputs": [],
   "source": [
    "# So here we are finished with our analysis."
   ]
  },
  {
   "cell_type": "code",
   "execution_count": null,
   "id": "1981ab69",
   "metadata": {},
   "outputs": [],
   "source": []
  }
 ],
 "metadata": {
  "kernelspec": {
   "display_name": "Python 3",
   "language": "python",
   "name": "python3"
  },
  "language_info": {
   "codemirror_mode": {
    "name": "ipython",
    "version": 3
   },
   "file_extension": ".py",
   "mimetype": "text/x-python",
   "name": "python",
   "nbconvert_exporter": "python",
   "pygments_lexer": "ipython3",
   "version": "3.8.8"
  }
 },
 "nbformat": 4,
 "nbformat_minor": 5
}
