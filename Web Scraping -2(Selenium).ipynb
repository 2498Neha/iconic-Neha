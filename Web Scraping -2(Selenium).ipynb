{
 "cells": [
  {
   "cell_type": "code",
   "execution_count": 1,
   "metadata": {},
   "outputs": [
    {
     "name": "stdout",
     "output_type": "stream",
     "text": [
      "Requirement already satisfied: selenium in c:\\users\\neha\\anaconda3\\lib\\site-packages (3.141.0)\n",
      "Requirement already satisfied: urllib3 in c:\\users\\neha\\anaconda3\\lib\\site-packages (from selenium) (1.25.11)\n"
     ]
    }
   ],
   "source": [
    "# let's first install the selenium library\n",
    "! pip install selenium"
   ]
  },
  {
   "cell_type": "code",
   "execution_count": 2,
   "metadata": {},
   "outputs": [],
   "source": [
    "# Let's now import all the required libraries.\n",
    "import selenium\n",
    "import pandas as pd\n",
    "from selenium import webdriver"
   ]
  },
  {
   "cell_type": "code",
   "execution_count": 3,
   "metadata": {},
   "outputs": [],
   "source": [
    "# let's first connect to the web driver\n",
    "driver = webdriver.Chrome(r\"C:\\Users\\Neha\\Downloads\\chromedriver_win32\\chromedriver.exe\")"
   ]
  },
  {
   "cell_type": "markdown",
   "metadata": {},
   "source": [
    "Q1: Write a python program to scrape data for “Data Analyst” Job position in \n",
    "“Bangalore” location. You have to scrape the job-title, job-location, company_name,\n",
    "experience_required. You have to scrape first 10 jobs data"
   ]
  },
  {
   "cell_type": "code",
   "execution_count": 4,
   "metadata": {},
   "outputs": [],
   "source": [
    "url = \"https://www.naukri.com\"\n",
    "driver.get(url)"
   ]
  },
  {
   "cell_type": "code",
   "execution_count": 9,
   "metadata": {},
   "outputs": [
    {
     "data": {
      "text/plain": [
       "<selenium.webdriver.remote.webelement.WebElement (session=\"d8e71b3c3e3f839d9496870de33b48d6\", element=\"8e07a531-9164-4a45-a7f2-8b67ad5b01fb\")>"
      ]
     },
     "execution_count": 9,
     "metadata": {},
     "output_type": "execute_result"
    }
   ],
   "source": [
    "# finding element for job search bar\n",
    "search_job = driver.find_element_by_xpath(\"//input[@class='sugInp']\")\n",
    "search_job"
   ]
  },
  {
   "cell_type": "code",
   "execution_count": 14,
   "metadata": {},
   "outputs": [],
   "source": [
    "# write on search bar\n",
    "search_job.send_keys('Data Analyst')"
   ]
  },
  {
   "cell_type": "code",
   "execution_count": 15,
   "metadata": {},
   "outputs": [],
   "source": [
    "# finding element for job location bar\n",
    "search_loc=driver.find_element_by_id('qsb-location-sugg')\n",
    "search_loc.send_keys(\"Bangalore\")"
   ]
  },
  {
   "cell_type": "code",
   "execution_count": 17,
   "metadata": {},
   "outputs": [
    {
     "data": {
      "text/plain": [
       "<selenium.webdriver.remote.webelement.WebElement (session=\"d8e71b3c3e3f839d9496870de33b48d6\", element=\"05243454-1895-4054-8de1-33deddd15182\")>"
      ]
     },
     "execution_count": 17,
     "metadata": {},
     "output_type": "execute_result"
    }
   ],
   "source": [
    "search_btn= driver .find_element_by_xpath(\"//button[@class='btn']\")\n",
    "search_btn"
   ]
  },
  {
   "cell_type": "code",
   "execution_count": 19,
   "metadata": {},
   "outputs": [],
   "source": [
    "# clicking  using xpath function\n",
    "search_btn=driver.find_element_by_xpath(\"//button[@class='btn']\")\n",
    "search_btn.click()"
   ]
  },
  {
   "cell_type": "code",
   "execution_count": 21,
   "metadata": {},
   "outputs": [
    {
     "data": {
      "text/plain": [
       "[<selenium.webdriver.remote.webelement.WebElement (session=\"d8e71b3c3e3f839d9496870de33b48d6\", element=\"48cbdbaa-13ff-4507-9849-98e7d166106b\")>,\n",
       " <selenium.webdriver.remote.webelement.WebElement (session=\"d8e71b3c3e3f839d9496870de33b48d6\", element=\"3a678c9e-5d8d-4b33-b1c2-8fa1e7d951b4\")>,\n",
       " <selenium.webdriver.remote.webelement.WebElement (session=\"d8e71b3c3e3f839d9496870de33b48d6\", element=\"30f2bec4-f50b-4b6e-b96c-a11008a3c3ae\")>,\n",
       " <selenium.webdriver.remote.webelement.WebElement (session=\"d8e71b3c3e3f839d9496870de33b48d6\", element=\"a74843c4-6e6f-4056-97ff-7086eafccb50\")>,\n",
       " <selenium.webdriver.remote.webelement.WebElement (session=\"d8e71b3c3e3f839d9496870de33b48d6\", element=\"dbd0125c-f3a1-4c91-bb93-ffd5baeb0e13\")>,\n",
       " <selenium.webdriver.remote.webelement.WebElement (session=\"d8e71b3c3e3f839d9496870de33b48d6\", element=\"8a8358b6-cb01-4054-a934-1bafa4d82d8d\")>,\n",
       " <selenium.webdriver.remote.webelement.WebElement (session=\"d8e71b3c3e3f839d9496870de33b48d6\", element=\"cc21611c-acce-444e-9754-0a7a6207be8e\")>,\n",
       " <selenium.webdriver.remote.webelement.WebElement (session=\"d8e71b3c3e3f839d9496870de33b48d6\", element=\"fe193ed0-298b-40f4-93f5-556b1842ee4f\")>,\n",
       " <selenium.webdriver.remote.webelement.WebElement (session=\"d8e71b3c3e3f839d9496870de33b48d6\", element=\"5fe0cb71-c4ba-4650-a081-b9886d37f969\")>,\n",
       " <selenium.webdriver.remote.webelement.WebElement (session=\"d8e71b3c3e3f839d9496870de33b48d6\", element=\"c51f81bb-b483-40dd-94ee-115143b66b83\")>,\n",
       " <selenium.webdriver.remote.webelement.WebElement (session=\"d8e71b3c3e3f839d9496870de33b48d6\", element=\"306f04cd-8daa-4d07-9a11-ced8f1cb8c78\")>,\n",
       " <selenium.webdriver.remote.webelement.WebElement (session=\"d8e71b3c3e3f839d9496870de33b48d6\", element=\"0122ed5f-3d44-46e6-9ad8-7f1c98ba8e1f\")>,\n",
       " <selenium.webdriver.remote.webelement.WebElement (session=\"d8e71b3c3e3f839d9496870de33b48d6\", element=\"dd7a499c-b255-4996-89dd-91b2107db18a\")>,\n",
       " <selenium.webdriver.remote.webelement.WebElement (session=\"d8e71b3c3e3f839d9496870de33b48d6\", element=\"e56965f6-e517-42e1-bf41-2fb9f4af4925\")>,\n",
       " <selenium.webdriver.remote.webelement.WebElement (session=\"d8e71b3c3e3f839d9496870de33b48d6\", element=\"62ad72bf-42f9-46a3-b001-83900da2c8c5\")>,\n",
       " <selenium.webdriver.remote.webelement.WebElement (session=\"d8e71b3c3e3f839d9496870de33b48d6\", element=\"2ea8b4f6-5633-4e21-8d05-4a0cf0e5b2b6\")>,\n",
       " <selenium.webdriver.remote.webelement.WebElement (session=\"d8e71b3c3e3f839d9496870de33b48d6\", element=\"1a5ec700-d158-431f-b524-5d29098dde84\")>,\n",
       " <selenium.webdriver.remote.webelement.WebElement (session=\"d8e71b3c3e3f839d9496870de33b48d6\", element=\"4f67b285-5bbe-441d-a41a-0cc98f45e984\")>,\n",
       " <selenium.webdriver.remote.webelement.WebElement (session=\"d8e71b3c3e3f839d9496870de33b48d6\", element=\"49337ca2-a30d-4c37-a732-9944edd379cf\")>,\n",
       " <selenium.webdriver.remote.webelement.WebElement (session=\"d8e71b3c3e3f839d9496870de33b48d6\", element=\"88bdd5b7-98cb-4373-909b-51c73379f142\")>]"
      ]
     },
     "execution_count": 21,
     "metadata": {},
     "output_type": "execute_result"
    }
   ],
   "source": [
    "#so let's extract all the tags having the job titles\n",
    "title_tags=driver.find_elements_by_xpath(\"//a[@class='title fw500 ellipsis']\")\n",
    "title_tags"
   ]
  },
  {
   "cell_type": "code",
   "execution_count": 29,
   "metadata": {},
   "outputs": [
    {
     "data": {
      "text/plain": [
       "['Data Scientist / Data Analyst -Business Analyst',\n",
       " 'Senior Data Analyst - Data Lineage',\n",
       " 'Data analysts',\n",
       " 'Data Analyst - Informatica MDM',\n",
       " 'Excel VBA Jobs Bangalore | VBA data analyst Jobs',\n",
       " 'Data analysts',\n",
       " 'Business Data Analyst',\n",
       " 'Data Analyst',\n",
       " 'Data Analyst',\n",
       " 'Data Analyst - Category Demand Management (Revenue & Growth)']"
      ]
     },
     "execution_count": 29,
     "metadata": {},
     "output_type": "execute_result"
    }
   ],
   "source": [
    "# extract the text of the job title  from the tags\n",
    "job_titles=[]\n",
    "for i in title_tags:\n",
    "    if i.text is None:\n",
    "        job_titles.append('Not')\n",
    "    else:\n",
    "        job_titles.append(i.text)\n",
    "job_titles[:10]        "
   ]
  },
  {
   "cell_type": "code",
   "execution_count": 30,
   "metadata": {},
   "outputs": [
    {
     "data": {
      "text/plain": [
       "[<selenium.webdriver.remote.webelement.WebElement (session=\"d8e71b3c3e3f839d9496870de33b48d6\", element=\"a1d8740a-cbf1-4314-b6e7-6896ac900646\")>,\n",
       " <selenium.webdriver.remote.webelement.WebElement (session=\"d8e71b3c3e3f839d9496870de33b48d6\", element=\"65e28939-50e4-4ec9-b8fa-5265da3c420e\")>,\n",
       " <selenium.webdriver.remote.webelement.WebElement (session=\"d8e71b3c3e3f839d9496870de33b48d6\", element=\"8a979aa7-cbf9-4e1b-b9d9-727e59ccd278\")>,\n",
       " <selenium.webdriver.remote.webelement.WebElement (session=\"d8e71b3c3e3f839d9496870de33b48d6\", element=\"d25f1168-f469-4681-9f03-8eb86a60a3fe\")>,\n",
       " <selenium.webdriver.remote.webelement.WebElement (session=\"d8e71b3c3e3f839d9496870de33b48d6\", element=\"bafe2bf5-7ce3-40f6-b972-8bcc9e86d2e1\")>,\n",
       " <selenium.webdriver.remote.webelement.WebElement (session=\"d8e71b3c3e3f839d9496870de33b48d6\", element=\"5f34f475-968f-4a65-9ac7-06cff0269fb3\")>,\n",
       " <selenium.webdriver.remote.webelement.WebElement (session=\"d8e71b3c3e3f839d9496870de33b48d6\", element=\"1a51d6ee-8364-46e2-bc6b-ad2caf974cb6\")>,\n",
       " <selenium.webdriver.remote.webelement.WebElement (session=\"d8e71b3c3e3f839d9496870de33b48d6\", element=\"95002e19-3ce2-410e-83aa-1918c6da50e9\")>,\n",
       " <selenium.webdriver.remote.webelement.WebElement (session=\"d8e71b3c3e3f839d9496870de33b48d6\", element=\"4500aa2f-e986-4488-a144-b4c191a0816e\")>,\n",
       " <selenium.webdriver.remote.webelement.WebElement (session=\"d8e71b3c3e3f839d9496870de33b48d6\", element=\"b57ed452-1ac6-41f1-8bf7-1a5945ee22a9\")>,\n",
       " <selenium.webdriver.remote.webelement.WebElement (session=\"d8e71b3c3e3f839d9496870de33b48d6\", element=\"93a9a6df-8de0-4926-99ad-806b4daa964c\")>,\n",
       " <selenium.webdriver.remote.webelement.WebElement (session=\"d8e71b3c3e3f839d9496870de33b48d6\", element=\"a30b6e66-8a52-450f-b619-9fa8963a79fd\")>,\n",
       " <selenium.webdriver.remote.webelement.WebElement (session=\"d8e71b3c3e3f839d9496870de33b48d6\", element=\"0edc4865-1a61-4a07-8cb8-aa3c53e0bdf5\")>,\n",
       " <selenium.webdriver.remote.webelement.WebElement (session=\"d8e71b3c3e3f839d9496870de33b48d6\", element=\"cb90f6cd-5fac-4968-8877-ff6a0c6a7e59\")>,\n",
       " <selenium.webdriver.remote.webelement.WebElement (session=\"d8e71b3c3e3f839d9496870de33b48d6\", element=\"aae27ebd-88c8-4f34-8000-b91b01e56ae6\")>,\n",
       " <selenium.webdriver.remote.webelement.WebElement (session=\"d8e71b3c3e3f839d9496870de33b48d6\", element=\"794cb206-9fd5-47dd-ba21-4a5e0a879a0b\")>,\n",
       " <selenium.webdriver.remote.webelement.WebElement (session=\"d8e71b3c3e3f839d9496870de33b48d6\", element=\"6b2c9be4-6d7a-4275-be0f-2d5186737a1d\")>,\n",
       " <selenium.webdriver.remote.webelement.WebElement (session=\"d8e71b3c3e3f839d9496870de33b48d6\", element=\"4bad674f-d016-4c69-a116-4d4b48243bb3\")>,\n",
       " <selenium.webdriver.remote.webelement.WebElement (session=\"d8e71b3c3e3f839d9496870de33b48d6\", element=\"7fe27fb5-263a-4c3b-9034-747fa2092b6a\")>,\n",
       " <selenium.webdriver.remote.webelement.WebElement (session=\"d8e71b3c3e3f839d9496870de33b48d6\", element=\"080bfb4a-6c22-4eb0-ac03-5e0414033932\")>]"
      ]
     },
     "execution_count": 30,
     "metadata": {},
     "output_type": "execute_result"
    }
   ],
   "source": [
    "# lets extract all the tags having company names\n",
    "company_tags=driver.find_elements_by_xpath(\"//a[@class='subTitle ellipsis fleft']\")\n",
    "company_tags"
   ]
  },
  {
   "cell_type": "code",
   "execution_count": 33,
   "metadata": {},
   "outputs": [
    {
     "data": {
      "text/plain": [
       "['Inflexion Analytix Private Limited',\n",
       " 'Opex Global Services',\n",
       " 'IBM India Pvt. Limited',\n",
       " 'Shell India Markets Private Limited',\n",
       " 'Mind Circus Innovation',\n",
       " 'IBM India Pvt. Limited',\n",
       " 'dotSolved India Pvt., Ltd.',\n",
       " 'Myntra Designs Pvt. Ltd.',\n",
       " 'Myntra Designs Pvt. Ltd.',\n",
       " 'Myntra Designs Pvt. Ltd.']"
      ]
     },
     "execution_count": 33,
     "metadata": {},
     "output_type": "execute_result"
    }
   ],
   "source": [
    "# Now we will extract the text from the tags by looping over these tags\n",
    "companies_names=[]\n",
    "\n",
    "for i in company_tags:\n",
    "    companies_names.append(i.text)\n",
    "companies_names[:10]    "
   ]
  },
  {
   "cell_type": "code",
   "execution_count": 36,
   "metadata": {},
   "outputs": [
    {
     "data": {
      "text/plain": [
       "[<selenium.webdriver.remote.webelement.WebElement (session=\"d8e71b3c3e3f839d9496870de33b48d6\", element=\"2bbe2ee1-19c8-4c4d-852d-51a19926206d\")>,\n",
       " <selenium.webdriver.remote.webelement.WebElement (session=\"d8e71b3c3e3f839d9496870de33b48d6\", element=\"852ef2ab-3703-4f39-863f-3b5d53210e2d\")>,\n",
       " <selenium.webdriver.remote.webelement.WebElement (session=\"d8e71b3c3e3f839d9496870de33b48d6\", element=\"8d9c2f03-a5ab-4faa-ae78-4f50b0ce210e\")>,\n",
       " <selenium.webdriver.remote.webelement.WebElement (session=\"d8e71b3c3e3f839d9496870de33b48d6\", element=\"ebc7043a-5958-45f1-bcc6-2edf4e6b5327\")>,\n",
       " <selenium.webdriver.remote.webelement.WebElement (session=\"d8e71b3c3e3f839d9496870de33b48d6\", element=\"3efc2fd4-9b73-4850-9f01-ae9b7d2970e2\")>,\n",
       " <selenium.webdriver.remote.webelement.WebElement (session=\"d8e71b3c3e3f839d9496870de33b48d6\", element=\"a4d754fd-560d-46e7-ad4f-2c82fb55b7f7\")>,\n",
       " <selenium.webdriver.remote.webelement.WebElement (session=\"d8e71b3c3e3f839d9496870de33b48d6\", element=\"539c185e-b4b9-438e-9f9f-edfe0e698c01\")>,\n",
       " <selenium.webdriver.remote.webelement.WebElement (session=\"d8e71b3c3e3f839d9496870de33b48d6\", element=\"5e777d8c-c267-462c-b32e-7a5287eba886\")>,\n",
       " <selenium.webdriver.remote.webelement.WebElement (session=\"d8e71b3c3e3f839d9496870de33b48d6\", element=\"04aa6886-42d5-44db-874e-53c8c38c98f9\")>,\n",
       " <selenium.webdriver.remote.webelement.WebElement (session=\"d8e71b3c3e3f839d9496870de33b48d6\", element=\"7ccaf886-89b5-4829-9fec-5d38527e9a6d\")>,\n",
       " <selenium.webdriver.remote.webelement.WebElement (session=\"d8e71b3c3e3f839d9496870de33b48d6\", element=\"8f2c554e-4b83-47a3-9beb-e9b6db4a47ce\")>,\n",
       " <selenium.webdriver.remote.webelement.WebElement (session=\"d8e71b3c3e3f839d9496870de33b48d6\", element=\"eacb83ac-6480-4071-8ca7-8e32c0c24d90\")>,\n",
       " <selenium.webdriver.remote.webelement.WebElement (session=\"d8e71b3c3e3f839d9496870de33b48d6\", element=\"6f95620d-2630-49d5-87e9-b19d2839cb8a\")>,\n",
       " <selenium.webdriver.remote.webelement.WebElement (session=\"d8e71b3c3e3f839d9496870de33b48d6\", element=\"a6daf831-0345-45e3-b82a-1dea969bb518\")>,\n",
       " <selenium.webdriver.remote.webelement.WebElement (session=\"d8e71b3c3e3f839d9496870de33b48d6\", element=\"f876a079-d117-45e6-95f0-d987599e6c2e\")>,\n",
       " <selenium.webdriver.remote.webelement.WebElement (session=\"d8e71b3c3e3f839d9496870de33b48d6\", element=\"c2b0ca2f-b280-4467-8546-d1942e9e12d3\")>,\n",
       " <selenium.webdriver.remote.webelement.WebElement (session=\"d8e71b3c3e3f839d9496870de33b48d6\", element=\"5ea854b2-3f2e-4e17-b11c-d5ab9f77e7b6\")>,\n",
       " <selenium.webdriver.remote.webelement.WebElement (session=\"d8e71b3c3e3f839d9496870de33b48d6\", element=\"39176eba-8a78-4d17-82a5-137cd2b64819\")>,\n",
       " <selenium.webdriver.remote.webelement.WebElement (session=\"d8e71b3c3e3f839d9496870de33b48d6\", element=\"0288134b-a693-4d54-94c3-4a5964f96257\")>,\n",
       " <selenium.webdriver.remote.webelement.WebElement (session=\"d8e71b3c3e3f839d9496870de33b48d6\", element=\"35206cb6-317a-4c76-b7ff-8f8898974b12\")>]"
      ]
     },
     "execution_count": 36,
     "metadata": {},
     "output_type": "execute_result"
    }
   ],
   "source": [
    "# so lets extract  all the tags having the experience required data\n",
    "experience_tags=driver.find_elements_by_xpath(\"//li[@class='fleft grey-text br2 placeHolderLi experience'] //span\")\n",
    "experience_tags"
   ]
  },
  {
   "cell_type": "code",
   "execution_count": 38,
   "metadata": {},
   "outputs": [
    {
     "data": {
      "text/plain": [
       "['0-3 Yrs',\n",
       " '5-10 Yrs',\n",
       " '5-6 Yrs',\n",
       " '6-9 Yrs',\n",
       " '0-1 Yrs',\n",
       " '3-5 Yrs',\n",
       " '9-13 Yrs',\n",
       " '3-5 Yrs',\n",
       " '3-8 Yrs',\n",
       " '1-4 Yrs']"
      ]
     },
     "execution_count": 38,
     "metadata": {},
     "output_type": "execute_result"
    }
   ],
   "source": [
    "# no we will extract the text  from these tags only by one by looping over these tags\n",
    "experience_list=[]\n",
    "for i in experience_tags:\n",
    "    experience_list.append(i.text)\n",
    "experience_list[:10]   "
   ]
  },
  {
   "cell_type": "code",
   "execution_count": 40,
   "metadata": {},
   "outputs": [
    {
     "data": {
      "text/plain": [
       "[<selenium.webdriver.remote.webelement.WebElement (session=\"d8e71b3c3e3f839d9496870de33b48d6\", element=\"6c663e32-a5e7-4699-8614-2dff752e0c5e\")>,\n",
       " <selenium.webdriver.remote.webelement.WebElement (session=\"d8e71b3c3e3f839d9496870de33b48d6\", element=\"97b19045-90d7-4fab-a36a-3731c7f3e22d\")>,\n",
       " <selenium.webdriver.remote.webelement.WebElement (session=\"d8e71b3c3e3f839d9496870de33b48d6\", element=\"6ba97d71-9582-4c1d-b961-1dfedb701f8f\")>,\n",
       " <selenium.webdriver.remote.webelement.WebElement (session=\"d8e71b3c3e3f839d9496870de33b48d6\", element=\"48691cf1-ab76-424d-9e72-2c8aaf319d8e\")>,\n",
       " <selenium.webdriver.remote.webelement.WebElement (session=\"d8e71b3c3e3f839d9496870de33b48d6\", element=\"cc32dae9-6c3e-42e4-8459-648d22460c71\")>,\n",
       " <selenium.webdriver.remote.webelement.WebElement (session=\"d8e71b3c3e3f839d9496870de33b48d6\", element=\"eff92e60-989b-4058-8b4f-1f47982ad3d6\")>,\n",
       " <selenium.webdriver.remote.webelement.WebElement (session=\"d8e71b3c3e3f839d9496870de33b48d6\", element=\"44e300f7-1112-4469-a474-fa08987efc25\")>,\n",
       " <selenium.webdriver.remote.webelement.WebElement (session=\"d8e71b3c3e3f839d9496870de33b48d6\", element=\"80f33aac-53ce-4183-bbc8-aa37f1e4b2ae\")>,\n",
       " <selenium.webdriver.remote.webelement.WebElement (session=\"d8e71b3c3e3f839d9496870de33b48d6\", element=\"02062a98-6728-443e-b1bc-606474c5c8b6\")>,\n",
       " <selenium.webdriver.remote.webelement.WebElement (session=\"d8e71b3c3e3f839d9496870de33b48d6\", element=\"6651b4ec-2808-4e76-939f-2470405d64eb\")>,\n",
       " <selenium.webdriver.remote.webelement.WebElement (session=\"d8e71b3c3e3f839d9496870de33b48d6\", element=\"13139ffa-87d7-49bd-83f4-2c277a96f0f9\")>,\n",
       " <selenium.webdriver.remote.webelement.WebElement (session=\"d8e71b3c3e3f839d9496870de33b48d6\", element=\"597e6019-3913-40f3-b6ad-f6b81d2f9b91\")>,\n",
       " <selenium.webdriver.remote.webelement.WebElement (session=\"d8e71b3c3e3f839d9496870de33b48d6\", element=\"f3ffd506-ca6c-4b1a-bf11-1ccbf2f54a82\")>,\n",
       " <selenium.webdriver.remote.webelement.WebElement (session=\"d8e71b3c3e3f839d9496870de33b48d6\", element=\"b623504c-df9d-453a-aebd-751404a489f5\")>,\n",
       " <selenium.webdriver.remote.webelement.WebElement (session=\"d8e71b3c3e3f839d9496870de33b48d6\", element=\"d84347c7-83f4-4a97-8a2d-28aea55a4a96\")>,\n",
       " <selenium.webdriver.remote.webelement.WebElement (session=\"d8e71b3c3e3f839d9496870de33b48d6\", element=\"3f9cc88b-3c2f-45a9-a382-9a6e8c0867ca\")>,\n",
       " <selenium.webdriver.remote.webelement.WebElement (session=\"d8e71b3c3e3f839d9496870de33b48d6\", element=\"044857a3-679d-4ff9-8d5d-44225e7891a8\")>,\n",
       " <selenium.webdriver.remote.webelement.WebElement (session=\"d8e71b3c3e3f839d9496870de33b48d6\", element=\"a42d92cb-bbbb-44d3-8bcc-cef62cdf6488\")>,\n",
       " <selenium.webdriver.remote.webelement.WebElement (session=\"d8e71b3c3e3f839d9496870de33b48d6\", element=\"dc95e43d-06d8-4ce4-81d4-c9b4b70f70d4\")>,\n",
       " <selenium.webdriver.remote.webelement.WebElement (session=\"d8e71b3c3e3f839d9496870de33b48d6\", element=\"701d00d3-4790-433d-b8bd-55a5e001d1fb\")>]"
      ]
     },
     "execution_count": 40,
     "metadata": {},
     "output_type": "execute_result"
    }
   ],
   "source": [
    "locations_tags=driver.find_elements_by_xpath(\"//li[@class='fleft grey-text br2 placeHolderLi location']/span\")\n",
    "locations_tags"
   ]
  },
  {
   "cell_type": "code",
   "execution_count": 42,
   "metadata": {},
   "outputs": [
    {
     "data": {
      "text/plain": [
       "['Mumbai, Hyderabad/Secunderabad, Pune, Gurgaon/Gurugram, Chennai, Bangalore/Bengaluru',\n",
       " 'Bangalore/Bengaluru',\n",
       " 'Bengaluru/Bangalore',\n",
       " 'Bangalore/Bengaluru',\n",
       " 'Mysore/Mysuru, Coimbatore, Bangalore/Bengaluru',\n",
       " 'Bangalore/Bengaluru',\n",
       " 'Chennai, Bangalore/Bengaluru, Mumbai (All Areas)',\n",
       " 'Bangalore/Bengaluru',\n",
       " 'Bangalore/Bengaluru',\n",
       " 'Bangalore/Bengaluru']"
      ]
     },
     "execution_count": 42,
     "metadata": {},
     "output_type": "execute_result"
    }
   ],
   "source": [
    "locations_list=[]\n",
    "for i in locations_tags:\n",
    "    locations_list.append(i.text)\n",
    "locations_list[:10]    "
   ]
  },
  {
   "cell_type": "code",
   "execution_count": 43,
   "metadata": {},
   "outputs": [
    {
     "name": "stdout",
     "output_type": "stream",
     "text": [
      "10\n",
      "10\n",
      "10\n",
      "10\n"
     ]
    },
    {
     "data": {
      "text/plain": [
       "(None, None, None, None)"
      ]
     },
     "execution_count": 43,
     "metadata": {},
     "output_type": "execute_result"
    }
   ],
   "source": [
    "#So lets check th length of ech element.\n",
    "print(len(job_titles[:10])),print(len(companies_names[:10])),print(len(experience_list[:10])),print(len(locations_list[:10]))"
   ]
  },
  {
   "cell_type": "markdown",
   "metadata": {},
   "source": [
    "# Creating a DataFarme for the Data Analyst jobs"
   ]
  },
  {
   "cell_type": "code",
   "execution_count": 47,
   "metadata": {},
   "outputs": [],
   "source": [
    "jobs=pd.DataFrame({})\n",
    "jobs['title']=job_titles[:10]\n",
    "jobs['company']=companies_names[:10]\n",
    "jobs['experience_required']=experience_list[:10]\n",
    "jobs['location']=locations_list[:10]"
   ]
  },
  {
   "cell_type": "code",
   "execution_count": 48,
   "metadata": {},
   "outputs": [
    {
     "data": {
      "text/html": [
       "<div>\n",
       "<style scoped>\n",
       "    .dataframe tbody tr th:only-of-type {\n",
       "        vertical-align: middle;\n",
       "    }\n",
       "\n",
       "    .dataframe tbody tr th {\n",
       "        vertical-align: top;\n",
       "    }\n",
       "\n",
       "    .dataframe thead th {\n",
       "        text-align: right;\n",
       "    }\n",
       "</style>\n",
       "<table border=\"1\" class=\"dataframe\">\n",
       "  <thead>\n",
       "    <tr style=\"text-align: right;\">\n",
       "      <th></th>\n",
       "      <th>title</th>\n",
       "      <th>company</th>\n",
       "      <th>experience_required</th>\n",
       "      <th>location</th>\n",
       "    </tr>\n",
       "  </thead>\n",
       "  <tbody>\n",
       "    <tr>\n",
       "      <th>0</th>\n",
       "      <td>Data Scientist / Data Analyst -Business Analyst</td>\n",
       "      <td>Inflexion Analytix Private Limited</td>\n",
       "      <td>0-3 Yrs</td>\n",
       "      <td>Mumbai, Hyderabad/Secunderabad, Pune, Gurgaon/...</td>\n",
       "    </tr>\n",
       "    <tr>\n",
       "      <th>1</th>\n",
       "      <td>Senior Data Analyst - Data Lineage</td>\n",
       "      <td>Opex Global Services</td>\n",
       "      <td>5-10 Yrs</td>\n",
       "      <td>Bangalore/Bengaluru</td>\n",
       "    </tr>\n",
       "    <tr>\n",
       "      <th>2</th>\n",
       "      <td>Data analysts</td>\n",
       "      <td>IBM India Pvt. Limited</td>\n",
       "      <td>5-6 Yrs</td>\n",
       "      <td>Bengaluru/Bangalore</td>\n",
       "    </tr>\n",
       "    <tr>\n",
       "      <th>3</th>\n",
       "      <td>Data Analyst - Informatica MDM</td>\n",
       "      <td>Shell India Markets Private Limited</td>\n",
       "      <td>6-9 Yrs</td>\n",
       "      <td>Bangalore/Bengaluru</td>\n",
       "    </tr>\n",
       "    <tr>\n",
       "      <th>4</th>\n",
       "      <td>Excel VBA Jobs Bangalore | VBA data analyst Jobs</td>\n",
       "      <td>Mind Circus Innovation</td>\n",
       "      <td>0-1 Yrs</td>\n",
       "      <td>Mysore/Mysuru, Coimbatore, Bangalore/Bengaluru</td>\n",
       "    </tr>\n",
       "    <tr>\n",
       "      <th>5</th>\n",
       "      <td>Data analysts</td>\n",
       "      <td>IBM India Pvt. Limited</td>\n",
       "      <td>3-5 Yrs</td>\n",
       "      <td>Bangalore/Bengaluru</td>\n",
       "    </tr>\n",
       "    <tr>\n",
       "      <th>6</th>\n",
       "      <td>Business Data Analyst</td>\n",
       "      <td>dotSolved India Pvt., Ltd.</td>\n",
       "      <td>9-13 Yrs</td>\n",
       "      <td>Chennai, Bangalore/Bengaluru, Mumbai (All Areas)</td>\n",
       "    </tr>\n",
       "    <tr>\n",
       "      <th>7</th>\n",
       "      <td>Data Analyst</td>\n",
       "      <td>Myntra Designs Pvt. Ltd.</td>\n",
       "      <td>3-5 Yrs</td>\n",
       "      <td>Bangalore/Bengaluru</td>\n",
       "    </tr>\n",
       "    <tr>\n",
       "      <th>8</th>\n",
       "      <td>Data Analyst</td>\n",
       "      <td>Myntra Designs Pvt. Ltd.</td>\n",
       "      <td>3-8 Yrs</td>\n",
       "      <td>Bangalore/Bengaluru</td>\n",
       "    </tr>\n",
       "    <tr>\n",
       "      <th>9</th>\n",
       "      <td>Data Analyst - Category Demand Management (Rev...</td>\n",
       "      <td>Myntra Designs Pvt. Ltd.</td>\n",
       "      <td>1-4 Yrs</td>\n",
       "      <td>Bangalore/Bengaluru</td>\n",
       "    </tr>\n",
       "  </tbody>\n",
       "</table>\n",
       "</div>"
      ],
      "text/plain": [
       "                                               title  \\\n",
       "0    Data Scientist / Data Analyst -Business Analyst   \n",
       "1                 Senior Data Analyst - Data Lineage   \n",
       "2                                      Data analysts   \n",
       "3                     Data Analyst - Informatica MDM   \n",
       "4   Excel VBA Jobs Bangalore | VBA data analyst Jobs   \n",
       "5                                      Data analysts   \n",
       "6                              Business Data Analyst   \n",
       "7                                       Data Analyst   \n",
       "8                                       Data Analyst   \n",
       "9  Data Analyst - Category Demand Management (Rev...   \n",
       "\n",
       "                               company experience_required  \\\n",
       "0   Inflexion Analytix Private Limited             0-3 Yrs   \n",
       "1                 Opex Global Services            5-10 Yrs   \n",
       "2               IBM India Pvt. Limited             5-6 Yrs   \n",
       "3  Shell India Markets Private Limited             6-9 Yrs   \n",
       "4               Mind Circus Innovation             0-1 Yrs   \n",
       "5               IBM India Pvt. Limited             3-5 Yrs   \n",
       "6           dotSolved India Pvt., Ltd.            9-13 Yrs   \n",
       "7             Myntra Designs Pvt. Ltd.             3-5 Yrs   \n",
       "8             Myntra Designs Pvt. Ltd.             3-8 Yrs   \n",
       "9             Myntra Designs Pvt. Ltd.             1-4 Yrs   \n",
       "\n",
       "                                            location  \n",
       "0  Mumbai, Hyderabad/Secunderabad, Pune, Gurgaon/...  \n",
       "1                                Bangalore/Bengaluru  \n",
       "2                                Bengaluru/Bangalore  \n",
       "3                                Bangalore/Bengaluru  \n",
       "4     Mysore/Mysuru, Coimbatore, Bangalore/Bengaluru  \n",
       "5                                Bangalore/Bengaluru  \n",
       "6   Chennai, Bangalore/Bengaluru, Mumbai (All Areas)  \n",
       "7                                Bangalore/Bengaluru  \n",
       "8                                Bangalore/Bengaluru  \n",
       "9                                Bangalore/Bengaluru  "
      ]
     },
     "execution_count": 48,
     "metadata": {},
     "output_type": "execute_result"
    }
   ],
   "source": [
    "jobs"
   ]
  },
  {
   "cell_type": "markdown",
   "metadata": {},
   "source": [
    "We can see that we have created the datset named jobs."
   ]
  },
  {
   "cell_type": "code",
   "execution_count": 49,
   "metadata": {},
   "outputs": [],
   "source": [
    "driver.close()"
   ]
  },
  {
   "cell_type": "code",
   "execution_count": 1,
   "metadata": {},
   "outputs": [],
   "source": [
    "from selenium.common.exceptions import NoSuchElementException"
   ]
  },
  {
   "cell_type": "markdown",
   "metadata": {},
   "source": [
    "# Ques 2"
   ]
  },
  {
   "cell_type": "markdown",
   "metadata": {},
   "source": [
    "Write a python program to scrape data for “Data Scientist” Job position in “Bangalore” location. You have to scrape the job-title, job-location, company_name, full job-description. You have to scrape first 10 jobs data."
   ]
  },
  {
   "cell_type": "code",
   "execution_count": 5,
   "metadata": {},
   "outputs": [],
   "source": [
    "# let's first connect to the web driver\n",
    "driver = webdriver.Chrome(r\"C:\\Users\\Neha\\Downloads\\chromedriver_win32\\chromedriver.exe\")"
   ]
  },
  {
   "cell_type": "code",
   "execution_count": 6,
   "metadata": {},
   "outputs": [],
   "source": [
    "url = \"https://www.naukri.com\"\n",
    "driver.get(url)"
   ]
  },
  {
   "cell_type": "code",
   "execution_count": 7,
   "metadata": {},
   "outputs": [
    {
     "data": {
      "text/plain": [
       "<selenium.webdriver.remote.webelement.WebElement (session=\"6b4041c87deb129b933322334f4747af\", element=\"fe5a71f3-bdf8-4850-bfac-fb7c61118aff\")>"
      ]
     },
     "execution_count": 7,
     "metadata": {},
     "output_type": "execute_result"
    }
   ],
   "source": [
    "# finding element for job search bar\n",
    "search_job = driver.find_element_by_xpath(\"//input[@class='sugInp']\")\n",
    "search_job"
   ]
  },
  {
   "cell_type": "code",
   "execution_count": 8,
   "metadata": {},
   "outputs": [],
   "source": [
    "# write on search bar\n",
    "search_job.send_keys('Data Scientist')"
   ]
  },
  {
   "cell_type": "code",
   "execution_count": 9,
   "metadata": {},
   "outputs": [],
   "source": [
    "# finding element for job location bar\n",
    "search_loc=driver.find_element_by_id('qsb-location-sugg')\n",
    "search_loc.send_keys(\"Bangalore\")"
   ]
  },
  {
   "cell_type": "code",
   "execution_count": 10,
   "metadata": {},
   "outputs": [
    {
     "data": {
      "text/plain": [
       "<selenium.webdriver.remote.webelement.WebElement (session=\"6b4041c87deb129b933322334f4747af\", element=\"d45ff62e-2d26-4bb0-b98a-4016eacbb1f1\")>"
      ]
     },
     "execution_count": 10,
     "metadata": {},
     "output_type": "execute_result"
    }
   ],
   "source": [
    "search_btn= driver .find_element_by_xpath(\"//button[@class='btn']\")\n",
    "search_btn"
   ]
  },
  {
   "cell_type": "code",
   "execution_count": 11,
   "metadata": {},
   "outputs": [],
   "source": [
    "# clicking  using xpath function\n",
    "search_btn=driver.find_element_by_class_name('btn')\n",
    "search_btn.click()"
   ]
  },
  {
   "cell_type": "code",
   "execution_count": 12,
   "metadata": {},
   "outputs": [
    {
     "data": {
      "text/plain": [
       "[<selenium.webdriver.remote.webelement.WebElement (session=\"6b4041c87deb129b933322334f4747af\", element=\"e19191d2-b863-4d2c-8ad4-8585133ac604\")>,\n",
       " <selenium.webdriver.remote.webelement.WebElement (session=\"6b4041c87deb129b933322334f4747af\", element=\"67fcccfb-3ed8-43f0-8222-dc7d298b15f5\")>,\n",
       " <selenium.webdriver.remote.webelement.WebElement (session=\"6b4041c87deb129b933322334f4747af\", element=\"9f60df94-ca75-40c5-a338-13f6b33f7391\")>,\n",
       " <selenium.webdriver.remote.webelement.WebElement (session=\"6b4041c87deb129b933322334f4747af\", element=\"58501c22-ae51-436b-97d8-9d24e0790e91\")>,\n",
       " <selenium.webdriver.remote.webelement.WebElement (session=\"6b4041c87deb129b933322334f4747af\", element=\"b4705392-e5bd-4647-8531-5175c8f8889e\")>,\n",
       " <selenium.webdriver.remote.webelement.WebElement (session=\"6b4041c87deb129b933322334f4747af\", element=\"37ce5583-0288-40f1-a52f-623eebf8c227\")>,\n",
       " <selenium.webdriver.remote.webelement.WebElement (session=\"6b4041c87deb129b933322334f4747af\", element=\"3fc3173d-3a1c-4191-b7bd-44c86d539380\")>,\n",
       " <selenium.webdriver.remote.webelement.WebElement (session=\"6b4041c87deb129b933322334f4747af\", element=\"837bf569-e0d7-468c-b77b-3bcb3248b64a\")>,\n",
       " <selenium.webdriver.remote.webelement.WebElement (session=\"6b4041c87deb129b933322334f4747af\", element=\"0e0acdc3-2fa8-4a80-912b-ae87eb0ee79a\")>,\n",
       " <selenium.webdriver.remote.webelement.WebElement (session=\"6b4041c87deb129b933322334f4747af\", element=\"456ad212-ecd8-4739-9515-e43792dd3414\")>,\n",
       " <selenium.webdriver.remote.webelement.WebElement (session=\"6b4041c87deb129b933322334f4747af\", element=\"8b1a91b5-1071-43e5-9a1e-db233e5046cc\")>,\n",
       " <selenium.webdriver.remote.webelement.WebElement (session=\"6b4041c87deb129b933322334f4747af\", element=\"a75c1e9f-e3a8-48bc-ad71-82b4a1bb68a6\")>,\n",
       " <selenium.webdriver.remote.webelement.WebElement (session=\"6b4041c87deb129b933322334f4747af\", element=\"e1321ace-511e-4725-9dc2-baa65c94077f\")>,\n",
       " <selenium.webdriver.remote.webelement.WebElement (session=\"6b4041c87deb129b933322334f4747af\", element=\"cf5c8d3c-9937-4175-90fb-161bf9c12719\")>,\n",
       " <selenium.webdriver.remote.webelement.WebElement (session=\"6b4041c87deb129b933322334f4747af\", element=\"af06e2ff-5eef-45a8-a271-8094e353cc2f\")>,\n",
       " <selenium.webdriver.remote.webelement.WebElement (session=\"6b4041c87deb129b933322334f4747af\", element=\"647ed223-8deb-488f-a6e6-e9165489c776\")>,\n",
       " <selenium.webdriver.remote.webelement.WebElement (session=\"6b4041c87deb129b933322334f4747af\", element=\"3444366b-130c-4119-8847-228afaffd1ee\")>,\n",
       " <selenium.webdriver.remote.webelement.WebElement (session=\"6b4041c87deb129b933322334f4747af\", element=\"6ff443c3-bf57-45a5-a4f8-5c624ba96157\")>,\n",
       " <selenium.webdriver.remote.webelement.WebElement (session=\"6b4041c87deb129b933322334f4747af\", element=\"78915479-4eb7-401b-b7f7-9d6544c52208\")>,\n",
       " <selenium.webdriver.remote.webelement.WebElement (session=\"6b4041c87deb129b933322334f4747af\", element=\"c6a892c4-f5fa-41c5-ad08-7f0aebcbc881\")>]"
      ]
     },
     "execution_count": 12,
     "metadata": {},
     "output_type": "execute_result"
    }
   ],
   "source": [
    "#so let's extract all the tags having the job titles\n",
    "title_tag=driver.find_elements_by_xpath(\"//a[@class='title fw500 ellipsis']\")\n",
    "title_tag"
   ]
  },
  {
   "cell_type": "code",
   "execution_count": 13,
   "metadata": {},
   "outputs": [
    {
     "data": {
      "text/plain": [
       "['Data Scientist / Data Analyst -Business Analyst',\n",
       " 'Senior Data Scientist',\n",
       " 'Immediate job opening - Senior Data Scientist',\n",
       " 'Senior Data Scientist',\n",
       " 'VP - Sr. Data Scientist For Morgan Stanley, Bangalore',\n",
       " 'Lead Data Scientist',\n",
       " 'Lead Data Scientist',\n",
       " 'Data analytics / Data scientist intern (work from Home)',\n",
       " 'Data Scientist - IBM Garage',\n",
       " 'Digital Enterprise Architect (Data Scientist)']"
      ]
     },
     "execution_count": 13,
     "metadata": {},
     "output_type": "execute_result"
    }
   ],
   "source": [
    "# extract the text of the job title  from the tags\n",
    "job1_titles=[]\n",
    "for i in title_tag:\n",
    "    if i.text is None:\n",
    "        job1_titles.append('Not')\n",
    "    else:\n",
    "        job1_titles.append(i.text)\n",
    "job1_titles[:10]        "
   ]
  },
  {
   "cell_type": "code",
   "execution_count": 14,
   "metadata": {},
   "outputs": [
    {
     "data": {
      "text/plain": [
       "[<selenium.webdriver.remote.webelement.WebElement (session=\"6b4041c87deb129b933322334f4747af\", element=\"4fde0edc-2502-4ae8-b9af-b63560adb8a9\")>,\n",
       " <selenium.webdriver.remote.webelement.WebElement (session=\"6b4041c87deb129b933322334f4747af\", element=\"0497b983-774c-4bd5-80e3-fffad6c2d227\")>,\n",
       " <selenium.webdriver.remote.webelement.WebElement (session=\"6b4041c87deb129b933322334f4747af\", element=\"7d8361f3-05bf-4487-96e6-6ab48234ce63\")>,\n",
       " <selenium.webdriver.remote.webelement.WebElement (session=\"6b4041c87deb129b933322334f4747af\", element=\"5338bd12-035e-4750-8f24-372695cbe997\")>,\n",
       " <selenium.webdriver.remote.webelement.WebElement (session=\"6b4041c87deb129b933322334f4747af\", element=\"7318cb0c-f856-4128-adef-4cc111918be5\")>,\n",
       " <selenium.webdriver.remote.webelement.WebElement (session=\"6b4041c87deb129b933322334f4747af\", element=\"6fd906cf-e509-469d-94c2-f85925fd8234\")>,\n",
       " <selenium.webdriver.remote.webelement.WebElement (session=\"6b4041c87deb129b933322334f4747af\", element=\"15b15fb6-58ff-4209-a69f-15abe1c5e15a\")>,\n",
       " <selenium.webdriver.remote.webelement.WebElement (session=\"6b4041c87deb129b933322334f4747af\", element=\"8ed34db6-e584-41ba-896c-faedf985f1e6\")>,\n",
       " <selenium.webdriver.remote.webelement.WebElement (session=\"6b4041c87deb129b933322334f4747af\", element=\"519b747b-64ef-45a4-bc7c-a20f4c755f3f\")>,\n",
       " <selenium.webdriver.remote.webelement.WebElement (session=\"6b4041c87deb129b933322334f4747af\", element=\"8f59efb9-fd28-46c4-aba4-b7e89f2be850\")>,\n",
       " <selenium.webdriver.remote.webelement.WebElement (session=\"6b4041c87deb129b933322334f4747af\", element=\"88c6e58a-8eaf-48a9-af8d-43f4ff983db5\")>,\n",
       " <selenium.webdriver.remote.webelement.WebElement (session=\"6b4041c87deb129b933322334f4747af\", element=\"801e1905-11c2-458b-9c5b-473db768409b\")>,\n",
       " <selenium.webdriver.remote.webelement.WebElement (session=\"6b4041c87deb129b933322334f4747af\", element=\"b4d8e043-0e57-494f-9d85-8ca28a3d78f8\")>,\n",
       " <selenium.webdriver.remote.webelement.WebElement (session=\"6b4041c87deb129b933322334f4747af\", element=\"dd92844b-825c-46ba-8580-f6d7a52930d0\")>,\n",
       " <selenium.webdriver.remote.webelement.WebElement (session=\"6b4041c87deb129b933322334f4747af\", element=\"3a3b6db4-76bc-4090-ab58-79dc5b8fb665\")>,\n",
       " <selenium.webdriver.remote.webelement.WebElement (session=\"6b4041c87deb129b933322334f4747af\", element=\"341f3cad-2892-4ead-bf52-4e1696642882\")>,\n",
       " <selenium.webdriver.remote.webelement.WebElement (session=\"6b4041c87deb129b933322334f4747af\", element=\"45bf36ea-1503-405e-8635-efa67bf6c206\")>,\n",
       " <selenium.webdriver.remote.webelement.WebElement (session=\"6b4041c87deb129b933322334f4747af\", element=\"4b9f1284-21cc-4ae4-9e21-780ac74758c4\")>,\n",
       " <selenium.webdriver.remote.webelement.WebElement (session=\"6b4041c87deb129b933322334f4747af\", element=\"42969d33-a77f-46ed-84b3-f28e350da83a\")>,\n",
       " <selenium.webdriver.remote.webelement.WebElement (session=\"6b4041c87deb129b933322334f4747af\", element=\"7d8035c2-606a-4453-9c32-658235422c36\")>]"
      ]
     },
     "execution_count": 14,
     "metadata": {},
     "output_type": "execute_result"
    }
   ],
   "source": [
    "# lets extract all the tags having company names\n",
    "company_tag=driver.find_elements_by_xpath(\"//a[@class='subTitle ellipsis fleft']\")\n",
    "company_tag"
   ]
  },
  {
   "cell_type": "code",
   "execution_count": 15,
   "metadata": {},
   "outputs": [
    {
     "data": {
      "text/plain": [
       "['Inflexion Analytix Private Limited',\n",
       " 'RedBus',\n",
       " 'RedBus',\n",
       " 'Fractal Analytics',\n",
       " 'Morgan Stanley Advantage Services',\n",
       " 'FICO',\n",
       " 'Fractal Analytics',\n",
       " 'TalkValley LLC',\n",
       " 'IBM India Pvt. Limited',\n",
       " 'Mphasis Limited']"
      ]
     },
     "execution_count": 15,
     "metadata": {},
     "output_type": "execute_result"
    }
   ],
   "source": [
    "# Now we will extract the text from the tags by looping over these tags\n",
    "companies1_names=[]\n",
    "\n",
    "for i in company_tag:\n",
    "    companies1_names.append(i.text)\n",
    "companies1_names[:10]    "
   ]
  },
  {
   "cell_type": "code",
   "execution_count": 16,
   "metadata": {},
   "outputs": [
    {
     "data": {
      "text/plain": [
       "[<selenium.webdriver.remote.webelement.WebElement (session=\"6b4041c87deb129b933322334f4747af\", element=\"5a06d9d0-4734-4d7c-b491-0209049d578d\")>,\n",
       " <selenium.webdriver.remote.webelement.WebElement (session=\"6b4041c87deb129b933322334f4747af\", element=\"c24fb833-fd4e-4416-b214-2e4b6b62669a\")>,\n",
       " <selenium.webdriver.remote.webelement.WebElement (session=\"6b4041c87deb129b933322334f4747af\", element=\"fe0bbb8f-88ea-471f-80d0-08151709f4b9\")>,\n",
       " <selenium.webdriver.remote.webelement.WebElement (session=\"6b4041c87deb129b933322334f4747af\", element=\"2a23be26-c2fb-44f0-b77c-f3c5d078398a\")>,\n",
       " <selenium.webdriver.remote.webelement.WebElement (session=\"6b4041c87deb129b933322334f4747af\", element=\"e8031cf7-9996-4776-b7c7-73674453e717\")>,\n",
       " <selenium.webdriver.remote.webelement.WebElement (session=\"6b4041c87deb129b933322334f4747af\", element=\"8aaa1e20-2b25-4760-acf9-19fe332b2b5b\")>,\n",
       " <selenium.webdriver.remote.webelement.WebElement (session=\"6b4041c87deb129b933322334f4747af\", element=\"8d2e0058-2142-4bf8-8bbc-610d47866ba5\")>,\n",
       " <selenium.webdriver.remote.webelement.WebElement (session=\"6b4041c87deb129b933322334f4747af\", element=\"5ceed03d-ecb7-4097-83f2-96ed13263995\")>,\n",
       " <selenium.webdriver.remote.webelement.WebElement (session=\"6b4041c87deb129b933322334f4747af\", element=\"acb24fc5-52a0-4f47-8a58-b3a4d42354fc\")>,\n",
       " <selenium.webdriver.remote.webelement.WebElement (session=\"6b4041c87deb129b933322334f4747af\", element=\"76b8ec43-1bfb-4d9a-afe0-9dddb6a078ab\")>,\n",
       " <selenium.webdriver.remote.webelement.WebElement (session=\"6b4041c87deb129b933322334f4747af\", element=\"984ad6c6-6c11-4248-93bc-23d206adc880\")>,\n",
       " <selenium.webdriver.remote.webelement.WebElement (session=\"6b4041c87deb129b933322334f4747af\", element=\"fa16b0d6-de64-46c9-a76f-ec8e317e69d9\")>,\n",
       " <selenium.webdriver.remote.webelement.WebElement (session=\"6b4041c87deb129b933322334f4747af\", element=\"e275c86e-5658-423b-9114-aa4d29404ef5\")>,\n",
       " <selenium.webdriver.remote.webelement.WebElement (session=\"6b4041c87deb129b933322334f4747af\", element=\"9c177384-b774-46d6-88dd-04f4612be1aa\")>,\n",
       " <selenium.webdriver.remote.webelement.WebElement (session=\"6b4041c87deb129b933322334f4747af\", element=\"8bc32c4d-9d8c-45ca-a173-84e700654118\")>,\n",
       " <selenium.webdriver.remote.webelement.WebElement (session=\"6b4041c87deb129b933322334f4747af\", element=\"027bb517-c19c-4e9f-89b1-ae8f9eb45cb8\")>,\n",
       " <selenium.webdriver.remote.webelement.WebElement (session=\"6b4041c87deb129b933322334f4747af\", element=\"7bcc4f19-2b92-4f43-8309-77a641fb9e23\")>,\n",
       " <selenium.webdriver.remote.webelement.WebElement (session=\"6b4041c87deb129b933322334f4747af\", element=\"5539bb37-c250-4ef4-a72a-5f85cc1142ac\")>,\n",
       " <selenium.webdriver.remote.webelement.WebElement (session=\"6b4041c87deb129b933322334f4747af\", element=\"c4fce94c-5a3d-4759-9d57-80c887549ba9\")>,\n",
       " <selenium.webdriver.remote.webelement.WebElement (session=\"6b4041c87deb129b933322334f4747af\", element=\"33e896d1-dc98-43de-9308-1c12dcb3dbb4\")>]"
      ]
     },
     "execution_count": 16,
     "metadata": {},
     "output_type": "execute_result"
    }
   ],
   "source": [
    "# lets extract all the tags having locations\n",
    "locations_tag=driver.find_elements_by_xpath(\"//li[@class='fleft grey-text br2 placeHolderLi location']/span\")\n",
    "locations_tag"
   ]
  },
  {
   "cell_type": "code",
   "execution_count": 17,
   "metadata": {},
   "outputs": [
    {
     "data": {
      "text/plain": [
       "['Mumbai, Hyderabad/Secunderabad, Pune, Gurgaon/Gurugram, Chennai, Bangalore/Bengaluru',\n",
       " 'Bangalore/Bengaluru',\n",
       " 'Bangalore/Bengaluru',\n",
       " 'Mumbai, Gurgaon/Gurugram, Bangalore/Bengaluru',\n",
       " 'Bangalore/Bengaluru',\n",
       " 'Bangalore/Bengaluru',\n",
       " 'Gurgaon/Gurugram, Bangalore/Bengaluru, Mumbai (All Areas)',\n",
       " 'Kolkata, Bangalore/Bengaluru, Delhi / NCR',\n",
       " 'Bengaluru/Bangalore',\n",
       " 'Bangalore/Bengaluru']"
      ]
     },
     "execution_count": 17,
     "metadata": {},
     "output_type": "execute_result"
    }
   ],
   "source": [
    "locations1_list=[]\n",
    "for i in locations_tag:\n",
    "    locations1_list.append(i.text)\n",
    "locations1_list[:10]    "
   ]
  },
  {
   "cell_type": "code",
   "execution_count": 18,
   "metadata": {},
   "outputs": [
    {
     "name": "stdout",
     "output_type": "stream",
     "text": [
      "10\n",
      "10\n",
      "10\n"
     ]
    },
    {
     "data": {
      "text/plain": [
       "(None, None, None)"
      ]
     },
     "execution_count": 18,
     "metadata": {},
     "output_type": "execute_result"
    }
   ],
   "source": [
    "print(len(job1_titles[:10])),print(len(companies1_names[:10])),print(len(locations1_list[:10]))"
   ]
  },
  {
   "cell_type": "code",
   "execution_count": 19,
   "metadata": {},
   "outputs": [],
   "source": [
    "driver=webdriver.Chrome(r\"C:\\Users\\Neha\\Downloads\\chromedriver_win32\\chromedriver.exe\")\n",
    "driver.get('https://www.naukri.com/data-scientist-jobs-in-banglore-bagaluru')"
   ]
  },
  {
   "cell_type": "code",
   "execution_count": 20,
   "metadata": {},
   "outputs": [],
   "source": [
    "urls=[]"
   ]
  },
  {
   "cell_type": "code",
   "execution_count": 21,
   "metadata": {},
   "outputs": [],
   "source": [
    "job_description=[]"
   ]
  },
  {
   "cell_type": "code",
   "execution_count": 22,
   "metadata": {},
   "outputs": [],
   "source": [
    "for i in driver.find_elements_by_xpath(\"//a[@class='title fw500 ellipsis']\"):\n",
    "    urls.append(i.get_attribute(\"href\"))\n",
    "        "
   ]
  },
  {
   "cell_type": "code",
   "execution_count": 23,
   "metadata": {},
   "outputs": [],
   "source": [
    "for url in urls[:10]:\n",
    "    \n",
    "    \n",
    "    try:\n",
    "        driver.get(url)\n",
    "        description=driver.find_element_by_xpath(\"//section[@class='job-desc']\").text\n",
    "        job_description.append(description)\n",
    "        \n",
    "    except NoSuchElementException:\n",
    "        job_description.append(\"Not Available\")"
   ]
  },
  {
   "cell_type": "code",
   "execution_count": 24,
   "metadata": {},
   "outputs": [
    {
     "data": {
      "text/plain": [
       "[\"Job description\\nJob Role : Data Scientist/Data Analyst /Business Analyst\\n\\nLocation : Chennai/Bangalore/Hyderabad/Pune/Mumbai/Delhi\\n\\nGreetings from CAIA - Center for Artificial Intelligence & Advanced Analytics\\n43% of companies experienced a high deficit of skilled resources with Advanced Analytical skills and AI implementing capabilities in year 2020. CAIA gives you a great opportunity to enter the world of future technologies and Innovations- Data Science, Analytics, AI, Data Visualization and Cloud Computing.\\n\\nWhile 2020 was a year like no other, we are living in an interesting times where data is reshaping the world, and businesses are rapidly adopting technology to gain an edge over others. Hence, there's a substantial increase in demand for technology professionals who can implement systems in data science, machine learning and AI in Tier 1 and Tier 2 organization's working closely with us.\\n\\nTo help you build a sustainable career we would like you to utilize data, software and Analytical approaches in Data Science and AI to up skill and get recruited into an organization appreciating your skilling journey.\\nApplications invited from all Freshers and experienced candidates (0-3 yrs) aspiring to make a career in Artificial Intelligence and Advanced Analytics and Data Science.\\nIf you wish to make a shift in your career or undergo a career transition, upskilling is essential since it allows you to learn more about the domain and acquire the required skills.\\n\\nCall to schedule interview Monday -Saturday from 10:00 am to 7Pm\\n\\nAlexandria A - +91 76958 88879\\nManigandan -+91 93444 57360\\n\\nEmail :\\n\\nalexandriaa@centerforaia.com\\nmanigandan@centerforaia.com\\n\\nWhat is needed from you?\\n\\nFreshers who wish to start their career in Analytics and AI and professionals who wish to\\nupskill or change their domain to analytics and emerging technologies are free to apply.\\nAn Educational background in any one of the following- BE/B.Tech, ME/M Tech, MSc, BSc/MSc Math's and Statistics, B Com, BCA, BSc CS, BSC IT, MSC IT, MCA\\nSkills relating to Mathematics/Statistics.\\nNatural passion towards numbers, business, coding, Analytics and Artificial Intelligence, Machine Learning, visualization\\nGood verbal and written communication skills\\nAbility to understand domains in businesses across various sectors\\n\\n\\nSelection procedure includes\\n\\nAptitude Test & Communication Exam - Online / Offline\\nSQL/Python test - Online / Offline\\n\\nCandidates who clears the above will have one-one discussion with our Career Guidance Manager for further evaluation and processing of your Resume.\\n\\n\\nAll the Shortlisted candidates will be eligible to continue the corporate training with CAIA\\nWhat you can expect from us?\\n\\nYou will get trained on the following modules for a period of 12-14 weeks:\\n\\nSQL & PLSQL\\nData Wrangling using Python\\nData Visualization Using Power-BI\\nStatistics for Machine Learning\\nArtificial Intelligence, Data Interpretation\\nSupervised & Unsupervised Learning,\\nNLP & Deep Learning\\nCloud Data Lake\\nBusiness intelligence & Data Visualization\\nSimulation Projects\\nExpected Outcome?\\n\\nAt the end of the Training you are expected to be well versed with the following:\\n\\nAnalysis of large and complex data sets from multiple sources\\nDevelopment and evaluation of data analytics models, algorithms and solutions\\nUnderstanding/implementation of ML algorithms, performance tuning and reporting\\nImplementation of algorithms to mine targeted data and the ability to convert data in to a business story\\nTranslation of business requirements into technical requirements; Data extraction, preparation and transformation\\nIdentification, development and implementation of statistical techniques and algorithms that address business challenges and adds value to the organization\\nRequirement Analysis and communication of findings in the form of a meaningful story with the stakeholders\\nFinding analytical solutions to abstract business issues.\\nApply objective analysis of facts before coming to a conclusion\\n\\nAbout CAIA - Inflexion Analytix Private Limited\\n\\nCenter for Artificial Intelligence and Advanced Analytics (Center for AIA) is the brainchild of experienced and visionary alumni of IIT Madras and Bombay.\\nDigital leaders - 5F World and Systech Solutions have joined hands to create a venture for architecting the future of society, workforce, governments and businesses. 5F World specializes in designing solutions around digital platforms and Systech Solutions has an expertise in architecting Artificial Intelligence and Advance Analytics solutions for Fortune 500 companies.\\nOur Website : http://www.centerforaia.com/\\n\\nhttps://inflexion-analytix-private-limited.business.site/?m=true\\n\\nCenter for Artificial Intelligence & Advanced Analytics (CAIA) focuses on the following:\\n\\n1. Global Research on emerging trends, technologies and applications in AI and Advanced Analytics\\n2. Advanced Training programs for readying the future ready workforce\\n3. Solutions to herald the futuristic lifestyle and workspaces in the field of AI and Data Science.\\nRoleData Analyst\\nIndustry TypeBPO / Call Centre\\nFunctional AreaAnalytics & Business Intelligence\\nEmployment TypeFull Time, Permanent\\nRole CategoryAnalytics & BI\\nEducation\\nUG :Any Graduate in Any Specialization\\nKey Skills\\nBusiness IntelligenceArtificial IntelligenceBig DataITMachine LearningStatisticsDeep LearningAnalyticsBusiness AnalysisSQLData ScienceNLPCloud ComputingData VisualizationSoftwareData WarehousingPython\",\n",
       " 'Not Available',\n",
       " 'Not Available',\n",
       " 'Job description\\nServe as primary technical lead on all phases of the projects from providing solutioning, experimentation and deployment.\\nWilling to get your hands dirty with data analysis as well as be comfortable delegating tasks to junior members on the project team, thus providing technical guidance and oversight to the overall project.\\nHands-on solutioning within the chosen AI platform to partner with both customer and internal data solution architects.\\nMust Have\\n8 years of experience delivering results from advanced analytics projects; with at least 2 years experience leading a project or large workstream\\nExperience working on data analytics problems in commercial problems space such as pricing, supply chain, marketing or customer experience. Proven track record with building and deploying supervised classification, regression, deep learning and unsupervised clustering models and time series analysis.\\n5 years of Knowledge and or experience with data transformations using SQL, leveraging SAS or SAS Viya platform.\\nStatistical model building with 5 years of experience\\nBasic understanding of machine learning models development in python and leveraging AWS.\\nBachelors Degree in Engineering, Mathematics Analytics, Economics or Business\\nNice to Have\\n5 years of Knowledge and experience with SAS or SAS Viya platform\\nExperience working with remote teams spread across the globe\\nMachine Learning modelling experience\\nPython programming to build ML models\\nAWS or equivalent other cloud based services knowledge SAS EG\\nExperience working in a data analytics COE or in an analytics consulting company\\nRoleTechnical Architect\\nIndustry TypeManagement Consulting\\nFunctional AreaIT Software - DBA, Datawarehousing\\nEmployment TypeFull Time, Permanent\\nRole CategoryProgramming & Design\\nEducation\\nUG :B.Tech/B.E. in Production/Industrial\\nPG :Any Postgraduate in Any Specialization\\nKey Skills\\nSupply chainData analysisSASTime series analysisArtificial IntelligenceConsultingMachine learningData analyticsSQLPython',\n",
       " 'Job description\\nAbout Us\\nMorgan Stanley is a leading global financial services firm providing a wide range of investment banking, securities, investment management and wealth management services. We advise, originate, trade, manage and distribute capital for governments, institutions and individuals. As a market leader, the talent and passion of our people is critical to our success. Together, we share a common set of values rooted in integrity, excellence and strong team ethic. We provide you a superior foundation for building a professional career where you can learn, achieve and grow.\\nTechnology/Role/Department at Morgan Stanley\\nTechnology is the key differentiator that ensures that we manage our global businesses and serve clients on a market leading platform that is resilient, safe, efficient, smart, fast and flexible. Technology redefines how we do business in global, complex and dynamic financial markets. We have a large number of award winning technology platforms that help to propel our Firm’s businesses to be the top in the market. Our India technology teams are based in Mumbai and Bengaluru. We have built strong techno-functional teams which partner with our offices globally taking global ownership of systems and products. We have a vibrant and diverse mix of technologists working on different technologies and functional domains. There is a large focus on innovation, inclusion, giving back to the community and sharing knowledge.\\nWealth Management Technology (WMIMT) is responsible for the design, development, delivery, and support of the technical platform behind the products and services used by the Business. Morgan Stanley Wealth Management (WM) is a product of the acquisition of Smith Barney from Citigroup, which was completed in June ‘13. Its core client base is individual investors, small- to medium-size businesses and institutions, and high net worth families and individuals. In the second half of ‘14, WM reached a milestone, with its business having surpassed $2 trillion in total client assets.\\nWe are seeking a Machine Learning Engineer with expertise in design and development of data and ML centric applications at scale. The right candidate would have a background in data engineering and requisite familiarity and experience working with Machine learning (ML) algorithms and Frameworks. The role is a confluence of engineering (programming), ML and data analysis. Knowledge of Data Science is a plus. This position is for the Decision products which is part of Artificial Intelligence and Knowledge Management group within Morgan Stanley Wealth Management. The team is comprised of members located in NY-United States, Mumbai-India and Bengaluru-India. The team partners with various businesses and IT groups within firm to develop analytics and ML powered solutions aimed at targeting Clients, Participants and Financial Advisors with relevant recommendations. The team accumulates data from a variety of internal and external upstream systems in order to develop statistics, models, dashboards and metrics for the Digital Platforms team.\\nThe right candidate has (Responsibilities)\\n• Create ML model training, validation and hyper-parameter search pipelines\\n• Explore new data sources and data. Select appropriate datasets and their representation methods. Perform data analysis (statistical and otherwise), to derive inferences from data\\n• Design machine learning systems, and oversee the platform on which the solutions would be deployed\\n• Ensure data integrity through – Data quality, validation, Governance and Transparency\\n• Design and Build distributed, scalable, and reliable data pipelines that ingest and process data at scale and in real-time\\n• Production deployment and Model monitoring to ensure stable performance and adherence to standards\\n• Evaluate state-of-art data-centric technologies and prototype solutions to improve our architecture and platform\\n• Understand data visualization to create meaningful dashboards for end-users\\nQualifications - External\\nPrimary skills\\n• Experienced professional with 8-15 years of experience developing and implementing ML models in Big data ecosystem i.e. Hadoop, Spark, Kafka, HBase, Hive / Impala, Cassandra, MongoDB or any other similar distributed computing technology\\n• Proficiency with Scala / Python and basic libraries for machine learning such as scikit-learn, pandas, deep-learning\\n• Proficiency in data analysis using complex and optimized SQL and / or above mentioned technologies\\n• Understanding of data structures, data modeling and software architecture\\n• Experience in architecture, design and implementation of data intensive applications for practical use-cases\\n• Expertise in visualizing large datasets in an efficient manner\\n• Ability to work in fast paced and dynamic environment\\n• Good written and verbal communication skills\\nGood to have skills\\n• In-depth understanding of Machine Learning and Statistics, in addition to above\\n• Experience in domains – Financial Risk and Log Analytics\\n• Worked on large scale Anomaly Detection use cases\\n• Practical knowledge of Natural Language Processing (NLP) and/or Neural network implementation\\n• Tableau for data visualization\\n• Experience working in an Agile environment\\n\\nIf you are interested, please respond with your updated resume along with below mentioned details.\\n\\nCTC:\\nExp:\\nNotice:\\nHave you earlier worked with Morgan Stanley:\\nRoleIT/Technical Content Developer\\nIndustry TypeAccounting / Auditing\\nFunctional AreaIT Software - Application Programming, Maintenance\\nEmployment TypeFull Time, Permanent\\nRole CategoryOther\\nEducation\\nUG :Any Graduate in Any Specialization\\nPG :Any Postgraduate in Any Specialization\\nDoctorate :Any Doctorate in Any Specialization\\nKey Skills\\nData ScienceNetworking analyticsCyber Securitywealth managementMachine Learning',\n",
       " 'Job description\\nJob Summary\\nThe candidate should be a Cybersecurity Data Scientist with a background in machine learning for cybersecurity applications.\\nHeShe will contribute, provide subject matter expertise in the area of cybersecurity for critical infrastructure systems.\\n\\nResearch, develop, design and implement machine learning algorithms for cyber threat detection in operational technology environments, under limited direction.\\nIdentify data types to enable detection of cyber events.\\nTest and validate developed algorithms on real operational data.\\nIdentify, define, and scope complex data analytics problems in the cybersecurity domain.\\nDevelop cross-domain strategies for increased network security and resiliency of the entire network.\\nRoleTeam Lead/Technical Lead\\nIndustry TypeAnalytics / KPO / Research\\nFunctional AreaIT Software - Network Administration, Security\\nEmployment TypeFull Time, Permanent\\nRole CategoryProgramming & Design\\nEducation\\nUG :B.Tech/B.E. in Computers\\nPG :Post Graduation Not Required\\nKey Skills\\nbig data analyticsArtificial IntelligenceMachine learningAnti money launderingNetwork securitySubject matter expertiseOperationsdigital transformationFraud detectionFICO',\n",
       " 'Job description\\nPosition Description:\\nThe Artificial Intelligence and Machine Learning (AIML) group at Fractal Analytics is actively involved in helping Fortune 500 companies by enabling them to discover how they can leverage their data using advanced and sophisticated AI/ML algorithms for which we are looking for Data Scientists with the capability to work on independent statistical and machine learning research/ projects. If you are a problem solver with a curiosity for exploring new techniques and technologies in AIML space, then we would like to talk with you.\\nJob Responsibilities:\\nAbility to understand a problem statement and implement analytical solutions & techniques independently with independently/proactively/thought-leadership\\nWork with stakeholders throughout the organization to identify opportunities for leveraging company/client data to drive business solutions\\nFast learner: ability to learn and pick up a new language/tool/ platform quickly\\nConceptualize, design, and deliver high-quality solutions and insightful analysis\\nConduct research and prototyping innovations; data and requirements gathering; solution scoping and architecture; consulting clients and client facing teams on advanced statistical and machine learning problems\\nCollaborate and coordinate with different functional teams (engineering and product development) to implement models and monitor outcomes\\nAbility to deliver AIML based solutions around a host of domains and problems, with some of them being: Customer Segmentation & Targeting, Propensity Modeling, Churn Modeling, Lifetime Value Estimation, Forecasting, Recommender Systems, Modeling Response to Incentives, Marketing Mix Optimization, Price Optimization\\nExperience Required:\\nMinimum 10+ years of experience in Machine Learning domain\\nExpert level proficiency in at least one of R and Python\\nAbility to create efficient solutions to complex problems. Strong skills in data-structures and ML algorithms\\nExperience of working on end-to-end data science pipeline: problem scoping, data gathering, EDA, modelling, insights, visualizations, monitoring and maintenance\\nProblem-solving: Ability to break the problem into small parts and applying relevant techniques to drive required outcomes\\nIntermediate to advanced knowledge of machine learning, probability theory, statistics, and algorithms. You will be required to discuss and use various algorithms and approaches on a daily basis\\nWe use regression, Bayesian methods, tree-based learners, SVM, RF, XGBOOST, time series modeling, dimensionality reduction, SEM, GLM, GLMM, clustering, Deep learning etc. on a regular basis. If you know few of them you are good to go\\nGood to Have:\\nExperience in one of the upcoming technologies like deep learning, NLP, image processing, recommender systems\\nExperience of working in on one or more domains:\\nCPG: pricing and promotion analytics, marketing analytics, trade promotions, supply chain management\\nBFSI: cross-sell, up-sell, campaign analytics, treasury analytics, fraud detection\\nHealthcare: medical adherence, medical risk profiling, EHR data, fraud-waste-abuse\\nExperience in working with Linux computing environment and use of command line tools like sed/awk\\nGood grasp on databases including RDBMS, NoSQL, MongoDB etc.\\nRoleAnalytics Manager\\nIndustry TypeMiscellaneous\\nFunctional AreaAnalytics & Business Intelligence\\nEmployment TypeFull Time, Permanent\\nRole CategoryAnalytics & BI\\nEducation\\nUG :Any Graduate in Any Specialization\\nKey Skills\\nRNoSQLArtificial IntelligenceData StructuresGoSupply Chain ManagementMarketing AnalyticsMachine LearningDeep LearningPython',\n",
       " 'Job description\\nWe are a group of tenured professors from Tier-1 business schools in US universities. We teach machine learning and deep learning to master and PhD students. For our efforts with MentorStudents.org, we are looking to hire a team of interns who are interested in learning data science and analyze data under our supervision.\\n\\nHours commitment: at least 42.5 hrs/week\\n\\nDuration of the internship: 3 months\\n\\nRequired skills: Communication skills, Python, and OOP\\n\\nPerks (besides getting paid): Learn from professors who teach machine learning in the US\\n+ internship completion certificate\\n+ endorsement of your candidacy to US companies for a remote job via our placement business unit\\n+ networking (check out https://MentorStudents.org)\\n\\nNext step / TEST for Selection:\\nThis test will help you present your resume better and improve your employability. Hence, it is in your interest to work on this test. Create a tutorial in Google doc on how to create a timeline in Tableau Public. Use events from your resume as events for the timeline. You are encouraged to look at https://public.tableau.com/en-us/gallery for inspiration. Send your Google doc link at jobs [at] mentorstudents [dot] org. Make sure to make the link publicly accessible so that our team can evaluate your work.\\nRoleTrainee\\nIndustry TypeIT Services & Consulting\\nFunctional AreaIT Software - eCommerce, Internet Technologies\\nEmployment TypeFull Time, Freelance/Homebased\\nRole CategoryOther\\nEducation\\nUG :Graduation Not Required\\nKey Skills\\nCommunication SkillsPython\\nJupyter\\nSkills highlighted with ‘‘ are preferred keyskills',\n",
       " 'Not Available',\n",
       " 'Not Available']"
      ]
     },
     "execution_count": 24,
     "metadata": {},
     "output_type": "execute_result"
    }
   ],
   "source": [
    "job_description"
   ]
  },
  {
   "cell_type": "code",
   "execution_count": 25,
   "metadata": {},
   "outputs": [
    {
     "name": "stdout",
     "output_type": "stream",
     "text": [
      "10\n"
     ]
    }
   ],
   "source": [
    "print(len(job_description))"
   ]
  },
  {
   "cell_type": "markdown",
   "metadata": {},
   "source": [
    "# Creating a dataframe for the Data Analyst Jobs"
   ]
  },
  {
   "cell_type": "code",
   "execution_count": 27,
   "metadata": {},
   "outputs": [],
   "source": [
    "job1=pd.DataFrame({})\n",
    "job1['title']=job1_titles[:10]\n",
    "job1['company_name']=companies1_names[:10]\n",
    "job1['location']=locations1_list[:10]\n",
    "job1['job_desc']=job_description"
   ]
  },
  {
   "cell_type": "code",
   "execution_count": 28,
   "metadata": {},
   "outputs": [
    {
     "data": {
      "text/html": [
       "<div>\n",
       "<style scoped>\n",
       "    .dataframe tbody tr th:only-of-type {\n",
       "        vertical-align: middle;\n",
       "    }\n",
       "\n",
       "    .dataframe tbody tr th {\n",
       "        vertical-align: top;\n",
       "    }\n",
       "\n",
       "    .dataframe thead th {\n",
       "        text-align: right;\n",
       "    }\n",
       "</style>\n",
       "<table border=\"1\" class=\"dataframe\">\n",
       "  <thead>\n",
       "    <tr style=\"text-align: right;\">\n",
       "      <th></th>\n",
       "      <th>title</th>\n",
       "      <th>company_name</th>\n",
       "      <th>location</th>\n",
       "      <th>job_desc</th>\n",
       "    </tr>\n",
       "  </thead>\n",
       "  <tbody>\n",
       "    <tr>\n",
       "      <th>0</th>\n",
       "      <td>Data Scientist / Data Analyst -Business Analyst</td>\n",
       "      <td>Inflexion Analytix Private Limited</td>\n",
       "      <td>Mumbai, Hyderabad/Secunderabad, Pune, Gurgaon/...</td>\n",
       "      <td>Job description\\nJob Role : Data Scientist/Dat...</td>\n",
       "    </tr>\n",
       "    <tr>\n",
       "      <th>1</th>\n",
       "      <td>Senior Data Scientist</td>\n",
       "      <td>RedBus</td>\n",
       "      <td>Bangalore/Bengaluru</td>\n",
       "      <td>Not Available</td>\n",
       "    </tr>\n",
       "    <tr>\n",
       "      <th>2</th>\n",
       "      <td>Immediate job opening - Senior Data Scientist</td>\n",
       "      <td>RedBus</td>\n",
       "      <td>Bangalore/Bengaluru</td>\n",
       "      <td>Not Available</td>\n",
       "    </tr>\n",
       "    <tr>\n",
       "      <th>3</th>\n",
       "      <td>Senior Data Scientist</td>\n",
       "      <td>Fractal Analytics</td>\n",
       "      <td>Mumbai, Gurgaon/Gurugram, Bangalore/Bengaluru</td>\n",
       "      <td>Job description\\nServe as primary technical le...</td>\n",
       "    </tr>\n",
       "    <tr>\n",
       "      <th>4</th>\n",
       "      <td>VP - Sr. Data Scientist For Morgan Stanley, Ba...</td>\n",
       "      <td>Morgan Stanley Advantage Services</td>\n",
       "      <td>Bangalore/Bengaluru</td>\n",
       "      <td>Job description\\nAbout Us\\nMorgan Stanley is a...</td>\n",
       "    </tr>\n",
       "    <tr>\n",
       "      <th>5</th>\n",
       "      <td>Lead Data Scientist</td>\n",
       "      <td>FICO</td>\n",
       "      <td>Bangalore/Bengaluru</td>\n",
       "      <td>Job description\\nJob Summary\\nThe candidate sh...</td>\n",
       "    </tr>\n",
       "    <tr>\n",
       "      <th>6</th>\n",
       "      <td>Lead Data Scientist</td>\n",
       "      <td>Fractal Analytics</td>\n",
       "      <td>Gurgaon/Gurugram, Bangalore/Bengaluru, Mumbai ...</td>\n",
       "      <td>Job description\\nPosition Description:\\nThe Ar...</td>\n",
       "    </tr>\n",
       "    <tr>\n",
       "      <th>7</th>\n",
       "      <td>Data analytics / Data scientist intern (work f...</td>\n",
       "      <td>TalkValley LLC</td>\n",
       "      <td>Kolkata, Bangalore/Bengaluru, Delhi / NCR</td>\n",
       "      <td>Job description\\nWe are a group of tenured pro...</td>\n",
       "    </tr>\n",
       "    <tr>\n",
       "      <th>8</th>\n",
       "      <td>Data Scientist - IBM Garage</td>\n",
       "      <td>IBM India Pvt. Limited</td>\n",
       "      <td>Bengaluru/Bangalore</td>\n",
       "      <td>Not Available</td>\n",
       "    </tr>\n",
       "    <tr>\n",
       "      <th>9</th>\n",
       "      <td>Digital Enterprise Architect (Data Scientist)</td>\n",
       "      <td>Mphasis Limited</td>\n",
       "      <td>Bangalore/Bengaluru</td>\n",
       "      <td>Not Available</td>\n",
       "    </tr>\n",
       "  </tbody>\n",
       "</table>\n",
       "</div>"
      ],
      "text/plain": [
       "                                               title  \\\n",
       "0    Data Scientist / Data Analyst -Business Analyst   \n",
       "1                              Senior Data Scientist   \n",
       "2      Immediate job opening - Senior Data Scientist   \n",
       "3                              Senior Data Scientist   \n",
       "4  VP - Sr. Data Scientist For Morgan Stanley, Ba...   \n",
       "5                                Lead Data Scientist   \n",
       "6                                Lead Data Scientist   \n",
       "7  Data analytics / Data scientist intern (work f...   \n",
       "8                        Data Scientist - IBM Garage   \n",
       "9      Digital Enterprise Architect (Data Scientist)   \n",
       "\n",
       "                         company_name  \\\n",
       "0  Inflexion Analytix Private Limited   \n",
       "1                              RedBus   \n",
       "2                              RedBus   \n",
       "3                   Fractal Analytics   \n",
       "4   Morgan Stanley Advantage Services   \n",
       "5                                FICO   \n",
       "6                   Fractal Analytics   \n",
       "7                      TalkValley LLC   \n",
       "8              IBM India Pvt. Limited   \n",
       "9                     Mphasis Limited   \n",
       "\n",
       "                                            location  \\\n",
       "0  Mumbai, Hyderabad/Secunderabad, Pune, Gurgaon/...   \n",
       "1                                Bangalore/Bengaluru   \n",
       "2                                Bangalore/Bengaluru   \n",
       "3      Mumbai, Gurgaon/Gurugram, Bangalore/Bengaluru   \n",
       "4                                Bangalore/Bengaluru   \n",
       "5                                Bangalore/Bengaluru   \n",
       "6  Gurgaon/Gurugram, Bangalore/Bengaluru, Mumbai ...   \n",
       "7          Kolkata, Bangalore/Bengaluru, Delhi / NCR   \n",
       "8                                Bengaluru/Bangalore   \n",
       "9                                Bangalore/Bengaluru   \n",
       "\n",
       "                                            job_desc  \n",
       "0  Job description\\nJob Role : Data Scientist/Dat...  \n",
       "1                                      Not Available  \n",
       "2                                      Not Available  \n",
       "3  Job description\\nServe as primary technical le...  \n",
       "4  Job description\\nAbout Us\\nMorgan Stanley is a...  \n",
       "5  Job description\\nJob Summary\\nThe candidate sh...  \n",
       "6  Job description\\nPosition Description:\\nThe Ar...  \n",
       "7  Job description\\nWe are a group of tenured pro...  \n",
       "8                                      Not Available  \n",
       "9                                      Not Available  "
      ]
     },
     "execution_count": 28,
     "metadata": {},
     "output_type": "execute_result"
    }
   ],
   "source": [
    "job1"
   ]
  },
  {
   "cell_type": "markdown",
   "metadata": {},
   "source": [
    "So here we can see that we have created the dataset for Data scientist jobs named job1."
   ]
  },
  {
   "cell_type": "code",
   "execution_count": 29,
   "metadata": {},
   "outputs": [],
   "source": [
    "driver.close()"
   ]
  },
  {
   "cell_type": "markdown",
   "metadata": {},
   "source": [
    "# Ques 3"
   ]
  },
  {
   "cell_type": "markdown",
   "metadata": {},
   "source": [
    "Q3: In this question you have to scrape data using the filters available on the \n",
    "webpage as shown below:"
   ]
  },
  {
   "cell_type": "markdown",
   "metadata": {},
   "source": [
    "You have to use the location and salary filter.\n",
    "\n",
    "You have to scrape data for “Data Scientist” designation for first 10 job results.\n",
    "\n",
    "You have to scrape the job-title, job-location, company_name,\n",
    "experience_required.\n",
    "\n",
    "The location filter to be used is “Delhi/NCR”\n",
    "\n",
    "The salary filter to be used is “3-6” lakhs"
   ]
  },
  {
   "cell_type": "code",
   "execution_count": 3,
   "metadata": {},
   "outputs": [],
   "source": [
    "# let's first connect to the web driver\n",
    "driver = webdriver.Chrome(r\"C:\\Users\\Neha\\Downloads\\chromedriver_win32\\chromedriver.exe\")"
   ]
  },
  {
   "cell_type": "code",
   "execution_count": 4,
   "metadata": {},
   "outputs": [],
   "source": [
    "url = \"https://www.naukri.com\"\n",
    "driver.get(url)"
   ]
  },
  {
   "cell_type": "code",
   "execution_count": 5,
   "metadata": {},
   "outputs": [
    {
     "data": {
      "text/plain": [
       "<selenium.webdriver.remote.webelement.WebElement (session=\"c2c368b4da34894c5eb8bec1c4ef6f87\", element=\"a8779365-0a35-4da6-847e-407cd43ea5a4\")>"
      ]
     },
     "execution_count": 5,
     "metadata": {},
     "output_type": "execute_result"
    }
   ],
   "source": [
    "# finding element for job search bar\n",
    "search_job = driver.find_element_by_xpath(\"//input[@class='sugInp']\")\n",
    "search_job"
   ]
  },
  {
   "cell_type": "code",
   "execution_count": 6,
   "metadata": {},
   "outputs": [],
   "source": [
    "# write on search bar\n",
    "search_job.send_keys('Data Scientist')"
   ]
  },
  {
   "cell_type": "code",
   "execution_count": 7,
   "metadata": {},
   "outputs": [
    {
     "data": {
      "text/plain": [
       "<selenium.webdriver.remote.webelement.WebElement (session=\"c2c368b4da34894c5eb8bec1c4ef6f87\", element=\"0a982439-770e-4d25-81b7-83a17cfd4a3a\")>"
      ]
     },
     "execution_count": 7,
     "metadata": {},
     "output_type": "execute_result"
    }
   ],
   "source": [
    "search_btn= driver .find_element_by_xpath(\"//button[@class='btn']\")\n",
    "search_btn"
   ]
  },
  {
   "cell_type": "code",
   "execution_count": 8,
   "metadata": {},
   "outputs": [],
   "source": [
    "# clicking  using xpath function\n",
    "search_btn=driver.find_element_by_class_name('btn')\n",
    "search_btn.click()"
   ]
  },
  {
   "cell_type": "code",
   "execution_count": 10,
   "metadata": {},
   "outputs": [
    {
     "data": {
      "text/plain": [
       "[<selenium.webdriver.remote.webelement.WebElement (session=\"c2c368b4da34894c5eb8bec1c4ef6f87\", element=\"751e5e4d-7086-4ea2-a7d6-c017c8cbe787\")>,\n",
       " <selenium.webdriver.remote.webelement.WebElement (session=\"c2c368b4da34894c5eb8bec1c4ef6f87\", element=\"3211d460-ad4a-415c-91b2-46b22582cac4\")>,\n",
       " <selenium.webdriver.remote.webelement.WebElement (session=\"c2c368b4da34894c5eb8bec1c4ef6f87\", element=\"748419fb-caf1-4361-92ee-2661719e37f3\")>,\n",
       " <selenium.webdriver.remote.webelement.WebElement (session=\"c2c368b4da34894c5eb8bec1c4ef6f87\", element=\"e5e5d2ed-043e-4f05-8753-097c1b6c3bac\")>,\n",
       " <selenium.webdriver.remote.webelement.WebElement (session=\"c2c368b4da34894c5eb8bec1c4ef6f87\", element=\"b78f03e7-7df6-4f09-b2f6-0d173f7da2e8\")>,\n",
       " <selenium.webdriver.remote.webelement.WebElement (session=\"c2c368b4da34894c5eb8bec1c4ef6f87\", element=\"5913bb3e-25d2-403a-afe2-3543db56dd17\")>,\n",
       " <selenium.webdriver.remote.webelement.WebElement (session=\"c2c368b4da34894c5eb8bec1c4ef6f87\", element=\"e13fe8b7-5c5c-428b-852d-9960d9cf78d0\")>,\n",
       " <selenium.webdriver.remote.webelement.WebElement (session=\"c2c368b4da34894c5eb8bec1c4ef6f87\", element=\"7f316a1e-4ae4-492d-bee4-a2227da28712\")>,\n",
       " <selenium.webdriver.remote.webelement.WebElement (session=\"c2c368b4da34894c5eb8bec1c4ef6f87\", element=\"064267ba-71b9-4e42-a82a-3bd31b1e3240\")>,\n",
       " <selenium.webdriver.remote.webelement.WebElement (session=\"c2c368b4da34894c5eb8bec1c4ef6f87\", element=\"2f7dbc85-0eff-4ec6-855f-b79f8f3cfc12\")>,\n",
       " <selenium.webdriver.remote.webelement.WebElement (session=\"c2c368b4da34894c5eb8bec1c4ef6f87\", element=\"c4a747af-783c-4aee-b8d3-11e7996786a0\")>,\n",
       " <selenium.webdriver.remote.webelement.WebElement (session=\"c2c368b4da34894c5eb8bec1c4ef6f87\", element=\"9416c2bf-c36f-47d7-9b6b-7af6de344e6d\")>,\n",
       " <selenium.webdriver.remote.webelement.WebElement (session=\"c2c368b4da34894c5eb8bec1c4ef6f87\", element=\"3fa907d3-4807-4c1d-9a60-1d1c0664f56f\")>,\n",
       " <selenium.webdriver.remote.webelement.WebElement (session=\"c2c368b4da34894c5eb8bec1c4ef6f87\", element=\"df15c969-ce2e-4748-8831-18194641c6ae\")>,\n",
       " <selenium.webdriver.remote.webelement.WebElement (session=\"c2c368b4da34894c5eb8bec1c4ef6f87\", element=\"68bd167e-ba4a-41e9-b2b5-4ecdf2da7497\")>,\n",
       " <selenium.webdriver.remote.webelement.WebElement (session=\"c2c368b4da34894c5eb8bec1c4ef6f87\", element=\"4eb9f3f2-5f7f-416b-ad7c-acc8d35d946c\")>,\n",
       " <selenium.webdriver.remote.webelement.WebElement (session=\"c2c368b4da34894c5eb8bec1c4ef6f87\", element=\"261dad1b-8223-48f4-8e35-8e80c371ac53\")>,\n",
       " <selenium.webdriver.remote.webelement.WebElement (session=\"c2c368b4da34894c5eb8bec1c4ef6f87\", element=\"2314c901-873d-4bb8-a800-c0898e7c1e13\")>,\n",
       " <selenium.webdriver.remote.webelement.WebElement (session=\"c2c368b4da34894c5eb8bec1c4ef6f87\", element=\"789f840f-c6ac-404a-9e6b-32a1ef33517f\")>,\n",
       " <selenium.webdriver.remote.webelement.WebElement (session=\"c2c368b4da34894c5eb8bec1c4ef6f87\", element=\"74daf969-4372-48e9-b226-aff9816494e7\")>]"
      ]
     },
     "execution_count": 10,
     "metadata": {},
     "output_type": "execute_result"
    }
   ],
   "source": [
    "#so let's extract all the tags having the job titles\n",
    "title_t1=driver.find_elements_by_xpath(\"//a[@class='title fw500 ellipsis']\")\n",
    "title_t1"
   ]
  },
  {
   "cell_type": "code",
   "execution_count": 11,
   "metadata": {},
   "outputs": [
    {
     "data": {
      "text/plain": [
       "['Data analytics / Data scientist intern (work from Home)',\n",
       " 'Senior Data Scientist / Lead (Predictive Analytics)',\n",
       " 'Data Science- Associate Data Scientist',\n",
       " 'Associate Data Scientist',\n",
       " 'Senior Data Scientist',\n",
       " 'Immediate job opening - Senior Data Scientist',\n",
       " 'Senior Data Scientist',\n",
       " 'Lead Data Scientist',\n",
       " 'Lead Data Scientist',\n",
       " 'Chaayos is Looking For Data Scientist']"
      ]
     },
     "execution_count": 11,
     "metadata": {},
     "output_type": "execute_result"
    }
   ],
   "source": [
    "# extract the text of the job title  from the tags\n",
    "job_titles=[]\n",
    "for i in title_t1:\n",
    "    if i.text is None:\n",
    "        job_titles.append('Not')\n",
    "    else:\n",
    "        job_titles.append(i.text)\n",
    "job_titles[:10]        "
   ]
  },
  {
   "cell_type": "code",
   "execution_count": 12,
   "metadata": {},
   "outputs": [
    {
     "data": {
      "text/plain": [
       "[<selenium.webdriver.remote.webelement.WebElement (session=\"c2c368b4da34894c5eb8bec1c4ef6f87\", element=\"1bcfa59f-8e5d-4e52-bc08-76b765f02f14\")>,\n",
       " <selenium.webdriver.remote.webelement.WebElement (session=\"c2c368b4da34894c5eb8bec1c4ef6f87\", element=\"723176ef-9ee5-4eb4-9572-060b5bbca96a\")>,\n",
       " <selenium.webdriver.remote.webelement.WebElement (session=\"c2c368b4da34894c5eb8bec1c4ef6f87\", element=\"7ff2b9b2-a633-4fa1-b836-d0a3ca3f0b7f\")>,\n",
       " <selenium.webdriver.remote.webelement.WebElement (session=\"c2c368b4da34894c5eb8bec1c4ef6f87\", element=\"8ae150df-c8c6-4ac5-b11b-3495c0fe63ff\")>,\n",
       " <selenium.webdriver.remote.webelement.WebElement (session=\"c2c368b4da34894c5eb8bec1c4ef6f87\", element=\"a8d927f6-7035-4bb0-bdd9-f6406e0f36d4\")>,\n",
       " <selenium.webdriver.remote.webelement.WebElement (session=\"c2c368b4da34894c5eb8bec1c4ef6f87\", element=\"41459b73-d347-421d-baf1-cfe618c64ec3\")>,\n",
       " <selenium.webdriver.remote.webelement.WebElement (session=\"c2c368b4da34894c5eb8bec1c4ef6f87\", element=\"ff393844-7bff-4576-85db-c19e00381b4d\")>,\n",
       " <selenium.webdriver.remote.webelement.WebElement (session=\"c2c368b4da34894c5eb8bec1c4ef6f87\", element=\"288f16aa-d88c-4572-8b33-d520250cff84\")>,\n",
       " <selenium.webdriver.remote.webelement.WebElement (session=\"c2c368b4da34894c5eb8bec1c4ef6f87\", element=\"fc90986b-2673-4970-9b61-57ccbfdf69cc\")>,\n",
       " <selenium.webdriver.remote.webelement.WebElement (session=\"c2c368b4da34894c5eb8bec1c4ef6f87\", element=\"eea3c290-0273-415b-bc7a-3cf15c5745ca\")>,\n",
       " <selenium.webdriver.remote.webelement.WebElement (session=\"c2c368b4da34894c5eb8bec1c4ef6f87\", element=\"7c69be52-85fe-4db5-9caa-a70d42a96205\")>,\n",
       " <selenium.webdriver.remote.webelement.WebElement (session=\"c2c368b4da34894c5eb8bec1c4ef6f87\", element=\"43e80820-3af2-422b-8576-546aba3771c0\")>,\n",
       " <selenium.webdriver.remote.webelement.WebElement (session=\"c2c368b4da34894c5eb8bec1c4ef6f87\", element=\"7190fa12-fcb7-42ec-89c1-6179f9a76a26\")>,\n",
       " <selenium.webdriver.remote.webelement.WebElement (session=\"c2c368b4da34894c5eb8bec1c4ef6f87\", element=\"1c83ad20-cf1e-4355-a160-fbb82ff1e9cd\")>,\n",
       " <selenium.webdriver.remote.webelement.WebElement (session=\"c2c368b4da34894c5eb8bec1c4ef6f87\", element=\"4a61a2e2-f55f-4710-988e-a89b2b76509f\")>,\n",
       " <selenium.webdriver.remote.webelement.WebElement (session=\"c2c368b4da34894c5eb8bec1c4ef6f87\", element=\"866e7cb2-0652-4a0c-bf79-c6099dccf76c\")>,\n",
       " <selenium.webdriver.remote.webelement.WebElement (session=\"c2c368b4da34894c5eb8bec1c4ef6f87\", element=\"0782c260-0edb-465c-8039-37cd403f7453\")>,\n",
       " <selenium.webdriver.remote.webelement.WebElement (session=\"c2c368b4da34894c5eb8bec1c4ef6f87\", element=\"9a280978-30ed-4d2c-a363-7efce1328b8e\")>,\n",
       " <selenium.webdriver.remote.webelement.WebElement (session=\"c2c368b4da34894c5eb8bec1c4ef6f87\", element=\"0b142353-7e10-432d-9f76-79a7df566c6a\")>,\n",
       " <selenium.webdriver.remote.webelement.WebElement (session=\"c2c368b4da34894c5eb8bec1c4ef6f87\", element=\"0f002bb7-c852-4356-a8ff-92e2b785b94a\")>]"
      ]
     },
     "execution_count": 12,
     "metadata": {},
     "output_type": "execute_result"
    }
   ],
   "source": [
    "# lets extract all the tags having company names\n",
    "company_t1=driver.find_elements_by_xpath(\"//a[@class='subTitle ellipsis fleft']\")\n",
    "company_t1"
   ]
  },
  {
   "cell_type": "code",
   "execution_count": 13,
   "metadata": {},
   "outputs": [
    {
     "data": {
      "text/plain": [
       "['TalkValley LLC',\n",
       " 'AVE-Promagne',\n",
       " 'Jet2 Travel Technologies Pvt. Ltd.',\n",
       " 'AlgoAnalytics Private Ltd.',\n",
       " 'RedBus',\n",
       " 'RedBus',\n",
       " 'Fractal Analytics',\n",
       " 'FICO',\n",
       " 'Fractal Analytics',\n",
       " 'Chaayos (Sunshine Teahouse Pvt. Ltd.)']"
      ]
     },
     "execution_count": 13,
     "metadata": {},
     "output_type": "execute_result"
    }
   ],
   "source": [
    "# Now we will extract the text from the tags by looping over these tags\n",
    "companies_names=[]\n",
    "\n",
    "for i in company_t1:\n",
    "    companies_names.append(i.text)\n",
    "companies_names[:10]    "
   ]
  },
  {
   "cell_type": "code",
   "execution_count": 14,
   "metadata": {},
   "outputs": [
    {
     "data": {
      "text/plain": [
       "[<selenium.webdriver.remote.webelement.WebElement (session=\"c2c368b4da34894c5eb8bec1c4ef6f87\", element=\"dc8e4e5d-56af-46a3-bc1a-3b083833b76c\")>,\n",
       " <selenium.webdriver.remote.webelement.WebElement (session=\"c2c368b4da34894c5eb8bec1c4ef6f87\", element=\"ebd30d72-ef7e-4bfe-995c-2fb1b904cbb2\")>,\n",
       " <selenium.webdriver.remote.webelement.WebElement (session=\"c2c368b4da34894c5eb8bec1c4ef6f87\", element=\"99e7a9d2-af2a-4f80-a50d-e675444a91ea\")>,\n",
       " <selenium.webdriver.remote.webelement.WebElement (session=\"c2c368b4da34894c5eb8bec1c4ef6f87\", element=\"ab8a92c9-7996-4383-b5b4-d58a37d8e7c2\")>,\n",
       " <selenium.webdriver.remote.webelement.WebElement (session=\"c2c368b4da34894c5eb8bec1c4ef6f87\", element=\"5c28b3e6-9caf-4da6-a06c-82319a157790\")>,\n",
       " <selenium.webdriver.remote.webelement.WebElement (session=\"c2c368b4da34894c5eb8bec1c4ef6f87\", element=\"e0f44807-3b12-4e02-bd47-60f4c270188b\")>,\n",
       " <selenium.webdriver.remote.webelement.WebElement (session=\"c2c368b4da34894c5eb8bec1c4ef6f87\", element=\"174dd762-7ad3-431f-a051-67bdd007cd9c\")>,\n",
       " <selenium.webdriver.remote.webelement.WebElement (session=\"c2c368b4da34894c5eb8bec1c4ef6f87\", element=\"51465029-54d3-4f9e-9c3a-3d6dc49e43e5\")>,\n",
       " <selenium.webdriver.remote.webelement.WebElement (session=\"c2c368b4da34894c5eb8bec1c4ef6f87\", element=\"d2db77bc-866c-4310-b8af-62c2d0de3153\")>,\n",
       " <selenium.webdriver.remote.webelement.WebElement (session=\"c2c368b4da34894c5eb8bec1c4ef6f87\", element=\"2f5edcbc-85f6-4dac-922e-2f0832a2fa97\")>,\n",
       " <selenium.webdriver.remote.webelement.WebElement (session=\"c2c368b4da34894c5eb8bec1c4ef6f87\", element=\"22f4e386-45a2-464c-a34e-0bac5ace0404\")>,\n",
       " <selenium.webdriver.remote.webelement.WebElement (session=\"c2c368b4da34894c5eb8bec1c4ef6f87\", element=\"e830734e-4950-4b52-a767-58de4f8baad1\")>,\n",
       " <selenium.webdriver.remote.webelement.WebElement (session=\"c2c368b4da34894c5eb8bec1c4ef6f87\", element=\"00af2ef5-5ebb-4505-89a1-0352ef4fe379\")>,\n",
       " <selenium.webdriver.remote.webelement.WebElement (session=\"c2c368b4da34894c5eb8bec1c4ef6f87\", element=\"0dfe2197-31ab-4bd9-b95e-803ef4424dfd\")>,\n",
       " <selenium.webdriver.remote.webelement.WebElement (session=\"c2c368b4da34894c5eb8bec1c4ef6f87\", element=\"c8f7c8d1-2d56-4a31-9189-30c1a508caf5\")>,\n",
       " <selenium.webdriver.remote.webelement.WebElement (session=\"c2c368b4da34894c5eb8bec1c4ef6f87\", element=\"7d06eebc-1950-4ce8-a9c6-fe13e6d55457\")>,\n",
       " <selenium.webdriver.remote.webelement.WebElement (session=\"c2c368b4da34894c5eb8bec1c4ef6f87\", element=\"68af3d82-1f36-4eb7-8f1f-0ce29a298075\")>,\n",
       " <selenium.webdriver.remote.webelement.WebElement (session=\"c2c368b4da34894c5eb8bec1c4ef6f87\", element=\"39cf31bc-49ec-4b54-8c87-cc254557ad71\")>,\n",
       " <selenium.webdriver.remote.webelement.WebElement (session=\"c2c368b4da34894c5eb8bec1c4ef6f87\", element=\"fcd00ea3-fdc2-495d-81c7-37b30c7f4119\")>,\n",
       " <selenium.webdriver.remote.webelement.WebElement (session=\"c2c368b4da34894c5eb8bec1c4ef6f87\", element=\"3b4bee3e-daac-4841-93c5-c843e46f5bee\")>]"
      ]
     },
     "execution_count": 14,
     "metadata": {},
     "output_type": "execute_result"
    }
   ],
   "source": [
    "# so lets extract  all the tags having the experience required data\n",
    "experience_t1=driver.find_elements_by_xpath(\"//li[@class='fleft grey-text br2 placeHolderLi experience'] //span\")\n",
    "experience_t1"
   ]
  },
  {
   "cell_type": "code",
   "execution_count": 15,
   "metadata": {},
   "outputs": [
    {
     "data": {
      "text/plain": [
       "['0-5 Yrs',\n",
       " '7-10 Yrs',\n",
       " '0-2 Yrs',\n",
       " '0-1 Yrs',\n",
       " '5-8 Yrs',\n",
       " '5-8 Yrs',\n",
       " '5-9 Yrs',\n",
       " '6-11 Yrs',\n",
       " '10-15 Yrs',\n",
       " '0-5 Yrs']"
      ]
     },
     "execution_count": 15,
     "metadata": {},
     "output_type": "execute_result"
    }
   ],
   "source": [
    "# no we will extract the text  from these tags only by one by looping over these tags\n",
    "experience_list=[]\n",
    "for i in experience_t1:\n",
    "    experience_list.append(i.text)\n",
    "experience_list[:10]   "
   ]
  },
  {
   "cell_type": "code",
   "execution_count": 17,
   "metadata": {},
   "outputs": [
    {
     "data": {
      "text/plain": [
       "[<selenium.webdriver.remote.webelement.WebElement (session=\"c2c368b4da34894c5eb8bec1c4ef6f87\", element=\"e4934abc-017f-4893-8113-e1e02428d2ea\")>,\n",
       " <selenium.webdriver.remote.webelement.WebElement (session=\"c2c368b4da34894c5eb8bec1c4ef6f87\", element=\"89040e51-c3eb-4936-82b4-cc808b8ea6f6\")>,\n",
       " <selenium.webdriver.remote.webelement.WebElement (session=\"c2c368b4da34894c5eb8bec1c4ef6f87\", element=\"a988a0a0-b0f8-4783-b1fa-c29caae626f9\")>,\n",
       " <selenium.webdriver.remote.webelement.WebElement (session=\"c2c368b4da34894c5eb8bec1c4ef6f87\", element=\"318b4f70-c8e0-4320-ba71-ce6796ee537a\")>,\n",
       " <selenium.webdriver.remote.webelement.WebElement (session=\"c2c368b4da34894c5eb8bec1c4ef6f87\", element=\"5b0b0916-de6c-40a2-90f0-a5f34be37f97\")>,\n",
       " <selenium.webdriver.remote.webelement.WebElement (session=\"c2c368b4da34894c5eb8bec1c4ef6f87\", element=\"65bd8ed9-5443-4bb3-a4c3-28a28afa679d\")>,\n",
       " <selenium.webdriver.remote.webelement.WebElement (session=\"c2c368b4da34894c5eb8bec1c4ef6f87\", element=\"cf5fa421-4e82-44be-9c07-444f4f671004\")>,\n",
       " <selenium.webdriver.remote.webelement.WebElement (session=\"c2c368b4da34894c5eb8bec1c4ef6f87\", element=\"b6ce0ffc-174d-48f3-b773-3bb385b1b9cc\")>,\n",
       " <selenium.webdriver.remote.webelement.WebElement (session=\"c2c368b4da34894c5eb8bec1c4ef6f87\", element=\"e239d9c1-3534-4172-acc8-6c6cec9bb366\")>,\n",
       " <selenium.webdriver.remote.webelement.WebElement (session=\"c2c368b4da34894c5eb8bec1c4ef6f87\", element=\"ae289775-86c8-4b27-afff-ef5438d6f72c\")>,\n",
       " <selenium.webdriver.remote.webelement.WebElement (session=\"c2c368b4da34894c5eb8bec1c4ef6f87\", element=\"880217d5-ef85-45a0-b56b-d5e9ee19f11a\")>,\n",
       " <selenium.webdriver.remote.webelement.WebElement (session=\"c2c368b4da34894c5eb8bec1c4ef6f87\", element=\"e2e402d9-0300-40c6-b2cd-dddf47f9134d\")>,\n",
       " <selenium.webdriver.remote.webelement.WebElement (session=\"c2c368b4da34894c5eb8bec1c4ef6f87\", element=\"cf6130cc-d1fd-41c7-89df-efa5e03fb0d6\")>,\n",
       " <selenium.webdriver.remote.webelement.WebElement (session=\"c2c368b4da34894c5eb8bec1c4ef6f87\", element=\"7fad6946-9138-4eec-b881-147cc3a9266c\")>,\n",
       " <selenium.webdriver.remote.webelement.WebElement (session=\"c2c368b4da34894c5eb8bec1c4ef6f87\", element=\"cf2d6b3c-db21-4075-8978-abc38957a6ca\")>,\n",
       " <selenium.webdriver.remote.webelement.WebElement (session=\"c2c368b4da34894c5eb8bec1c4ef6f87\", element=\"b1d8efdb-7591-4721-9dc1-dde4f74ff25f\")>,\n",
       " <selenium.webdriver.remote.webelement.WebElement (session=\"c2c368b4da34894c5eb8bec1c4ef6f87\", element=\"c5c673da-0f2b-48e3-9ce1-a11db8e39984\")>,\n",
       " <selenium.webdriver.remote.webelement.WebElement (session=\"c2c368b4da34894c5eb8bec1c4ef6f87\", element=\"bfd71f54-cec3-4834-a3ac-e063ab6d3141\")>,\n",
       " <selenium.webdriver.remote.webelement.WebElement (session=\"c2c368b4da34894c5eb8bec1c4ef6f87\", element=\"f7a5576b-4065-44b6-ab93-2d960f6f1a7a\")>,\n",
       " <selenium.webdriver.remote.webelement.WebElement (session=\"c2c368b4da34894c5eb8bec1c4ef6f87\", element=\"d576ee77-34dd-4835-8538-790b80de272e\")>]"
      ]
     },
     "execution_count": 17,
     "metadata": {},
     "output_type": "execute_result"
    }
   ],
   "source": [
    "# So lets extract all the tags having locations\n",
    "locations_t1=driver.find_elements_by_xpath(\"//li[@class='fleft grey-text br2 placeHolderLi location']/span\")\n",
    "locations_t1"
   ]
  },
  {
   "cell_type": "code",
   "execution_count": 18,
   "metadata": {},
   "outputs": [
    {
     "data": {
      "text/plain": [
       "['Kolkata, Bangalore/Bengaluru, Delhi / NCR',\n",
       " 'Chennai',\n",
       " 'Pune',\n",
       " 'Pune(Baner)',\n",
       " 'Bangalore/Bengaluru',\n",
       " 'Bangalore/Bengaluru',\n",
       " 'Mumbai, Gurgaon/Gurugram, Bangalore/Bengaluru',\n",
       " 'Bangalore/Bengaluru',\n",
       " 'Gurgaon/Gurugram, Bangalore/Bengaluru, Mumbai (All Areas)',\n",
       " 'New Delhi']"
      ]
     },
     "execution_count": 18,
     "metadata": {},
     "output_type": "execute_result"
    }
   ],
   "source": [
    "#Now we wil extract the text from these tags only by one by looping over these tags\n",
    "locations_list=[]\n",
    "for i in locations_t1:\n",
    "    locations_list.append(i.text)\n",
    "locations_list[:10]    "
   ]
  },
  {
   "cell_type": "code",
   "execution_count": 19,
   "metadata": {},
   "outputs": [
    {
     "name": "stdout",
     "output_type": "stream",
     "text": [
      "10\n",
      "10\n",
      "10\n",
      "10\n"
     ]
    },
    {
     "data": {
      "text/plain": [
       "(None, None, None, None)"
      ]
     },
     "execution_count": 19,
     "metadata": {},
     "output_type": "execute_result"
    }
   ],
   "source": [
    "#So lets check th length of ech element.\n",
    "print(len(job_titles[:10])),print(len(companies_names[:10])),print(len(experience_list[:10])),print(len(locations_list[:10]))"
   ]
  },
  {
   "cell_type": "markdown",
   "metadata": {},
   "source": [
    "# Creating a DataFarme for the Data Analyst jobs"
   ]
  },
  {
   "cell_type": "code",
   "execution_count": 20,
   "metadata": {},
   "outputs": [],
   "source": [
    "jobs2=pd.DataFrame({})\n",
    "jobs2['title']=job_titles[:10]\n",
    "jobs2['company']=companies_names[:10]\n",
    "jobs2['experience_required']=experience_list[:10]\n",
    "jobs2['location']=locations_list[:10]"
   ]
  },
  {
   "cell_type": "code",
   "execution_count": 21,
   "metadata": {},
   "outputs": [
    {
     "data": {
      "text/html": [
       "<div>\n",
       "<style scoped>\n",
       "    .dataframe tbody tr th:only-of-type {\n",
       "        vertical-align: middle;\n",
       "    }\n",
       "\n",
       "    .dataframe tbody tr th {\n",
       "        vertical-align: top;\n",
       "    }\n",
       "\n",
       "    .dataframe thead th {\n",
       "        text-align: right;\n",
       "    }\n",
       "</style>\n",
       "<table border=\"1\" class=\"dataframe\">\n",
       "  <thead>\n",
       "    <tr style=\"text-align: right;\">\n",
       "      <th></th>\n",
       "      <th>title</th>\n",
       "      <th>company</th>\n",
       "      <th>experience_required</th>\n",
       "      <th>location</th>\n",
       "    </tr>\n",
       "  </thead>\n",
       "  <tbody>\n",
       "    <tr>\n",
       "      <th>0</th>\n",
       "      <td>Data analytics / Data scientist intern (work f...</td>\n",
       "      <td>TalkValley LLC</td>\n",
       "      <td>0-5 Yrs</td>\n",
       "      <td>Kolkata, Bangalore/Bengaluru, Delhi / NCR</td>\n",
       "    </tr>\n",
       "    <tr>\n",
       "      <th>1</th>\n",
       "      <td>Senior Data Scientist / Lead (Predictive Analy...</td>\n",
       "      <td>AVE-Promagne</td>\n",
       "      <td>7-10 Yrs</td>\n",
       "      <td>Chennai</td>\n",
       "    </tr>\n",
       "    <tr>\n",
       "      <th>2</th>\n",
       "      <td>Data Science- Associate Data Scientist</td>\n",
       "      <td>Jet2 Travel Technologies Pvt. Ltd.</td>\n",
       "      <td>0-2 Yrs</td>\n",
       "      <td>Pune</td>\n",
       "    </tr>\n",
       "    <tr>\n",
       "      <th>3</th>\n",
       "      <td>Associate Data Scientist</td>\n",
       "      <td>AlgoAnalytics Private Ltd.</td>\n",
       "      <td>0-1 Yrs</td>\n",
       "      <td>Pune(Baner)</td>\n",
       "    </tr>\n",
       "    <tr>\n",
       "      <th>4</th>\n",
       "      <td>Senior Data Scientist</td>\n",
       "      <td>RedBus</td>\n",
       "      <td>5-8 Yrs</td>\n",
       "      <td>Bangalore/Bengaluru</td>\n",
       "    </tr>\n",
       "    <tr>\n",
       "      <th>5</th>\n",
       "      <td>Immediate job opening - Senior Data Scientist</td>\n",
       "      <td>RedBus</td>\n",
       "      <td>5-8 Yrs</td>\n",
       "      <td>Bangalore/Bengaluru</td>\n",
       "    </tr>\n",
       "    <tr>\n",
       "      <th>6</th>\n",
       "      <td>Senior Data Scientist</td>\n",
       "      <td>Fractal Analytics</td>\n",
       "      <td>5-9 Yrs</td>\n",
       "      <td>Mumbai, Gurgaon/Gurugram, Bangalore/Bengaluru</td>\n",
       "    </tr>\n",
       "    <tr>\n",
       "      <th>7</th>\n",
       "      <td>Lead Data Scientist</td>\n",
       "      <td>FICO</td>\n",
       "      <td>6-11 Yrs</td>\n",
       "      <td>Bangalore/Bengaluru</td>\n",
       "    </tr>\n",
       "    <tr>\n",
       "      <th>8</th>\n",
       "      <td>Lead Data Scientist</td>\n",
       "      <td>Fractal Analytics</td>\n",
       "      <td>10-15 Yrs</td>\n",
       "      <td>Gurgaon/Gurugram, Bangalore/Bengaluru, Mumbai ...</td>\n",
       "    </tr>\n",
       "    <tr>\n",
       "      <th>9</th>\n",
       "      <td>Chaayos is Looking For Data Scientist</td>\n",
       "      <td>Chaayos (Sunshine Teahouse Pvt. Ltd.)</td>\n",
       "      <td>0-5 Yrs</td>\n",
       "      <td>New Delhi</td>\n",
       "    </tr>\n",
       "  </tbody>\n",
       "</table>\n",
       "</div>"
      ],
      "text/plain": [
       "                                               title  \\\n",
       "0  Data analytics / Data scientist intern (work f...   \n",
       "1  Senior Data Scientist / Lead (Predictive Analy...   \n",
       "2             Data Science- Associate Data Scientist   \n",
       "3                           Associate Data Scientist   \n",
       "4                              Senior Data Scientist   \n",
       "5      Immediate job opening - Senior Data Scientist   \n",
       "6                              Senior Data Scientist   \n",
       "7                                Lead Data Scientist   \n",
       "8                                Lead Data Scientist   \n",
       "9              Chaayos is Looking For Data Scientist   \n",
       "\n",
       "                                 company experience_required  \\\n",
       "0                         TalkValley LLC             0-5 Yrs   \n",
       "1                           AVE-Promagne            7-10 Yrs   \n",
       "2     Jet2 Travel Technologies Pvt. Ltd.             0-2 Yrs   \n",
       "3             AlgoAnalytics Private Ltd.             0-1 Yrs   \n",
       "4                                 RedBus             5-8 Yrs   \n",
       "5                                 RedBus             5-8 Yrs   \n",
       "6                      Fractal Analytics             5-9 Yrs   \n",
       "7                                   FICO            6-11 Yrs   \n",
       "8                      Fractal Analytics           10-15 Yrs   \n",
       "9  Chaayos (Sunshine Teahouse Pvt. Ltd.)             0-5 Yrs   \n",
       "\n",
       "                                            location  \n",
       "0          Kolkata, Bangalore/Bengaluru, Delhi / NCR  \n",
       "1                                            Chennai  \n",
       "2                                               Pune  \n",
       "3                                        Pune(Baner)  \n",
       "4                                Bangalore/Bengaluru  \n",
       "5                                Bangalore/Bengaluru  \n",
       "6      Mumbai, Gurgaon/Gurugram, Bangalore/Bengaluru  \n",
       "7                                Bangalore/Bengaluru  \n",
       "8  Gurgaon/Gurugram, Bangalore/Bengaluru, Mumbai ...  \n",
       "9                                          New Delhi  "
      ]
     },
     "execution_count": 21,
     "metadata": {},
     "output_type": "execute_result"
    }
   ],
   "source": [
    "jobs2"
   ]
  },
  {
   "cell_type": "markdown",
   "metadata": {},
   "source": [
    "We can see that we have created the dataset named jobs2."
   ]
  },
  {
   "cell_type": "code",
   "execution_count": 22,
   "metadata": {},
   "outputs": [],
   "source": [
    "driver.close()"
   ]
  },
  {
   "cell_type": "markdown",
   "metadata": {},
   "source": [
    "# Ques4"
   ]
  },
  {
   "cell_type": "markdown",
   "metadata": {},
   "source": [
    "Q4: Write a python program to scrape data for first 10 job results for Data scientist \n",
    "Designation in Noida location. You have to scrape company_name, No. of days \n",
    "ago when job was posted, Rating of the company."
   ]
  },
  {
   "cell_type": "code",
   "execution_count": 9,
   "metadata": {},
   "outputs": [],
   "source": [
    "import requests"
   ]
  },
  {
   "cell_type": "code",
   "execution_count": 10,
   "metadata": {},
   "outputs": [
    {
     "data": {
      "text/plain": [
       "<Response [403]>"
      ]
     },
     "execution_count": 10,
     "metadata": {},
     "output_type": "execute_result"
    }
   ],
   "source": [
    "page=requests.get(\"https://www.glassdoor.co.in/index.htm\")\n",
    "page"
   ]
  },
  {
   "cell_type": "markdown",
   "metadata": {},
   "source": [
    "we are getting response 403 . so we can't scrape the data from this website."
   ]
  },
  {
   "cell_type": "markdown",
   "metadata": {},
   "source": [
    "# Ques5"
   ]
  },
  {
   "cell_type": "code",
   "execution_count": 11,
   "metadata": {},
   "outputs": [
    {
     "data": {
      "text/plain": [
       "<Response [403]>"
      ]
     },
     "execution_count": 11,
     "metadata": {},
     "output_type": "execute_result"
    }
   ],
   "source": [
    "pag1 =requests.get(\"https://www.glassdoor.co.in/Salaries/index.htm\")\n",
    "pag1"
   ]
  },
  {
   "cell_type": "markdown",
   "metadata": {},
   "source": [
    "here also we are getting respponse 403."
   ]
  },
  {
   "cell_type": "markdown",
   "metadata": {},
   "source": [
    "# Ques 6"
   ]
  },
  {
   "cell_type": "markdown",
   "metadata": {},
   "source": [
    "Q6 : Scrape data of first 100 sunglasses listings on flipkart.com. You have to \n",
    "scrape four attributes:\n",
    "    \n",
    "1. Brand\n",
    "\n",
    "2. Product Description\n",
    "\n",
    "3. Price\n",
    "\n",
    "4. Discount %\n",
    "\n",
    "The attributes which you have to scrape is ticked marked in the below image."
   ]
  },
  {
   "cell_type": "code",
   "execution_count": 12,
   "metadata": {},
   "outputs": [],
   "source": [
    "# let's first connect to the web driver\n",
    "driver = webdriver.Chrome(r\"C:\\Users\\Neha\\Downloads\\chromedriver_win32\\chromedriver.exe\")"
   ]
  },
  {
   "cell_type": "code",
   "execution_count": 13,
   "metadata": {},
   "outputs": [],
   "source": [
    "url=\"https://www.flipkart.com/\"\n",
    "driver.get(url)"
   ]
  },
  {
   "cell_type": "code",
   "execution_count": 14,
   "metadata": {},
   "outputs": [
    {
     "data": {
      "text/plain": [
       "<selenium.webdriver.remote.webelement.WebElement (session=\"7de1388e5d05f853d22155b31da7a0dc\", element=\"4c50b02a-7a13-41a4-ab43-5783dea9b58e\")>"
      ]
     },
     "execution_count": 14,
     "metadata": {},
     "output_type": "execute_result"
    }
   ],
   "source": [
    "# finding element for job search bar\n",
    "search_g= driver.find_element_by_xpath(\"//input[@type='text']\")\n",
    "search_g"
   ]
  },
  {
   "cell_type": "code",
   "execution_count": 15,
   "metadata": {},
   "outputs": [],
   "source": [
    "# write on search bar\n",
    "search_g.send_keys('sunglasses')"
   ]
  },
  {
   "cell_type": "code",
   "execution_count": 16,
   "metadata": {},
   "outputs": [
    {
     "data": {
      "text/plain": [
       "<selenium.webdriver.remote.webelement.WebElement (session=\"7de1388e5d05f853d22155b31da7a0dc\", element=\"6ff1a9a5-5dcd-4dce-959c-3a7ae8563e95\")>"
      ]
     },
     "execution_count": 16,
     "metadata": {},
     "output_type": "execute_result"
    }
   ],
   "source": [
    "search_btn=driver.find_element_by_xpath(\"//button[@class='L0Z3Pu']\")\n",
    "search_btn"
   ]
  },
  {
   "cell_type": "code",
   "execution_count": 17,
   "metadata": {},
   "outputs": [],
   "source": [
    "search_btn=driver.find_element_by_class_name('L0Z3Pu')\n",
    "search_btn.click()"
   ]
  },
  {
   "cell_type": "code",
   "execution_count": 23,
   "metadata": {},
   "outputs": [],
   "source": [
    "B_name=[]\n",
    "Price=[]\n",
    "P_desc=[]\n",
    "Discount=[]"
   ]
  },
  {
   "cell_type": "code",
   "execution_count": 25,
   "metadata": {},
   "outputs": [],
   "source": [
    "for i in range(3):\n",
    "    b_name=driver.find_elements_by_xpath(\"//div[@class='_2WkVRV']\")\n",
    "    p_desc=driver.find_elements_by_xpath(\"//a[@class='IRpwTa']\")\n",
    "    price =driver.find_elements_by_xpath(\"//div[@class='_25b18c']\")\n",
    "    discount=driver.find_elements_by_xpath(\"//div[@class='_3Ay6Sb']\")\n",
    "    \n",
    "    for j  in b_name:\n",
    "        B_name.append(j.text)\n",
    "    B_name[:100]    \n",
    "    \n",
    "    \n",
    "    \n",
    "    for k in p_desc:\n",
    "        P_desc.append(k.text)\n",
    "    P_desc[:100] \n",
    "    \n",
    "    \n",
    "    for l in price:\n",
    "        Price.append(l.text)\n",
    "    Price[:100] \n",
    "    \n",
    "    \n",
    "    for t in discount:\n",
    "        Discount.append(t.text)\n",
    "    Discount[:100]"
   ]
  },
  {
   "cell_type": "code",
   "execution_count": 26,
   "metadata": {},
   "outputs": [
    {
     "data": {
      "text/plain": [
       "['PIRASO',\n",
       " 'Fastrack',\n",
       " 'Fastrack',\n",
       " 'kingsunglasses',\n",
       " 'PIRASO',\n",
       " 'PIRASO',\n",
       " 'Fastrack',\n",
       " 'PIRASO',\n",
       " 'DEIXELS',\n",
       " 'GANSTA',\n",
       " 'ROZZETTA CRAFT',\n",
       " 'Fastrack',\n",
       " 'PIRASO',\n",
       " 'Singco',\n",
       " 'elegante',\n",
       " 'NuVew',\n",
       " 'Silver Kartz',\n",
       " 'ROZZETTA CRAFT',\n",
       " 'PHENOMENAL',\n",
       " 'PHENOMENAL',\n",
       " 'HIPPON',\n",
       " 'Singco India',\n",
       " 'Singco India',\n",
       " 'ROYAL SON',\n",
       " 'ROYAL SON',\n",
       " 'Singco India',\n",
       " 'ROZZETTA CRAFT',\n",
       " 'NuVew',\n",
       " 'Fastrack',\n",
       " 'Singco India',\n",
       " 'ROYAL SON',\n",
       " 'hipe',\n",
       " 'ROZZETTA CRAFT',\n",
       " 'ROYAL SON',\n",
       " 'NuVew',\n",
       " 'GANSTA',\n",
       " 'PHENOMENAL',\n",
       " 'ROZZETTA CRAFT',\n",
       " 'ROZZETTA CRAFT',\n",
       " 'PHENOMENAL',\n",
       " 'PIRASO',\n",
       " 'Fastrack',\n",
       " 'Fastrack',\n",
       " 'kingsunglasses',\n",
       " 'PIRASO',\n",
       " 'PIRASO',\n",
       " 'Fastrack',\n",
       " 'PIRASO',\n",
       " 'DEIXELS',\n",
       " 'GANSTA',\n",
       " 'ROZZETTA CRAFT',\n",
       " 'Fastrack',\n",
       " 'PIRASO',\n",
       " 'Singco',\n",
       " 'elegante',\n",
       " 'NuVew',\n",
       " 'Silver Kartz',\n",
       " 'ROZZETTA CRAFT',\n",
       " 'PHENOMENAL',\n",
       " 'PHENOMENAL',\n",
       " 'HIPPON',\n",
       " 'Singco India',\n",
       " 'Singco India',\n",
       " 'ROYAL SON',\n",
       " 'ROYAL SON',\n",
       " 'Singco India',\n",
       " 'ROZZETTA CRAFT',\n",
       " 'NuVew',\n",
       " 'Fastrack',\n",
       " 'Singco India',\n",
       " 'ROYAL SON',\n",
       " 'hipe',\n",
       " 'ROZZETTA CRAFT',\n",
       " 'ROYAL SON',\n",
       " 'NuVew',\n",
       " 'GANSTA',\n",
       " 'PHENOMENAL',\n",
       " 'ROZZETTA CRAFT',\n",
       " 'ROZZETTA CRAFT',\n",
       " 'PHENOMENAL',\n",
       " 'PIRASO',\n",
       " 'Fastrack',\n",
       " 'Fastrack',\n",
       " 'kingsunglasses',\n",
       " 'PIRASO',\n",
       " 'PIRASO',\n",
       " 'Fastrack',\n",
       " 'PIRASO',\n",
       " 'DEIXELS',\n",
       " 'GANSTA',\n",
       " 'ROZZETTA CRAFT',\n",
       " 'Fastrack',\n",
       " 'PIRASO',\n",
       " 'Singco',\n",
       " 'elegante',\n",
       " 'NuVew',\n",
       " 'Silver Kartz',\n",
       " 'ROZZETTA CRAFT',\n",
       " 'PHENOMENAL',\n",
       " 'PHENOMENAL']"
      ]
     },
     "execution_count": 26,
     "metadata": {},
     "output_type": "execute_result"
    }
   ],
   "source": [
    "B_name[:100]\n",
    "    "
   ]
  },
  {
   "cell_type": "code",
   "execution_count": 27,
   "metadata": {},
   "outputs": [
    {
     "name": "stdout",
     "output_type": "stream",
     "text": [
      "100\n",
      "100\n",
      "100\n",
      "100\n"
     ]
    },
    {
     "data": {
      "text/plain": [
       "(None, None, None, None)"
      ]
     },
     "execution_count": 27,
     "metadata": {},
     "output_type": "execute_result"
    }
   ],
   "source": [
    "print(len(B_name[:100])),print(len(Price[:100])),print(len(P_desc[:100])),print(len(Discount[:100]))"
   ]
  },
  {
   "cell_type": "markdown",
   "metadata": {},
   "source": [
    "# Creating a dataframe of the above data"
   ]
  },
  {
   "cell_type": "code",
   "execution_count": 29,
   "metadata": {},
   "outputs": [],
   "source": [
    "sun_gl=pd.DataFrame({})\n",
    "sun_gl['Brand_name']=B_name[:100]\n",
    "sun_gl['P_price']=Price[:100]\n",
    "sun_gl['Pr_desc']=P_desc[:100]\n",
    "sun_gl['P_discount']=Discount[:100]"
   ]
  },
  {
   "cell_type": "code",
   "execution_count": 31,
   "metadata": {},
   "outputs": [
    {
     "data": {
      "text/html": [
       "<div>\n",
       "<style scoped>\n",
       "    .dataframe tbody tr th:only-of-type {\n",
       "        vertical-align: middle;\n",
       "    }\n",
       "\n",
       "    .dataframe tbody tr th {\n",
       "        vertical-align: top;\n",
       "    }\n",
       "\n",
       "    .dataframe thead th {\n",
       "        text-align: right;\n",
       "    }\n",
       "</style>\n",
       "<table border=\"1\" class=\"dataframe\">\n",
       "  <thead>\n",
       "    <tr style=\"text-align: right;\">\n",
       "      <th></th>\n",
       "      <th>Brand_name</th>\n",
       "      <th>P_price</th>\n",
       "      <th>Pr_desc</th>\n",
       "      <th>P_discount</th>\n",
       "    </tr>\n",
       "  </thead>\n",
       "  <tbody>\n",
       "    <tr>\n",
       "      <th>0</th>\n",
       "      <td>PIRASO</td>\n",
       "      <td>₹237₹1,59985% off</td>\n",
       "      <td>UV Protection Aviator Sunglasses (54)</td>\n",
       "      <td>85% off</td>\n",
       "    </tr>\n",
       "    <tr>\n",
       "      <th>1</th>\n",
       "      <td>Fastrack</td>\n",
       "      <td>₹570₹79928% off</td>\n",
       "      <td>UV Protection Rectangular Sunglasses (Free Size)</td>\n",
       "      <td>28% off</td>\n",
       "    </tr>\n",
       "    <tr>\n",
       "      <th>2</th>\n",
       "      <td>Fastrack</td>\n",
       "      <td>₹621₹79922% off</td>\n",
       "      <td>Gradient, UV Protection Wayfarer Sunglasses (F...</td>\n",
       "      <td>22% off</td>\n",
       "    </tr>\n",
       "    <tr>\n",
       "      <th>3</th>\n",
       "      <td>kingsunglasses</td>\n",
       "      <td>₹299₹2,59988% off</td>\n",
       "      <td>Mirrored, UV Protection Wayfarer Sunglasses (F...</td>\n",
       "      <td>88% off</td>\n",
       "    </tr>\n",
       "    <tr>\n",
       "      <th>4</th>\n",
       "      <td>PIRASO</td>\n",
       "      <td>₹237₹1,59985% off</td>\n",
       "      <td>UV Protection Aviator Sunglasses (54)</td>\n",
       "      <td>85% off</td>\n",
       "    </tr>\n",
       "    <tr>\n",
       "      <th>...</th>\n",
       "      <td>...</td>\n",
       "      <td>...</td>\n",
       "      <td>...</td>\n",
       "      <td>...</td>\n",
       "    </tr>\n",
       "    <tr>\n",
       "      <th>95</th>\n",
       "      <td>NuVew</td>\n",
       "      <td>₹331₹1,59979% off</td>\n",
       "      <td>UV Protection Aviator Sunglasses (57)</td>\n",
       "      <td>79% off</td>\n",
       "    </tr>\n",
       "    <tr>\n",
       "      <th>96</th>\n",
       "      <td>Silver Kartz</td>\n",
       "      <td>₹733₹89918% off</td>\n",
       "      <td>UV Protection Wayfarer Sunglasses (Free Size)</td>\n",
       "      <td>83% off</td>\n",
       "    </tr>\n",
       "    <tr>\n",
       "      <th>97</th>\n",
       "      <td>ROZZETTA CRAFT</td>\n",
       "      <td>₹331₹2,59987% off</td>\n",
       "      <td>UV Protection, Gradient Rectangular Sunglasses...</td>\n",
       "      <td>77% off</td>\n",
       "    </tr>\n",
       "    <tr>\n",
       "      <th>98</th>\n",
       "      <td>PHENOMENAL</td>\n",
       "      <td>₹213₹1,19982% off</td>\n",
       "      <td>UV Protection, Mirrored Retro Square Sunglasse...</td>\n",
       "      <td>80% off</td>\n",
       "    </tr>\n",
       "    <tr>\n",
       "      <th>99</th>\n",
       "      <td>PHENOMENAL</td>\n",
       "      <td>₹281₹1,99985% off</td>\n",
       "      <td>UV Protection Retro Square Sunglasses (Free Size)</td>\n",
       "      <td>80% off</td>\n",
       "    </tr>\n",
       "  </tbody>\n",
       "</table>\n",
       "<p>100 rows × 4 columns</p>\n",
       "</div>"
      ],
      "text/plain": [
       "        Brand_name            P_price  \\\n",
       "0           PIRASO  ₹237₹1,59985% off   \n",
       "1         Fastrack    ₹570₹79928% off   \n",
       "2         Fastrack    ₹621₹79922% off   \n",
       "3   kingsunglasses  ₹299₹2,59988% off   \n",
       "4           PIRASO  ₹237₹1,59985% off   \n",
       "..             ...                ...   \n",
       "95           NuVew  ₹331₹1,59979% off   \n",
       "96    Silver Kartz    ₹733₹89918% off   \n",
       "97  ROZZETTA CRAFT  ₹331₹2,59987% off   \n",
       "98      PHENOMENAL  ₹213₹1,19982% off   \n",
       "99      PHENOMENAL  ₹281₹1,99985% off   \n",
       "\n",
       "                                              Pr_desc P_discount  \n",
       "0               UV Protection Aviator Sunglasses (54)    85% off  \n",
       "1    UV Protection Rectangular Sunglasses (Free Size)    28% off  \n",
       "2   Gradient, UV Protection Wayfarer Sunglasses (F...    22% off  \n",
       "3   Mirrored, UV Protection Wayfarer Sunglasses (F...    88% off  \n",
       "4               UV Protection Aviator Sunglasses (54)    85% off  \n",
       "..                                                ...        ...  \n",
       "95              UV Protection Aviator Sunglasses (57)    79% off  \n",
       "96      UV Protection Wayfarer Sunglasses (Free Size)    83% off  \n",
       "97  UV Protection, Gradient Rectangular Sunglasses...    77% off  \n",
       "98  UV Protection, Mirrored Retro Square Sunglasse...    80% off  \n",
       "99  UV Protection Retro Square Sunglasses (Free Size)    80% off  \n",
       "\n",
       "[100 rows x 4 columns]"
      ]
     },
     "execution_count": 31,
     "metadata": {},
     "output_type": "execute_result"
    }
   ],
   "source": [
    "sun_gl"
   ]
  },
  {
   "cell_type": "markdown",
   "metadata": {},
   "source": [
    "#We can see that we have created the dataframe."
   ]
  },
  {
   "cell_type": "code",
   "execution_count": 32,
   "metadata": {},
   "outputs": [],
   "source": [
    "driver.close()"
   ]
  },
  {
   "cell_type": "markdown",
   "metadata": {},
   "source": [
    "# Q8: Scrape data for first 100 sneakers you find when you visit flipkart.com and \n",
    "search for “sneakers” in the search field.\n",
    "\n",
    "You have to scrape 4 attributes of each sneaker :\n",
    "    \n",
    "1. Brand\n",
    "\n",
    "2. Product Description\n",
    "\n",
    "3. Price\n",
    "\n",
    "4. discount %"
   ]
  },
  {
   "cell_type": "code",
   "execution_count": 3,
   "metadata": {},
   "outputs": [],
   "source": [
    "# let's first connect to the web driver\n",
    "driver = webdriver.Chrome(r\"C:\\Users\\Neha\\Downloads\\chromedriver_win32\\chromedriver.exe\")"
   ]
  },
  {
   "cell_type": "code",
   "execution_count": 4,
   "metadata": {},
   "outputs": [],
   "source": [
    "url=\"https://www.flipkart.com/\"\n",
    "driver.get(url)"
   ]
  },
  {
   "cell_type": "code",
   "execution_count": 5,
   "metadata": {},
   "outputs": [
    {
     "data": {
      "text/plain": [
       "<selenium.webdriver.remote.webelement.WebElement (session=\"0003341c3c278ca61eb98703d1675fbf\", element=\"55e14e1c-09fa-4154-96b0-caf0cf0b4c4e\")>"
      ]
     },
     "execution_count": 5,
     "metadata": {},
     "output_type": "execute_result"
    }
   ],
   "source": [
    "# finding element for job search bar\n",
    "search_g= driver.find_element_by_xpath(\"//input[@type='text']\")\n",
    "search_g"
   ]
  },
  {
   "cell_type": "code",
   "execution_count": 6,
   "metadata": {},
   "outputs": [],
   "source": [
    "# write on search bar\n",
    "search_g.send_keys('sneakers')"
   ]
  },
  {
   "cell_type": "code",
   "execution_count": 7,
   "metadata": {},
   "outputs": [
    {
     "data": {
      "text/plain": [
       "<selenium.webdriver.remote.webelement.WebElement (session=\"0003341c3c278ca61eb98703d1675fbf\", element=\"827dc307-afd7-4cc9-97a1-7cb0f92e6a55\")>"
      ]
     },
     "execution_count": 7,
     "metadata": {},
     "output_type": "execute_result"
    }
   ],
   "source": [
    "search_btn=driver.find_element_by_xpath(\"//button[@class='L0Z3Pu']\")\n",
    "search_btn"
   ]
  },
  {
   "cell_type": "code",
   "execution_count": 8,
   "metadata": {},
   "outputs": [],
   "source": [
    "search_btn=driver.find_element_by_class_name('L0Z3Pu')\n",
    "search_btn.click()"
   ]
  },
  {
   "cell_type": "code",
   "execution_count": 9,
   "metadata": {},
   "outputs": [],
   "source": [
    "B_name=[]\n",
    "Price=[]\n",
    "P_desc=[]\n",
    "Discount=[]"
   ]
  },
  {
   "cell_type": "code",
   "execution_count": 10,
   "metadata": {},
   "outputs": [],
   "source": [
    "for i in range(3):\n",
    "    b_name=driver.find_elements_by_xpath(\"//div[@class='_2WkVRV']\")\n",
    "    p_desc=driver.find_elements_by_xpath(\"//a[@class='IRpwTa']\")\n",
    "    price =driver.find_elements_by_xpath(\"//div[@class='_25b18c']\")\n",
    "    discount=driver.find_elements_by_xpath(\"//div[@class='_3Ay6Sb']\")\n",
    "    \n",
    "    for j  in b_name:\n",
    "        B_name.append(j.text)\n",
    "    B_name[:100]    \n",
    "    \n",
    "    \n",
    "    \n",
    "    for k in p_desc:\n",
    "        P_desc.append(k.text)\n",
    "    P_desc[:100] \n",
    "    \n",
    "    \n",
    "    for l in price:\n",
    "        Price.append(l.text)\n",
    "    Price[:100] \n",
    "    \n",
    "    \n",
    "    for t in discount:\n",
    "        Discount.append(t.text)\n",
    "    Discount[:100]"
   ]
  },
  {
   "cell_type": "code",
   "execution_count": 11,
   "metadata": {},
   "outputs": [
    {
     "name": "stdout",
     "output_type": "stream",
     "text": [
      "100\n",
      "100\n",
      "100\n",
      "100\n"
     ]
    },
    {
     "data": {
      "text/plain": [
       "(None, None, None, None)"
      ]
     },
     "execution_count": 11,
     "metadata": {},
     "output_type": "execute_result"
    }
   ],
   "source": [
    "print(len(B_name[:100])),print(len(Price[:100])),print(len(P_desc[:100])),print(len(Discount[:100]))"
   ]
  },
  {
   "cell_type": "markdown",
   "metadata": {},
   "source": [
    "# Creating a dataframe of the above data"
   ]
  },
  {
   "cell_type": "code",
   "execution_count": 13,
   "metadata": {},
   "outputs": [],
   "source": [
    "sun_gl=pd.DataFrame({})\n",
    "sun_gl['Brand_name']=B_name[:100]\n",
    "sun_gl['P_price']=Price[:100]\n",
    "sun_gl['Pr_desc']=P_desc[:100]\n",
    "sun_gl['P_discount']=Discount[:100]"
   ]
  },
  {
   "cell_type": "code",
   "execution_count": 14,
   "metadata": {},
   "outputs": [
    {
     "data": {
      "text/html": [
       "<div>\n",
       "<style scoped>\n",
       "    .dataframe tbody tr th:only-of-type {\n",
       "        vertical-align: middle;\n",
       "    }\n",
       "\n",
       "    .dataframe tbody tr th {\n",
       "        vertical-align: top;\n",
       "    }\n",
       "\n",
       "    .dataframe thead th {\n",
       "        text-align: right;\n",
       "    }\n",
       "</style>\n",
       "<table border=\"1\" class=\"dataframe\">\n",
       "  <thead>\n",
       "    <tr style=\"text-align: right;\">\n",
       "      <th></th>\n",
       "      <th>Brand_name</th>\n",
       "      <th>P_price</th>\n",
       "      <th>Pr_desc</th>\n",
       "      <th>P_discount</th>\n",
       "    </tr>\n",
       "  </thead>\n",
       "  <tbody>\n",
       "    <tr>\n",
       "      <th>0</th>\n",
       "      <td>Chevit</td>\n",
       "      <td>₹448₹1,49870% off</td>\n",
       "      <td>Unique &amp; Perfect Collection Combo Pack of 02 S...</td>\n",
       "      <td>70% off</td>\n",
       "    </tr>\n",
       "    <tr>\n",
       "      <th>1</th>\n",
       "      <td>India hub</td>\n",
       "      <td>₹389₹2,99987% off</td>\n",
       "      <td>Combo pack of 2 casual sneaker shoes for men S...</td>\n",
       "      <td>87% off</td>\n",
       "    </tr>\n",
       "    <tr>\n",
       "      <th>2</th>\n",
       "      <td>CALCADOS</td>\n",
       "      <td>₹748₹1,99662% off</td>\n",
       "      <td>White Sneaker For Men's/Boy's Sneakers For Men</td>\n",
       "      <td>62% off</td>\n",
       "    </tr>\n",
       "    <tr>\n",
       "      <th>3</th>\n",
       "      <td>ORICUM</td>\n",
       "      <td>₹377₹99862% off</td>\n",
       "      <td>Sneakers For Men</td>\n",
       "      <td>62% off</td>\n",
       "    </tr>\n",
       "    <tr>\n",
       "      <th>4</th>\n",
       "      <td>Shoes Bank</td>\n",
       "      <td>₹349₹99965% off</td>\n",
       "      <td>Sneakers For Men</td>\n",
       "      <td>65% off</td>\n",
       "    </tr>\n",
       "    <tr>\n",
       "      <th>...</th>\n",
       "      <td>...</td>\n",
       "      <td>...</td>\n",
       "      <td>...</td>\n",
       "      <td>...</td>\n",
       "    </tr>\n",
       "    <tr>\n",
       "      <th>95</th>\n",
       "      <td>3SIX5</td>\n",
       "      <td>₹474₹99952% off</td>\n",
       "      <td>Casual , Partywear Sneakers Shoes For Men's An...</td>\n",
       "      <td>57% off</td>\n",
       "    </tr>\n",
       "    <tr>\n",
       "      <th>96</th>\n",
       "      <td>Birde</td>\n",
       "      <td>₹399₹99960% off</td>\n",
       "      <td>casual for men (beige 06) Sneakers For Men</td>\n",
       "      <td>43% off</td>\n",
       "    </tr>\n",
       "    <tr>\n",
       "      <th>97</th>\n",
       "      <td>restinfoot</td>\n",
       "      <td>₹499₹99950% off</td>\n",
       "      <td>Sneakers For Men</td>\n",
       "      <td>62% off</td>\n",
       "    </tr>\n",
       "    <tr>\n",
       "      <th>98</th>\n",
       "      <td>ASTEROID</td>\n",
       "      <td>₹377₹99962% off</td>\n",
       "      <td>Combo pack of 2 Casuals Shoes For Men (1563-15...</td>\n",
       "      <td>75% off</td>\n",
       "    </tr>\n",
       "    <tr>\n",
       "      <th>99</th>\n",
       "      <td>kardam&amp;sons</td>\n",
       "      <td>₹242₹69965% off</td>\n",
       "      <td>Combo Pack of 4 Latest Collection Stylish Casu...</td>\n",
       "      <td>81% off</td>\n",
       "    </tr>\n",
       "  </tbody>\n",
       "</table>\n",
       "<p>100 rows × 4 columns</p>\n",
       "</div>"
      ],
      "text/plain": [
       "     Brand_name            P_price  \\\n",
       "0        Chevit  ₹448₹1,49870% off   \n",
       "1     India hub  ₹389₹2,99987% off   \n",
       "2      CALCADOS  ₹748₹1,99662% off   \n",
       "3        ORICUM    ₹377₹99862% off   \n",
       "4    Shoes Bank    ₹349₹99965% off   \n",
       "..          ...                ...   \n",
       "95        3SIX5    ₹474₹99952% off   \n",
       "96        Birde    ₹399₹99960% off   \n",
       "97   restinfoot    ₹499₹99950% off   \n",
       "98     ASTEROID    ₹377₹99962% off   \n",
       "99  kardam&sons    ₹242₹69965% off   \n",
       "\n",
       "                                              Pr_desc P_discount  \n",
       "0   Unique & Perfect Collection Combo Pack of 02 S...    70% off  \n",
       "1   Combo pack of 2 casual sneaker shoes for men S...    87% off  \n",
       "2      White Sneaker For Men's/Boy's Sneakers For Men    62% off  \n",
       "3                                    Sneakers For Men    62% off  \n",
       "4                                    Sneakers For Men    65% off  \n",
       "..                                                ...        ...  \n",
       "95  Casual , Partywear Sneakers Shoes For Men's An...    57% off  \n",
       "96         casual for men (beige 06) Sneakers For Men    43% off  \n",
       "97                                   Sneakers For Men    62% off  \n",
       "98  Combo pack of 2 Casuals Shoes For Men (1563-15...    75% off  \n",
       "99  Combo Pack of 4 Latest Collection Stylish Casu...    81% off  \n",
       "\n",
       "[100 rows x 4 columns]"
      ]
     },
     "execution_count": 14,
     "metadata": {},
     "output_type": "execute_result"
    }
   ],
   "source": [
    "sun_gl"
   ]
  },
  {
   "cell_type": "markdown",
   "metadata": {},
   "source": [
    "We have created the dataframe"
   ]
  },
  {
   "cell_type": "code",
   "execution_count": 15,
   "metadata": {},
   "outputs": [],
   "source": [
    "driver.close()"
   ]
  },
  {
   "cell_type": "markdown",
   "metadata": {},
   "source": [
    "# Q9: Go to the link - https://www.myntra.com/shoes\n",
    "Set Price filter to “Rs. 6649 to Rs. 13099” , Color filter to “Black”,"
   ]
  },
  {
   "cell_type": "markdown",
   "metadata": {},
   "source": [
    "And then scrape First 100 shoes data you get. The data should include “Brand” of \n",
    "the shoes , Short Shoe description, price of the shoe "
   ]
  },
  {
   "cell_type": "code",
   "execution_count": 3,
   "metadata": {},
   "outputs": [],
   "source": [
    "# let's first connect to the web driver\n",
    "driver = webdriver.Chrome(r\"C:\\Users\\Neha\\Downloads\\chromedriver_win32\\chromedriver.exe\")"
   ]
  },
  {
   "cell_type": "code",
   "execution_count": 4,
   "metadata": {},
   "outputs": [],
   "source": [
    "url=\"https://www.myntra.com/shoes\"\n",
    "driver.get(url)"
   ]
  },
  {
   "cell_type": "code",
   "execution_count": 8,
   "metadata": {},
   "outputs": [],
   "source": [
    "# appplying the price filter\n",
    "filter_button=driver.find_elements_by_xpath(\"//label[@class='common-customerCheckbox vertical-filters-label']\")\n",
    "for i in filter_button:\n",
    "    if i.text==\"Rs. 6649 to Rs. 13099\":\n",
    "        i.click()\n",
    "        break"
   ]
  },
  {
   "cell_type": "code",
   "execution_count": 11,
   "metadata": {},
   "outputs": [],
   "source": [
    "#Applying the black colur filter\n",
    "filter_button=driver.find_elements_by_xpath(\"//li[@class='colour-listItem']\")\n",
    "for i in filter_button:\n",
    "    if i.text==\"Black\":\n",
    "        i.click()\n",
    "        break"
   ]
  },
  {
   "cell_type": "code",
   "execution_count": 12,
   "metadata": {},
   "outputs": [],
   "source": [
    "B_name=[]\n",
    "Price=[]\n",
    "P_desc=[]"
   ]
  },
  {
   "cell_type": "code",
   "execution_count": 29,
   "metadata": {},
   "outputs": [],
   "source": [
    "for i in range(2):\n",
    "    b_name=driver.find_elements_by_xpath(\"//h1[@class='pdp-title']\")\n",
    "    p_desc=driver.find_elements_by_xpath(\"//h1[@class='name']\")\n",
    "    price =driver.find_elements_by_xpath(\"//div[@class='product-price']\")\n",
    " \n",
    "    for j  in b_name:\n",
    "        B_name.append(j.text)\n",
    "    B_name[:100]    \n",
    "    \n",
    "    \n",
    "    \n",
    "    for k in p_desc:\n",
    "        P_desc.append(k.text)\n",
    "    P_desc[:100] \n",
    "    \n",
    "    \n",
    "    for l in price:\n",
    "        Price.append(l.text)\n",
    "    Price[:100] \n",
    "    "
   ]
  },
  {
   "cell_type": "code",
   "execution_count": 30,
   "metadata": {},
   "outputs": [
    {
     "name": "stdout",
     "output_type": "stream",
     "text": [
      "2\n",
      "100\n",
      "0\n"
     ]
    },
    {
     "data": {
      "text/plain": [
       "(None, None, None)"
      ]
     },
     "execution_count": 30,
     "metadata": {},
     "output_type": "execute_result"
    }
   ],
   "source": [
    "print(len(B_name[:100])),print(len(Price[:100])),print(len(P_desc[:100]))"
   ]
  },
  {
   "cell_type": "code",
   "execution_count": null,
   "metadata": {},
   "outputs": [],
   "source": []
  },
  {
   "cell_type": "markdown",
   "metadata": {},
   "source": [
    "# Q10: Go to webpage https://www.amazon.in/\n",
    " Enter “Laptop” in the search field and then click the search icon.\n",
    " Then set CPU Type filter to “Intel Core i7” and “Intel Core i9” as"
   ]
  },
  {
   "cell_type": "code",
   "execution_count": 3,
   "metadata": {},
   "outputs": [],
   "source": [
    "# let's first connect to the web driver\n",
    "driver = webdriver.Chrome(r\"C:\\Users\\Neha\\Downloads\\chromedriver_win32\\chromedriver.exe\")"
   ]
  },
  {
   "cell_type": "code",
   "execution_count": 4,
   "metadata": {},
   "outputs": [],
   "source": [
    "url=\" https://www.amazon.in \"\n",
    "driver.get(url)"
   ]
  },
  {
   "cell_type": "code",
   "execution_count": 6,
   "metadata": {},
   "outputs": [
    {
     "data": {
      "text/plain": [
       "<selenium.webdriver.remote.webelement.WebElement (session=\"a2ad6e875a1461b017453195fbca0aea\", element=\"3e0f7969-cd34-4a29-9d89-4c7f9e081e64\")>"
      ]
     },
     "execution_count": 6,
     "metadata": {},
     "output_type": "execute_result"
    }
   ],
   "source": [
    "# finding element for job search bar\n",
    "search_g= driver.find_element_by_xpath(\"//input[@type='text']\")\n",
    "search_g"
   ]
  },
  {
   "cell_type": "code",
   "execution_count": 7,
   "metadata": {},
   "outputs": [],
   "source": [
    "# write on search bar\n",
    "search_g.send_keys('Laptop')"
   ]
  },
  {
   "cell_type": "code",
   "execution_count": 8,
   "metadata": {},
   "outputs": [
    {
     "data": {
      "text/plain": [
       "<selenium.webdriver.remote.webelement.WebElement (session=\"a2ad6e875a1461b017453195fbca0aea\", element=\"c44804a4-6a54-4edf-947e-0d869dc08667\")>"
      ]
     },
     "execution_count": 8,
     "metadata": {},
     "output_type": "execute_result"
    }
   ],
   "source": [
    "search_btn=driver.find_element_by_xpath(\"//input[@id='nav-search-submit-button']\")\n",
    "search_btn"
   ]
  },
  {
   "cell_type": "code",
   "execution_count": 9,
   "metadata": {},
   "outputs": [],
   "source": [
    "search_btn=driver.find_element_by_xpath(\"//input[@id='nav-search-submit-button']\")\n",
    "search_btn.click()"
   ]
  },
  {
   "cell_type": "markdown",
   "metadata": {},
   "source": [
    "No core filter are shown on the website"
   ]
  },
  {
   "cell_type": "code",
   "execution_count": null,
   "metadata": {},
   "outputs": [],
   "source": [
    "Title=[]\n",
    "Price=[]\n",
    "Rating=[]"
   ]
  },
  {
   "cell_type": "code",
   "execution_count": null,
   "metadata": {},
   "outputs": [],
   "source": [
    "for i in range(3):\n",
    "    b_name=driver.find_elements_by_xpath(\"//div[@class='_2WkVRV']\")\n",
    "    p_desc=driver.find_elements_by_xpath(\"//a[@class='IRpwTa']\")\n",
    "    price =driver.find_elements_by_xpath(\"//div[@class='_25b18c']\")\n",
    "    \n",
    "    \n",
    "    for j  in b_name:\n",
    "        Title.append(j.text)\n",
    "    Title[:100]    \n",
    "    \n",
    "    \n",
    "    \n",
    "    for k in p_desc:\n",
    "        P_desc.append(k.text)\n",
    "    P_desc[:100] \n",
    "    \n",
    "    \n",
    "    for l in price:\n",
    "        Price.append(l.text)\n",
    "    Price[:100] \n",
    "    "
   ]
  }
 ],
 "metadata": {
  "kernelspec": {
   "display_name": "Python 3",
   "language": "python",
   "name": "python3"
  },
  "language_info": {
   "codemirror_mode": {
    "name": "ipython",
    "version": 3
   },
   "file_extension": ".py",
   "mimetype": "text/x-python",
   "name": "python",
   "nbconvert_exporter": "python",
   "pygments_lexer": "ipython3",
   "version": "3.8.5"
  }
 },
 "nbformat": 4,
 "nbformat_minor": 4
}
