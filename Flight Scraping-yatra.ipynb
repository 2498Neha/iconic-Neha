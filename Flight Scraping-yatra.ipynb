{
 "cells": [
  {
   "cell_type": "code",
   "execution_count": 1,
   "id": "4e976a00",
   "metadata": {},
   "outputs": [
    {
     "name": "stdout",
     "output_type": "stream",
     "text": [
      "Requirement already satisfied: selenium in c:\\users\\neha\\anaconda\\lib\\site-packages (3.141.0)\n",
      "Requirement already satisfied: urllib3 in c:\\users\\neha\\anaconda\\lib\\site-packages (from selenium) (1.26.4)\n"
     ]
    }
   ],
   "source": [
    "! pip install selenium"
   ]
  },
  {
   "cell_type": "code",
   "execution_count": 1,
   "id": "49fd7f40",
   "metadata": {},
   "outputs": [],
   "source": [
    "# Importing Libraries\n",
    "import selenium\n",
    "import pandas as pd\n",
    "import time\n",
    "from bs4 import BeautifulSoup\n",
    "\n",
    "# Importing selenium webdriver \n",
    "from selenium import webdriver\n",
    "\n",
    "# Importing required Exceptions which needs to handled\n",
    "from selenium.common.exceptions import StaleElementReferenceException, NoSuchElementException,ElementNotInteractableException,ElementNotVisibleException\n",
    "\n",
    "#Importing requests\n",
    "import requests\n",
    "\n",
    "# importing regex\n",
    "import re"
   ]
  },
  {
   "cell_type": "code",
   "execution_count": 2,
   "id": "cb3f339a",
   "metadata": {},
   "outputs": [],
   "source": [
    "# Activating the chrome browser\n",
    "driver=webdriver.Chrome(\"chromedriver.exe\") \n",
    "time.sleep(3)"
   ]
  },
  {
   "cell_type": "code",
   "execution_count": 3,
   "id": "28a91691",
   "metadata": {},
   "outputs": [],
   "source": [
    "url=\"https://flight.yatra.com/air-search-ui/dom2/trigger?ADT=1&CHD=0&INF=0&arrivalDate=10%2F11%2F2021&class=Economy&destination=BOM&destinationCountry=IN&flexi=0&flight_depart_date=31%2F10%2F2021&hb=0&noOfSegments=2&origin=DEL&originCountry=IN&type=R&unique=79100189202&viewName=normal\"\n",
    "driver.get(url)\n",
    "\n",
    "time.sleep(30)"
   ]
  },
  {
   "cell_type": "code",
   "execution_count": 4,
   "id": "26c7e126",
   "metadata": {},
   "outputs": [],
   "source": [
    "# we have location delhi to mumbai"
   ]
  },
  {
   "cell_type": "code",
   "execution_count": 4,
   "id": "291517f8",
   "metadata": {},
   "outputs": [],
   "source": [
    "#Airline name\n",
    "air_name=[]\n",
    "for page in range(1,40):\n",
    "    \n",
    "    try:\n",
    "        name=driver.find_elements_by_xpath(\"//p[@class='normal fs-10 fs-10 abs font-lightestgrey no-wrap mt-2 fl-no']\")\n",
    "        for i in name:\n",
    "            air_name.append(i.text)\n",
    "    except NoSuchElementException:\n",
    "         air_name.append(\"No details available\")"
   ]
  },
  {
   "cell_type": "code",
   "execution_count": 5,
   "id": "998ef238",
   "metadata": {},
   "outputs": [
    {
     "data": {
      "text/plain": [
       "2028"
      ]
     },
     "execution_count": 5,
     "metadata": {},
     "output_type": "execute_result"
    }
   ],
   "source": [
    "len(air_name)"
   ]
  },
  {
   "cell_type": "code",
   "execution_count": 6,
   "id": "2a229bee",
   "metadata": {},
   "outputs": [
    {
     "data": {
      "text/plain": [
       "2028"
      ]
     },
     "execution_count": 6,
     "metadata": {},
     "output_type": "execute_result"
    }
   ],
   "source": [
    "# departue time of the flight\n",
    "dep_time=[]\n",
    "for page in range(1,40):\n",
    "    try:\n",
    "        d_time=driver.find_elements_by_xpath(\"//div[@class='i-b pr']\")\n",
    "        for j in d_time:\n",
    "            dep_time.append(j.text.replace(\"\\nAir Asia\",\"\"))\n",
    "    \n",
    "    except NoSuchElementException:\n",
    "         dep_time.append(\"No details available\")\n",
    "            \n",
    "len(dep_time)"
   ]
  },
  {
   "cell_type": "code",
   "execution_count": 7,
   "id": "e0b1b035",
   "metadata": {},
   "outputs": [
    {
     "data": {
      "text/plain": [
       "2028"
      ]
     },
     "execution_count": 7,
     "metadata": {},
     "output_type": "execute_result"
    }
   ],
   "source": [
    "dep_time1=[]\n",
    "m=[\"\\nGo First\",\"\\nAir India\",\"\\nIndiGo\"]\n",
    "for m in dep_time:\n",
    "    dep_time1.append(m.replace(\"\\nGo First\",\"\"))\n",
    "    \n",
    "dep_time2=[]\n",
    "for m in dep_time1:\n",
    "    dep_time2.append(m.replace(\"\\nAir India\",\"\"))\n",
    "    \n",
    "depr_time=[]\n",
    "for m in dep_time2:\n",
    "    depr_time.append(m.replace(\"\\nIndiGo\",\"\"))\n",
    "    \n",
    "len(depr_time)"
   ]
  },
  {
   "cell_type": "code",
   "execution_count": 9,
   "id": "3234e9c2",
   "metadata": {},
   "outputs": [
    {
     "data": {
      "text/plain": [
       "2028"
      ]
     },
     "execution_count": 9,
     "metadata": {},
     "output_type": "execute_result"
    }
   ],
   "source": [
    "#arrival time of the flight\n",
    "arr_time=[]\n",
    "for page in range(1,40):\n",
    "    try:\n",
    "        a_time=driver.find_elements_by_xpath(\"//div[@class='i-b pdd-0 text-left atime col-4']\")\n",
    "        for k in a_time:\n",
    "            arr_time.append(k.text.replace(\"\\n+ 1 day\",\"\"))\n",
    "    except NoSuchElementException:\n",
    "        arr_time.append(\"No details available\")       \n",
    "        \n",
    "len(arr_time)"
   ]
  },
  {
   "cell_type": "code",
   "execution_count": 11,
   "id": "89c0eeb7",
   "metadata": {},
   "outputs": [
    {
     "data": {
      "text/plain": [
       "2028"
      ]
     },
     "execution_count": 11,
     "metadata": {},
     "output_type": "execute_result"
    }
   ],
   "source": [
    "#total duration of the journey\n",
    "duration=[]\n",
    "for page in range(1,40):\n",
    "    try:\n",
    "        dur=driver.find_elements_by_xpath(\"//p[@class='fs-12 bold du mb-2']\")\n",
    "        for l in dur:\n",
    "            duration.append(l.text)\n",
    "    except NoSuchElementException:\n",
    "        duration.append(\"No details available\")\n",
    "        \n",
    "len(duration)"
   ]
  },
  {
   "cell_type": "code",
   "execution_count": 13,
   "id": "2101ec88",
   "metadata": {},
   "outputs": [
    {
     "data": {
      "text/plain": [
       "2016"
      ]
     },
     "execution_count": 13,
     "metadata": {},
     "output_type": "execute_result"
    }
   ],
   "source": [
    "#total stops\n",
    "total_stp=[]\n",
    "for page in range(1,73):\n",
    "    try:\n",
    "        t_stp=driver.find_elements_by_xpath(\"//span[@class='cursor-default']\")\n",
    "        \n",
    "        for m in t_stp:\n",
    "             total_stp.append(m.text)\n",
    "    except NoSuchElementException:\n",
    "        total_stp.append(\"Non details available\")\n",
    "\n",
    "len(total_stp)"
   ]
  },
  {
   "cell_type": "code",
   "execution_count": 14,
   "id": "ae73df73",
   "metadata": {},
   "outputs": [
    {
     "data": {
      "text/plain": [
       "2000"
      ]
     },
     "execution_count": 14,
     "metadata": {},
     "output_type": "execute_result"
    }
   ],
   "source": [
    "len(total_stp[:2000])"
   ]
  },
  {
   "cell_type": "code",
   "execution_count": 15,
   "id": "2aab4a77",
   "metadata": {},
   "outputs": [
    {
     "data": {
      "text/plain": [
       "2000"
      ]
     },
     "execution_count": 15,
     "metadata": {},
     "output_type": "execute_result"
    }
   ],
   "source": [
    "#ticket price\n",
    "price=[]\n",
    "for page in range(1,41):\n",
    "    try:\n",
    "        pr=driver.find_elements_by_xpath(\"//div[@class='i-b tipsy fare-summary-tooltip fs-16']\")\n",
    "        for n in pr:\n",
    "            price.append(n.text)\n",
    "    except NoSuchElementException:\n",
    "        price.append(\"No details available\")\n",
    "        \n",
    "len(price)"
   ]
  },
  {
   "cell_type": "code",
   "execution_count": 16,
   "id": "64c184e4",
   "metadata": {},
   "outputs": [
    {
     "data": {
      "text/plain": [
       "2000"
      ]
     },
     "execution_count": 16,
     "metadata": {},
     "output_type": "execute_result"
    }
   ],
   "source": [
    "len(air_name[:2000])"
   ]
  },
  {
   "cell_type": "code",
   "execution_count": 17,
   "id": "19c81e3b",
   "metadata": {},
   "outputs": [
    {
     "data": {
      "text/plain": [
       "2000"
      ]
     },
     "execution_count": 17,
     "metadata": {},
     "output_type": "execute_result"
    }
   ],
   "source": [
    "len(depr_time[:2000])"
   ]
  },
  {
   "cell_type": "code",
   "execution_count": 22,
   "id": "1486644a",
   "metadata": {},
   "outputs": [
    {
     "data": {
      "text/plain": [
       "2000"
      ]
     },
     "execution_count": 22,
     "metadata": {},
     "output_type": "execute_result"
    }
   ],
   "source": [
    "len(arr_time[:2000])"
   ]
  },
  {
   "cell_type": "code",
   "execution_count": 19,
   "id": "cd5bce61",
   "metadata": {},
   "outputs": [
    {
     "data": {
      "text/plain": [
       "2000"
      ]
     },
     "execution_count": 19,
     "metadata": {},
     "output_type": "execute_result"
    }
   ],
   "source": [
    "len(duration[:2000])"
   ]
  },
  {
   "cell_type": "code",
   "execution_count": 20,
   "id": "567c8de9",
   "metadata": {},
   "outputs": [
    {
     "data": {
      "text/plain": [
       "2000"
      ]
     },
     "execution_count": 20,
     "metadata": {},
     "output_type": "execute_result"
    }
   ],
   "source": [
    "len(price[:2000])"
   ]
  },
  {
   "cell_type": "code",
   "execution_count": 21,
   "id": "7b47c5c9",
   "metadata": {},
   "outputs": [
    {
     "data": {
      "text/html": [
       "<div>\n",
       "<style scoped>\n",
       "    .dataframe tbody tr th:only-of-type {\n",
       "        vertical-align: middle;\n",
       "    }\n",
       "\n",
       "    .dataframe tbody tr th {\n",
       "        vertical-align: top;\n",
       "    }\n",
       "\n",
       "    .dataframe thead th {\n",
       "        text-align: right;\n",
       "    }\n",
       "</style>\n",
       "<table border=\"1\" class=\"dataframe\">\n",
       "  <thead>\n",
       "    <tr style=\"text-align: right;\">\n",
       "      <th></th>\n",
       "      <th>Air_name</th>\n",
       "      <th>Departure_time</th>\n",
       "      <th>Arrival_time</th>\n",
       "      <th>Duration</th>\n",
       "      <th>Total_stops</th>\n",
       "      <th>Price</th>\n",
       "    </tr>\n",
       "  </thead>\n",
       "  <tbody>\n",
       "    <tr>\n",
       "      <th>0</th>\n",
       "      <td>Air Asia</td>\n",
       "      <td>14:40</td>\n",
       "      <td>22:25</td>\n",
       "      <td>7h 45m</td>\n",
       "      <td>Non Stop</td>\n",
       "      <td>5,953</td>\n",
       "    </tr>\n",
       "    <tr>\n",
       "      <th>1</th>\n",
       "      <td>Air Asia</td>\n",
       "      <td>21:25</td>\n",
       "      <td>06:45</td>\n",
       "      <td>9h 20m</td>\n",
       "      <td>Non Stop</td>\n",
       "      <td>5,953</td>\n",
       "    </tr>\n",
       "    <tr>\n",
       "      <th>2</th>\n",
       "      <td>Air Asia</td>\n",
       "      <td>21:25</td>\n",
       "      <td>07:15</td>\n",
       "      <td>9h 50m</td>\n",
       "      <td>Non Stop</td>\n",
       "      <td>5,953</td>\n",
       "    </tr>\n",
       "    <tr>\n",
       "      <th>3</th>\n",
       "      <td>Air Asia</td>\n",
       "      <td>20:45</td>\n",
       "      <td>06:45</td>\n",
       "      <td>10h 00m</td>\n",
       "      <td>Non Stop</td>\n",
       "      <td>5,953</td>\n",
       "    </tr>\n",
       "    <tr>\n",
       "      <th>4</th>\n",
       "      <td>Air Asia</td>\n",
       "      <td>20:45</td>\n",
       "      <td>07:15</td>\n",
       "      <td>10h 30m</td>\n",
       "      <td>Non Stop</td>\n",
       "      <td>5,953</td>\n",
       "    </tr>\n",
       "    <tr>\n",
       "      <th>...</th>\n",
       "      <td>...</td>\n",
       "      <td>...</td>\n",
       "      <td>...</td>\n",
       "      <td>...</td>\n",
       "      <td>...</td>\n",
       "      <td>...</td>\n",
       "    </tr>\n",
       "    <tr>\n",
       "      <th>1995</th>\n",
       "      <td>Go First</td>\n",
       "      <td>09:10</td>\n",
       "      <td>16:15</td>\n",
       "      <td>7h 05m</td>\n",
       "      <td>Non Stop</td>\n",
       "      <td>5,942</td>\n",
       "    </tr>\n",
       "    <tr>\n",
       "      <th>1996</th>\n",
       "      <td>Air India</td>\n",
       "      <td>07:00</td>\n",
       "      <td>09:05</td>\n",
       "      <td>2h 05m</td>\n",
       "      <td>Non Stop</td>\n",
       "      <td>5,942</td>\n",
       "    </tr>\n",
       "    <tr>\n",
       "      <th>1997</th>\n",
       "      <td>IndiGo</td>\n",
       "      <td>06:30</td>\n",
       "      <td>08:40</td>\n",
       "      <td>2h 10m</td>\n",
       "      <td>Non Stop</td>\n",
       "      <td>5,942</td>\n",
       "    </tr>\n",
       "    <tr>\n",
       "      <th>1998</th>\n",
       "      <td>Air India</td>\n",
       "      <td>08:00</td>\n",
       "      <td>10:10</td>\n",
       "      <td>2h 10m</td>\n",
       "      <td>Non Stop</td>\n",
       "      <td>5,942</td>\n",
       "    </tr>\n",
       "    <tr>\n",
       "      <th>1999</th>\n",
       "      <td>IndiGo</td>\n",
       "      <td>08:10</td>\n",
       "      <td>10:20</td>\n",
       "      <td>2h 10m</td>\n",
       "      <td>Non Stop</td>\n",
       "      <td>5,942</td>\n",
       "    </tr>\n",
       "  </tbody>\n",
       "</table>\n",
       "<p>2000 rows × 6 columns</p>\n",
       "</div>"
      ],
      "text/plain": [
       "       Air_name Departure_time Arrival_time Duration Total_stops  Price\n",
       "0      Air Asia          14:40        22:25   7h 45m    Non Stop  5,953\n",
       "1      Air Asia          21:25        06:45   9h 20m    Non Stop  5,953\n",
       "2      Air Asia          21:25        07:15   9h 50m    Non Stop  5,953\n",
       "3      Air Asia          20:45        06:45  10h 00m    Non Stop  5,953\n",
       "4      Air Asia          20:45        07:15  10h 30m    Non Stop  5,953\n",
       "...         ...            ...          ...      ...         ...    ...\n",
       "1995   Go First          09:10        16:15   7h 05m    Non Stop  5,942\n",
       "1996  Air India          07:00        09:05   2h 05m    Non Stop  5,942\n",
       "1997     IndiGo          06:30        08:40   2h 10m    Non Stop  5,942\n",
       "1998  Air India          08:00        10:10   2h 10m    Non Stop  5,942\n",
       "1999     IndiGo          08:10        10:20   2h 10m    Non Stop  5,942\n",
       "\n",
       "[2000 rows x 6 columns]"
      ]
     },
     "execution_count": 21,
     "metadata": {},
     "output_type": "execute_result"
    }
   ],
   "source": [
    "ds=pd.DataFrame({\"Air_name\":air_name[:2000],\n",
    "                \"Departure_time\":depr_time[:2000],\n",
    "                 \"Arrival_time\":arr_time[:2000],\n",
    "                \"Duration\":duration[:2000],\n",
    "                \"Total_stops\":total_stp[:2000],\n",
    "                \"Price\":price[:2000]})\n",
    "ds"
   ]
  },
  {
   "cell_type": "code",
   "execution_count": 24,
   "id": "5ae90af8",
   "metadata": {},
   "outputs": [
    {
     "data": {
      "text/plain": [
       "(2000, 6)"
      ]
     },
     "execution_count": 24,
     "metadata": {},
     "output_type": "execute_result"
    }
   ],
   "source": [
    "ds.shape"
   ]
  },
  {
   "cell_type": "markdown",
   "id": "cadc9d3a",
   "metadata": {},
   "source": [
    "We have 2000 rows and 6 columns in the dataset."
   ]
  },
  {
   "cell_type": "markdown",
   "id": "6c61424d",
   "metadata": {},
   "source": [
    "## Saving the dataframe in csv"
   ]
  },
  {
   "cell_type": "code",
   "execution_count": 26,
   "id": "4d0a5964",
   "metadata": {},
   "outputs": [],
   "source": [
    "ds.to_csv(\"flight_ticket.csv\")"
   ]
  },
  {
   "cell_type": "code",
   "execution_count": null,
   "id": "579ac982",
   "metadata": {},
   "outputs": [],
   "source": []
  }
 ],
 "metadata": {
  "kernelspec": {
   "display_name": "Python 3",
   "language": "python",
   "name": "python3"
  },
  "language_info": {
   "codemirror_mode": {
    "name": "ipython",
    "version": 3
   },
   "file_extension": ".py",
   "mimetype": "text/x-python",
   "name": "python",
   "nbconvert_exporter": "python",
   "pygments_lexer": "ipython3",
   "version": "3.8.8"
  }
 },
 "nbformat": 4,
 "nbformat_minor": 5
}
