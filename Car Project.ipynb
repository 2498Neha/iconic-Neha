{
 "cells": [
  {
   "cell_type": "code",
   "execution_count": 1,
   "id": "bc504840",
   "metadata": {},
   "outputs": [],
   "source": [
    "import pandas as pd\n",
    "import numpy as np"
   ]
  },
  {
   "cell_type": "code",
   "execution_count": 2,
   "id": "cf7fe890",
   "metadata": {},
   "outputs": [],
   "source": [
    "da=pd.read_csv(\"car.csv\")"
   ]
  },
  {
   "cell_type": "code",
   "execution_count": 3,
   "id": "87319d9d",
   "metadata": {},
   "outputs": [
    {
     "data": {
      "text/html": [
       "<div>\n",
       "<style scoped>\n",
       "    .dataframe tbody tr th:only-of-type {\n",
       "        vertical-align: middle;\n",
       "    }\n",
       "\n",
       "    .dataframe tbody tr th {\n",
       "        vertical-align: top;\n",
       "    }\n",
       "\n",
       "    .dataframe thead th {\n",
       "        text-align: right;\n",
       "    }\n",
       "</style>\n",
       "<table border=\"1\" class=\"dataframe\">\n",
       "  <thead>\n",
       "    <tr style=\"text-align: right;\">\n",
       "      <th></th>\n",
       "      <th>Unnamed: 0</th>\n",
       "      <th>Name</th>\n",
       "      <th>Model</th>\n",
       "      <th>Transmission</th>\n",
       "      <th>Km_driven</th>\n",
       "      <th>Owner</th>\n",
       "      <th>Fuel</th>\n",
       "      <th>Discount</th>\n",
       "      <th>Discount_price</th>\n",
       "      <th>Sale_price</th>\n",
       "    </tr>\n",
       "  </thead>\n",
       "  <tbody>\n",
       "    <tr>\n",
       "      <th>0</th>\n",
       "      <td>0</td>\n",
       "      <td>2020 Renault Kwid</td>\n",
       "      <td>1.0 RXT Opt AT Automatic</td>\n",
       "      <td>Automatic</td>\n",
       "      <td>3,252</td>\n",
       "      <td>1st Owner</td>\n",
       "      <td>Petrol</td>\n",
       "      <td>₹5,000</td>\n",
       "      <td>4,31,699</td>\n",
       "      <td>4,36,699</td>\n",
       "    </tr>\n",
       "    <tr>\n",
       "      <th>1</th>\n",
       "      <td>1</td>\n",
       "      <td>2013 Maruti Alto 800</td>\n",
       "      <td>LXI Manual</td>\n",
       "      <td>Manual</td>\n",
       "      <td>13,807</td>\n",
       "      <td>1st Owner</td>\n",
       "      <td>Petrol</td>\n",
       "      <td>₹11,000</td>\n",
       "      <td>2,16,899</td>\n",
       "      <td>2,27,899</td>\n",
       "    </tr>\n",
       "    <tr>\n",
       "      <th>2</th>\n",
       "      <td>2</td>\n",
       "      <td>2020 Maruti New Wagon-R</td>\n",
       "      <td>VXI 1.0 Manual</td>\n",
       "      <td>Manual</td>\n",
       "      <td>3,865</td>\n",
       "      <td>1st Owner</td>\n",
       "      <td>Petrol</td>\n",
       "      <td>₹5,000</td>\n",
       "      <td>5,16,399</td>\n",
       "      <td>5,21,399</td>\n",
       "    </tr>\n",
       "    <tr>\n",
       "      <th>3</th>\n",
       "      <td>3</td>\n",
       "      <td>2019 Maruti Swift</td>\n",
       "      <td>VXI Manual</td>\n",
       "      <td>Manual</td>\n",
       "      <td>3,362</td>\n",
       "      <td>1st Owner</td>\n",
       "      <td>Petrol</td>\n",
       "      <td>₹5,000</td>\n",
       "      <td>6,20,699</td>\n",
       "      <td>6,25,699</td>\n",
       "    </tr>\n",
       "    <tr>\n",
       "      <th>4</th>\n",
       "      <td>4</td>\n",
       "      <td>2020 Maruti Baleno</td>\n",
       "      <td>SIGMA 1.2 K12 Manual</td>\n",
       "      <td>Manual</td>\n",
       "      <td>5,645</td>\n",
       "      <td>1st Owner</td>\n",
       "      <td>Petrol</td>\n",
       "      <td>₹6,000</td>\n",
       "      <td>5,75,299</td>\n",
       "      <td>5,81,299</td>\n",
       "    </tr>\n",
       "  </tbody>\n",
       "</table>\n",
       "</div>"
      ],
      "text/plain": [
       "   Unnamed: 0                     Name                     Model Transmission  \\\n",
       "0           0        2020 Renault Kwid  1.0 RXT Opt AT Automatic    Automatic   \n",
       "1           1     2013 Maruti Alto 800                LXI Manual       Manual   \n",
       "2           2  2020 Maruti New Wagon-R            VXI 1.0 Manual       Manual   \n",
       "3           3        2019 Maruti Swift                VXI Manual       Manual   \n",
       "4           4       2020 Maruti Baleno      SIGMA 1.2 K12 Manual       Manual   \n",
       "\n",
       "  Km_driven      Owner    Fuel  Discount Discount_price Sale_price  \n",
       "0    3,252   1st Owner  Petrol   ₹5,000        4,31,699   4,36,699  \n",
       "1   13,807   1st Owner  Petrol  ₹11,000        2,16,899   2,27,899  \n",
       "2    3,865   1st Owner  Petrol   ₹5,000        5,16,399   5,21,399  \n",
       "3    3,362   1st Owner  Petrol   ₹5,000        6,20,699   6,25,699  \n",
       "4    5,645   1st Owner  Petrol   ₹6,000        5,75,299   5,81,299  "
      ]
     },
     "execution_count": 3,
     "metadata": {},
     "output_type": "execute_result"
    }
   ],
   "source": [
    "da.head()"
   ]
  },
  {
   "cell_type": "code",
   "execution_count": 4,
   "id": "08e55b1f",
   "metadata": {},
   "outputs": [
    {
     "data": {
      "text/html": [
       "<div>\n",
       "<style scoped>\n",
       "    .dataframe tbody tr th:only-of-type {\n",
       "        vertical-align: middle;\n",
       "    }\n",
       "\n",
       "    .dataframe tbody tr th {\n",
       "        vertical-align: top;\n",
       "    }\n",
       "\n",
       "    .dataframe thead th {\n",
       "        text-align: right;\n",
       "    }\n",
       "</style>\n",
       "<table border=\"1\" class=\"dataframe\">\n",
       "  <thead>\n",
       "    <tr style=\"text-align: right;\">\n",
       "      <th></th>\n",
       "      <th>Unnamed: 0</th>\n",
       "      <th>Name</th>\n",
       "      <th>Model</th>\n",
       "      <th>Transmission</th>\n",
       "      <th>Km_driven</th>\n",
       "      <th>Owner</th>\n",
       "      <th>Fuel</th>\n",
       "      <th>Discount</th>\n",
       "      <th>Discount_price</th>\n",
       "      <th>Sale_price</th>\n",
       "    </tr>\n",
       "  </thead>\n",
       "  <tbody>\n",
       "    <tr>\n",
       "      <th>0</th>\n",
       "      <td>0</td>\n",
       "      <td>2020 Renault Kwid</td>\n",
       "      <td>1.0 RXT Opt AT Automatic</td>\n",
       "      <td>Automatic</td>\n",
       "      <td>3,252</td>\n",
       "      <td>1st Owner</td>\n",
       "      <td>Petrol</td>\n",
       "      <td>₹5,000</td>\n",
       "      <td>4,31,699</td>\n",
       "      <td>4,36,699</td>\n",
       "    </tr>\n",
       "    <tr>\n",
       "      <th>1</th>\n",
       "      <td>1</td>\n",
       "      <td>2013 Maruti Alto 800</td>\n",
       "      <td>LXI Manual</td>\n",
       "      <td>Manual</td>\n",
       "      <td>13,807</td>\n",
       "      <td>1st Owner</td>\n",
       "      <td>Petrol</td>\n",
       "      <td>₹11,000</td>\n",
       "      <td>2,16,899</td>\n",
       "      <td>2,27,899</td>\n",
       "    </tr>\n",
       "    <tr>\n",
       "      <th>2</th>\n",
       "      <td>2</td>\n",
       "      <td>2020 Maruti New Wagon-R</td>\n",
       "      <td>VXI 1.0 Manual</td>\n",
       "      <td>Manual</td>\n",
       "      <td>3,865</td>\n",
       "      <td>1st Owner</td>\n",
       "      <td>Petrol</td>\n",
       "      <td>₹5,000</td>\n",
       "      <td>5,16,399</td>\n",
       "      <td>5,21,399</td>\n",
       "    </tr>\n",
       "    <tr>\n",
       "      <th>3</th>\n",
       "      <td>3</td>\n",
       "      <td>2019 Maruti Swift</td>\n",
       "      <td>VXI Manual</td>\n",
       "      <td>Manual</td>\n",
       "      <td>3,362</td>\n",
       "      <td>1st Owner</td>\n",
       "      <td>Petrol</td>\n",
       "      <td>₹5,000</td>\n",
       "      <td>6,20,699</td>\n",
       "      <td>6,25,699</td>\n",
       "    </tr>\n",
       "    <tr>\n",
       "      <th>4</th>\n",
       "      <td>4</td>\n",
       "      <td>2020 Maruti Baleno</td>\n",
       "      <td>SIGMA 1.2 K12 Manual</td>\n",
       "      <td>Manual</td>\n",
       "      <td>5,645</td>\n",
       "      <td>1st Owner</td>\n",
       "      <td>Petrol</td>\n",
       "      <td>₹6,000</td>\n",
       "      <td>5,75,299</td>\n",
       "      <td>5,81,299</td>\n",
       "    </tr>\n",
       "    <tr>\n",
       "      <th>...</th>\n",
       "      <td>...</td>\n",
       "      <td>...</td>\n",
       "      <td>...</td>\n",
       "      <td>...</td>\n",
       "      <td>...</td>\n",
       "      <td>...</td>\n",
       "      <td>...</td>\n",
       "      <td>...</td>\n",
       "      <td>...</td>\n",
       "      <td>...</td>\n",
       "    </tr>\n",
       "    <tr>\n",
       "      <th>5335</th>\n",
       "      <td>5335</td>\n",
       "      <td>2016 Maruti Wagon R 1.0</td>\n",
       "      <td>VXI</td>\n",
       "      <td>Manual</td>\n",
       "      <td>33,463</td>\n",
       "      <td>1st Owner</td>\n",
       "      <td>Petrol</td>\n",
       "      <td>₹6,000</td>\n",
       "      <td>3,88,699</td>\n",
       "      <td>3,94,699</td>\n",
       "    </tr>\n",
       "    <tr>\n",
       "      <th>5336</th>\n",
       "      <td>5336</td>\n",
       "      <td>2015 Hyundai Eon</td>\n",
       "      <td>SPORTZ</td>\n",
       "      <td>Manual</td>\n",
       "      <td>15,346</td>\n",
       "      <td>3rd Owner</td>\n",
       "      <td>Petrol</td>\n",
       "      <td>₹20,000</td>\n",
       "      <td>3,01,299</td>\n",
       "      <td>3,21,299</td>\n",
       "    </tr>\n",
       "    <tr>\n",
       "      <th>5337</th>\n",
       "      <td>5337</td>\n",
       "      <td>2012 Maruti Wagon R 1.0</td>\n",
       "      <td>VXI</td>\n",
       "      <td>Manual</td>\n",
       "      <td>38,553</td>\n",
       "      <td>1st Owner</td>\n",
       "      <td>Petrol</td>\n",
       "      <td>₹12,000</td>\n",
       "      <td>3,15,199</td>\n",
       "      <td>3,27,199</td>\n",
       "    </tr>\n",
       "    <tr>\n",
       "      <th>5338</th>\n",
       "      <td>5338</td>\n",
       "      <td>2018 Tata Tiago</td>\n",
       "      <td>XT 1.2 REVOTRON</td>\n",
       "      <td>Manual</td>\n",
       "      <td>11,253</td>\n",
       "      <td>1st Owner</td>\n",
       "      <td>Petrol</td>\n",
       "      <td>₹7,000</td>\n",
       "      <td>4,86,799</td>\n",
       "      <td>4,93,799</td>\n",
       "    </tr>\n",
       "    <tr>\n",
       "      <th>5339</th>\n",
       "      <td>5339</td>\n",
       "      <td>2017 Maruti Alto 800</td>\n",
       "      <td>VXI</td>\n",
       "      <td>Manual</td>\n",
       "      <td>21,239</td>\n",
       "      <td>1st Owner</td>\n",
       "      <td>Petrol</td>\n",
       "      <td>₹37,000</td>\n",
       "      <td>3,20,999</td>\n",
       "      <td>3,57,999</td>\n",
       "    </tr>\n",
       "  </tbody>\n",
       "</table>\n",
       "<p>5340 rows × 10 columns</p>\n",
       "</div>"
      ],
      "text/plain": [
       "      Unnamed: 0                     Name                     Model  \\\n",
       "0              0        2020 Renault Kwid  1.0 RXT Opt AT Automatic   \n",
       "1              1     2013 Maruti Alto 800                LXI Manual   \n",
       "2              2  2020 Maruti New Wagon-R            VXI 1.0 Manual   \n",
       "3              3        2019 Maruti Swift                VXI Manual   \n",
       "4              4       2020 Maruti Baleno      SIGMA 1.2 K12 Manual   \n",
       "...          ...                      ...                       ...   \n",
       "5335        5335  2016 Maruti Wagon R 1.0                      VXI    \n",
       "5336        5336         2015 Hyundai Eon                   SPORTZ    \n",
       "5337        5337  2012 Maruti Wagon R 1.0                      VXI    \n",
       "5338        5338          2018 Tata Tiago          XT 1.2 REVOTRON    \n",
       "5339        5339     2017 Maruti Alto 800                      VXI    \n",
       "\n",
       "     Transmission Km_driven      Owner    Fuel  Discount Discount_price  \\\n",
       "0       Automatic    3,252   1st Owner  Petrol   ₹5,000        4,31,699   \n",
       "1          Manual   13,807   1st Owner  Petrol  ₹11,000        2,16,899   \n",
       "2          Manual    3,865   1st Owner  Petrol   ₹5,000        5,16,399   \n",
       "3          Manual    3,362   1st Owner  Petrol   ₹5,000        6,20,699   \n",
       "4          Manual    5,645   1st Owner  Petrol   ₹6,000        5,75,299   \n",
       "...           ...       ...        ...     ...       ...            ...   \n",
       "5335       Manual   33,463   1st Owner  Petrol   ₹6,000        3,88,699   \n",
       "5336       Manual   15,346   3rd Owner  Petrol  ₹20,000        3,01,299   \n",
       "5337       Manual   38,553   1st Owner  Petrol  ₹12,000        3,15,199   \n",
       "5338       Manual   11,253   1st Owner  Petrol   ₹7,000        4,86,799   \n",
       "5339       Manual   21,239   1st Owner  Petrol  ₹37,000        3,20,999   \n",
       "\n",
       "     Sale_price  \n",
       "0      4,36,699  \n",
       "1      2,27,899  \n",
       "2      5,21,399  \n",
       "3      6,25,699  \n",
       "4      5,81,299  \n",
       "...         ...  \n",
       "5335   3,94,699  \n",
       "5336   3,21,299  \n",
       "5337   3,27,199  \n",
       "5338   4,93,799  \n",
       "5339   3,57,999  \n",
       "\n",
       "[5340 rows x 10 columns]"
      ]
     },
     "execution_count": 4,
     "metadata": {},
     "output_type": "execute_result"
    }
   ],
   "source": [
    "df=pd.DataFrame(data=da)\n",
    "df"
   ]
  },
  {
   "cell_type": "markdown",
   "id": "295a7b1f",
   "metadata": {},
   "source": [
    "Till here we have imported the dataset."
   ]
  },
  {
   "cell_type": "code",
   "execution_count": 5,
   "id": "1c53a19d",
   "metadata": {},
   "outputs": [
    {
     "data": {
      "text/plain": [
       "(5340, 10)"
      ]
     },
     "execution_count": 5,
     "metadata": {},
     "output_type": "execute_result"
    }
   ],
   "source": [
    "df.shape"
   ]
  },
  {
   "cell_type": "markdown",
   "id": "500ab6bd",
   "metadata": {},
   "source": [
    "we can see that we have 5340  rows and 9 columns."
   ]
  },
  {
   "cell_type": "code",
   "execution_count": 6,
   "id": "572a8938",
   "metadata": {},
   "outputs": [
    {
     "data": {
      "text/plain": [
       "Index(['Unnamed: 0', 'Name', 'Model', 'Transmission', 'Km_driven', 'Owner',\n",
       "       'Fuel', 'Discount', 'Discount_price', 'Sale_price'],\n",
       "      dtype='object')"
      ]
     },
     "execution_count": 6,
     "metadata": {},
     "output_type": "execute_result"
    }
   ],
   "source": [
    "df.columns"
   ]
  },
  {
   "cell_type": "code",
   "execution_count": 7,
   "id": "9da7a52d",
   "metadata": {},
   "outputs": [
    {
     "data": {
      "text/plain": [
       "0       4,36,699\n",
       "1       2,27,899\n",
       "2       5,21,399\n",
       "3       6,25,699\n",
       "4       5,81,299\n",
       "          ...   \n",
       "5335    3,94,699\n",
       "5336    3,21,299\n",
       "5337    3,27,199\n",
       "5338    4,93,799\n",
       "5339    3,57,999\n",
       "Name: Sale_price, Length: 5340, dtype: object"
      ]
     },
     "execution_count": 7,
     "metadata": {},
     "output_type": "execute_result"
    }
   ],
   "source": [
    "df.Sale_price"
   ]
  },
  {
   "cell_type": "code",
   "execution_count": 8,
   "id": "22462b29",
   "metadata": {},
   "outputs": [
    {
     "data": {
      "text/plain": [
       "array(['4,36,699', '2,27,899', '5,21,399', '6,25,699', '5,81,299',\n",
       "       '7,05,399', '4,09,599', '2,73,299', '3,86,999', '3,21,599',\n",
       "       '5,10,099', '8,08,699', '3,21,199', '6,68,899', '3,62,999',\n",
       "       '5,05,599', '5,28,299', '3,41,399', '3,75,199', '3,98,799',\n",
       "       '4,24,599', '4,68,999', '3,26,999', '2,55,099', '3,64,499',\n",
       "       '4,60,099', '5,02,199', '4,93,299', '4,97,099', '2,32,799',\n",
       "       '2,39,999', '5,48,199', '3,36,199', '4,20,899', '3,10,399',\n",
       "       '3,94,699', '3,21,299', '3,27,199', '4,93,799', '3,57,999'],\n",
       "      dtype=object)"
      ]
     },
     "execution_count": 8,
     "metadata": {},
     "output_type": "execute_result"
    }
   ],
   "source": [
    "df.Sale_price.unique()"
   ]
  },
  {
   "cell_type": "code",
   "execution_count": 9,
   "id": "1d7fe2ee",
   "metadata": {},
   "outputs": [
    {
     "data": {
      "text/plain": [
       "5,10,099    138\n",
       "2,27,899    138\n",
       "6,25,699    138\n",
       "5,28,299    138\n",
       "3,21,199    138\n",
       "4,09,599    138\n",
       "4,36,699    138\n",
       "3,41,399    138\n",
       "5,05,599    138\n",
       "3,62,999    138\n",
       "6,68,899    138\n",
       "2,73,299    138\n",
       "3,21,599    138\n",
       "8,08,699    138\n",
       "3,75,199    138\n",
       "5,21,399    138\n",
       "3,98,799    138\n",
       "7,05,399    138\n",
       "3,86,999    138\n",
       "5,81,299    138\n",
       "4,24,599    129\n",
       "2,32,799    129\n",
       "4,93,799    129\n",
       "3,21,299    129\n",
       "3,27,199    129\n",
       "2,55,099    129\n",
       "5,48,199    129\n",
       "3,64,499    129\n",
       "3,94,699    129\n",
       "3,26,999    129\n",
       "4,20,899    129\n",
       "3,10,399    129\n",
       "4,97,099    129\n",
       "5,02,199    129\n",
       "3,57,999    129\n",
       "4,93,299    129\n",
       "4,60,099    129\n",
       "4,68,999    129\n",
       "2,39,999    129\n",
       "3,36,199    129\n",
       "Name: Sale_price, dtype: int64"
      ]
     },
     "execution_count": 9,
     "metadata": {},
     "output_type": "execute_result"
    }
   ],
   "source": [
    "df.Sale_price.value_counts()"
   ]
  },
  {
   "cell_type": "markdown",
   "id": "390dc965",
   "metadata": {},
   "source": [
    "We can see that the Sale_price column is our dependent variable and is continous in nature, thus it is a Linear Regression problem."
   ]
  },
  {
   "cell_type": "code",
   "execution_count": 10,
   "id": "397360b0",
   "metadata": {},
   "outputs": [
    {
     "data": {
      "text/plain": [
       "Unnamed: 0         int64\n",
       "Name              object\n",
       "Model             object\n",
       "Transmission      object\n",
       "Km_driven         object\n",
       "Owner             object\n",
       "Fuel              object\n",
       "Discount          object\n",
       "Discount_price    object\n",
       "Sale_price        object\n",
       "dtype: object"
      ]
     },
     "execution_count": 10,
     "metadata": {},
     "output_type": "execute_result"
    }
   ],
   "source": [
    "df.dtypes"
   ]
  },
  {
   "cell_type": "code",
   "execution_count": 11,
   "id": "f99c346b",
   "metadata": {},
   "outputs": [
    {
     "data": {
      "text/plain": [
       "<bound method DataFrame.info of       Unnamed: 0                     Name                     Model  \\\n",
       "0              0        2020 Renault Kwid  1.0 RXT Opt AT Automatic   \n",
       "1              1     2013 Maruti Alto 800                LXI Manual   \n",
       "2              2  2020 Maruti New Wagon-R            VXI 1.0 Manual   \n",
       "3              3        2019 Maruti Swift                VXI Manual   \n",
       "4              4       2020 Maruti Baleno      SIGMA 1.2 K12 Manual   \n",
       "...          ...                      ...                       ...   \n",
       "5335        5335  2016 Maruti Wagon R 1.0                      VXI    \n",
       "5336        5336         2015 Hyundai Eon                   SPORTZ    \n",
       "5337        5337  2012 Maruti Wagon R 1.0                      VXI    \n",
       "5338        5338          2018 Tata Tiago          XT 1.2 REVOTRON    \n",
       "5339        5339     2017 Maruti Alto 800                      VXI    \n",
       "\n",
       "     Transmission Km_driven      Owner    Fuel  Discount Discount_price  \\\n",
       "0       Automatic    3,252   1st Owner  Petrol   ₹5,000        4,31,699   \n",
       "1          Manual   13,807   1st Owner  Petrol  ₹11,000        2,16,899   \n",
       "2          Manual    3,865   1st Owner  Petrol   ₹5,000        5,16,399   \n",
       "3          Manual    3,362   1st Owner  Petrol   ₹5,000        6,20,699   \n",
       "4          Manual    5,645   1st Owner  Petrol   ₹6,000        5,75,299   \n",
       "...           ...       ...        ...     ...       ...            ...   \n",
       "5335       Manual   33,463   1st Owner  Petrol   ₹6,000        3,88,699   \n",
       "5336       Manual   15,346   3rd Owner  Petrol  ₹20,000        3,01,299   \n",
       "5337       Manual   38,553   1st Owner  Petrol  ₹12,000        3,15,199   \n",
       "5338       Manual   11,253   1st Owner  Petrol   ₹7,000        4,86,799   \n",
       "5339       Manual   21,239   1st Owner  Petrol  ₹37,000        3,20,999   \n",
       "\n",
       "     Sale_price  \n",
       "0      4,36,699  \n",
       "1      2,27,899  \n",
       "2      5,21,399  \n",
       "3      6,25,699  \n",
       "4      5,81,299  \n",
       "...         ...  \n",
       "5335   3,94,699  \n",
       "5336   3,21,299  \n",
       "5337   3,27,199  \n",
       "5338   4,93,799  \n",
       "5339   3,57,999  \n",
       "\n",
       "[5340 rows x 10 columns]>"
      ]
     },
     "execution_count": 11,
     "metadata": {},
     "output_type": "execute_result"
    }
   ],
   "source": [
    "df.info"
   ]
  },
  {
   "cell_type": "markdown",
   "id": "8dad3d36",
   "metadata": {},
   "source": [
    "## To check missing values"
   ]
  },
  {
   "cell_type": "code",
   "execution_count": 12,
   "id": "0c3900cd",
   "metadata": {},
   "outputs": [
    {
     "data": {
      "text/plain": [
       "Unnamed: 0          0\n",
       "Name                0\n",
       "Model               0\n",
       "Transmission      276\n",
       "Km_driven           0\n",
       "Owner               0\n",
       "Fuel                0\n",
       "Discount            0\n",
       "Discount_price      0\n",
       "Sale_price          0\n",
       "dtype: int64"
      ]
     },
     "execution_count": 12,
     "metadata": {},
     "output_type": "execute_result"
    }
   ],
   "source": [
    "df.isnull().sum()"
   ]
  },
  {
   "cell_type": "code",
   "execution_count": 13,
   "id": "4e96345a",
   "metadata": {},
   "outputs": [
    {
     "data": {
      "text/plain": [
       "<AxesSubplot:>"
      ]
     },
     "execution_count": 13,
     "metadata": {},
     "output_type": "execute_result"
    },
    {
     "data": {
      "image/png": "[encoded data removed]",
      "text/plain": [
       "<Figure size 432x288 with 2 Axes>"
      ]
     },
     "metadata": {
      "needs_background": "light"
     },
     "output_type": "display_data"
    }
   ],
   "source": [
    "import seaborn as sns\n",
    "sns.heatmap(df.isnull())"
   ]
  },
  {
   "cell_type": "markdown",
   "id": "105b0769",
   "metadata": {},
   "source": [
    "From the above plot we can see that we have null values in Transmission column."
   ]
  },
  {
   "cell_type": "markdown",
   "id": "65a24c91",
   "metadata": {},
   "source": [
    "### We can also see that we have special characters in the dataset"
   ]
  },
  {
   "cell_type": "code",
   "execution_count": 14,
   "id": "bef74124",
   "metadata": {},
   "outputs": [],
   "source": [
    "# Removing special characters\n",
    "df.Discount=df.Discount.str.replace(\"₹\",\"\")"
   ]
  },
  {
   "cell_type": "code",
   "execution_count": 15,
   "id": "452d6f3f",
   "metadata": {},
   "outputs": [
    {
     "data": {
      "text/plain": [
       "0        5,000 \n",
       "1       11,000 \n",
       "2        5,000 \n",
       "3        5,000 \n",
       "4        6,000 \n",
       "         ...   \n",
       "5335     6,000 \n",
       "5336    20,000 \n",
       "5337    12,000 \n",
       "5338     7,000 \n",
       "5339    37,000 \n",
       "Name: Discount, Length: 5340, dtype: object"
      ]
     },
     "execution_count": 15,
     "metadata": {},
     "output_type": "execute_result"
    }
   ],
   "source": [
    "df.Discount"
   ]
  },
  {
   "cell_type": "markdown",
   "id": "8b7731e4",
   "metadata": {},
   "source": [
    "##### Now we have no special characters in this column."
   ]
  },
  {
   "cell_type": "raw",
   "id": "ee1d3f0a",
   "metadata": {},
   "source": [
    "# So let's apply Label encoding \n",
    "We can see that we have many columns in string format so we are using Label encoder to encode them."
   ]
  },
  {
   "cell_type": "markdown",
   "id": "248276f3",
   "metadata": {},
   "source": [
    "# Label Encoding"
   ]
  },
  {
   "cell_type": "code",
   "execution_count": 16,
   "id": "50010654",
   "metadata": {},
   "outputs": [],
   "source": [
    "from sklearn import preprocessing"
   ]
  },
  {
   "cell_type": "code",
   "execution_count": 17,
   "id": "ebf5b1be",
   "metadata": {},
   "outputs": [],
   "source": [
    "le=preprocessing.LabelEncoder()"
   ]
  },
  {
   "cell_type": "code",
   "execution_count": 18,
   "id": "bc7161dc",
   "metadata": {},
   "outputs": [
    {
     "data": {
      "text/html": [
       "<div>\n",
       "<style scoped>\n",
       "    .dataframe tbody tr th:only-of-type {\n",
       "        vertical-align: middle;\n",
       "    }\n",
       "\n",
       "    .dataframe tbody tr th {\n",
       "        vertical-align: top;\n",
       "    }\n",
       "\n",
       "    .dataframe thead th {\n",
       "        text-align: right;\n",
       "    }\n",
       "</style>\n",
       "<table border=\"1\" class=\"dataframe\">\n",
       "  <thead>\n",
       "    <tr style=\"text-align: right;\">\n",
       "      <th></th>\n",
       "      <th>Unnamed: 0</th>\n",
       "      <th>Name</th>\n",
       "      <th>Model</th>\n",
       "      <th>Transmission</th>\n",
       "      <th>Km_driven</th>\n",
       "      <th>Owner</th>\n",
       "      <th>Fuel</th>\n",
       "      <th>Discount</th>\n",
       "      <th>Discount_price</th>\n",
       "      <th>Sale_price</th>\n",
       "    </tr>\n",
       "  </thead>\n",
       "  <tbody>\n",
       "    <tr>\n",
       "      <th>0</th>\n",
       "      <td>0</td>\n",
       "      <td>32</td>\n",
       "      <td>0</td>\n",
       "      <td>0</td>\n",
       "      <td>22</td>\n",
       "      <td>0</td>\n",
       "      <td>1</td>\n",
       "      <td>14</td>\n",
       "      <td>24</td>\n",
       "      <td>23</td>\n",
       "    </tr>\n",
       "    <tr>\n",
       "      <th>1</th>\n",
       "      <td>1</td>\n",
       "      <td>6</td>\n",
       "      <td>9</td>\n",
       "      <td>1</td>\n",
       "      <td>10</td>\n",
       "      <td>0</td>\n",
       "      <td>1</td>\n",
       "      <td>1</td>\n",
       "      <td>0</td>\n",
       "      <td>0</td>\n",
       "    </tr>\n",
       "    <tr>\n",
       "      <th>2</th>\n",
       "      <td>2</td>\n",
       "      <td>31</td>\n",
       "      <td>20</td>\n",
       "      <td>1</td>\n",
       "      <td>26</td>\n",
       "      <td>0</td>\n",
       "      <td>1</td>\n",
       "      <td>14</td>\n",
       "      <td>31</td>\n",
       "      <td>32</td>\n",
       "    </tr>\n",
       "    <tr>\n",
       "      <th>3</th>\n",
       "      <td>3</td>\n",
       "      <td>27</td>\n",
       "      <td>24</td>\n",
       "      <td>1</td>\n",
       "      <td>23</td>\n",
       "      <td>0</td>\n",
       "      <td>1</td>\n",
       "      <td>14</td>\n",
       "      <td>35</td>\n",
       "      <td>36</td>\n",
       "    </tr>\n",
       "    <tr>\n",
       "      <th>4</th>\n",
       "      <td>4</td>\n",
       "      <td>30</td>\n",
       "      <td>13</td>\n",
       "      <td>1</td>\n",
       "      <td>36</td>\n",
       "      <td>0</td>\n",
       "      <td>1</td>\n",
       "      <td>15</td>\n",
       "      <td>34</td>\n",
       "      <td>35</td>\n",
       "    </tr>\n",
       "    <tr>\n",
       "      <th>...</th>\n",
       "      <td>...</td>\n",
       "      <td>...</td>\n",
       "      <td>...</td>\n",
       "      <td>...</td>\n",
       "      <td>...</td>\n",
       "      <td>...</td>\n",
       "      <td>...</td>\n",
       "      <td>...</td>\n",
       "      <td>...</td>\n",
       "      <td>...</td>\n",
       "    </tr>\n",
       "    <tr>\n",
       "      <th>5335</th>\n",
       "      <td>5335</td>\n",
       "      <td>19</td>\n",
       "      <td>19</td>\n",
       "      <td>1</td>\n",
       "      <td>28</td>\n",
       "      <td>0</td>\n",
       "      <td>1</td>\n",
       "      <td>15</td>\n",
       "      <td>19</td>\n",
       "      <td>18</td>\n",
       "    </tr>\n",
       "    <tr>\n",
       "      <th>5336</th>\n",
       "      <td>5336</td>\n",
       "      <td>15</td>\n",
       "      <td>15</td>\n",
       "      <td>1</td>\n",
       "      <td>11</td>\n",
       "      <td>2</td>\n",
       "      <td>1</td>\n",
       "      <td>9</td>\n",
       "      <td>7</td>\n",
       "      <td>7</td>\n",
       "    </tr>\n",
       "    <tr>\n",
       "      <th>5337</th>\n",
       "      <td>5337</td>\n",
       "      <td>4</td>\n",
       "      <td>19</td>\n",
       "      <td>1</td>\n",
       "      <td>32</td>\n",
       "      <td>0</td>\n",
       "      <td>1</td>\n",
       "      <td>2</td>\n",
       "      <td>9</td>\n",
       "      <td>10</td>\n",
       "    </tr>\n",
       "    <tr>\n",
       "      <th>5338</th>\n",
       "      <td>5338</td>\n",
       "      <td>24</td>\n",
       "      <td>25</td>\n",
       "      <td>1</td>\n",
       "      <td>3</td>\n",
       "      <td>0</td>\n",
       "      <td>1</td>\n",
       "      <td>16</td>\n",
       "      <td>28</td>\n",
       "      <td>27</td>\n",
       "    </tr>\n",
       "    <tr>\n",
       "      <th>5339</th>\n",
       "      <td>5339</td>\n",
       "      <td>20</td>\n",
       "      <td>19</td>\n",
       "      <td>1</td>\n",
       "      <td>16</td>\n",
       "      <td>0</td>\n",
       "      <td>1</td>\n",
       "      <td>12</td>\n",
       "      <td>11</td>\n",
       "      <td>13</td>\n",
       "    </tr>\n",
       "  </tbody>\n",
       "</table>\n",
       "<p>5340 rows × 10 columns</p>\n",
       "</div>"
      ],
      "text/plain": [
       "      Unnamed: 0  Name  Model  Transmission  Km_driven  Owner  Fuel  Discount  \\\n",
       "0              0    32      0             0         22      0     1        14   \n",
       "1              1     6      9             1         10      0     1         1   \n",
       "2              2    31     20             1         26      0     1        14   \n",
       "3              3    27     24             1         23      0     1        14   \n",
       "4              4    30     13             1         36      0     1        15   \n",
       "...          ...   ...    ...           ...        ...    ...   ...       ...   \n",
       "5335        5335    19     19             1         28      0     1        15   \n",
       "5336        5336    15     15             1         11      2     1         9   \n",
       "5337        5337     4     19             1         32      0     1         2   \n",
       "5338        5338    24     25             1          3      0     1        16   \n",
       "5339        5339    20     19             1         16      0     1        12   \n",
       "\n",
       "      Discount_price  Sale_price  \n",
       "0                 24          23  \n",
       "1                  0           0  \n",
       "2                 31          32  \n",
       "3                 35          36  \n",
       "4                 34          35  \n",
       "...              ...         ...  \n",
       "5335              19          18  \n",
       "5336               7           7  \n",
       "5337               9          10  \n",
       "5338              28          27  \n",
       "5339              11          13  \n",
       "\n",
       "[5340 rows x 10 columns]"
      ]
     },
     "execution_count": 18,
     "metadata": {},
     "output_type": "execute_result"
    }
   ],
   "source": [
    "df=df.apply(le.fit_transform)\n",
    "df"
   ]
  },
  {
   "cell_type": "markdown",
   "id": "f91052ab",
   "metadata": {},
   "source": [
    "Now we can see that we have encoded all the columns having object datatype using Label Encoder."
   ]
  },
  {
   "cell_type": "code",
   "execution_count": 19,
   "id": "a22103c2",
   "metadata": {},
   "outputs": [
    {
     "data": {
      "text/plain": [
       "Unnamed: 0        0\n",
       "Name              0\n",
       "Model             0\n",
       "Transmission      0\n",
       "Km_driven         0\n",
       "Owner             0\n",
       "Fuel              0\n",
       "Discount          0\n",
       "Discount_price    0\n",
       "Sale_price        0\n",
       "dtype: int64"
      ]
     },
     "execution_count": 19,
     "metadata": {},
     "output_type": "execute_result"
    }
   ],
   "source": [
    "df.isnull().sum()"
   ]
  },
  {
   "cell_type": "markdown",
   "id": "c86900fc",
   "metadata": {},
   "source": [
    "From the above function  we can see that null values are also replaced, now we have no null values."
   ]
  },
  {
   "cell_type": "markdown",
   "id": "a75888d1",
   "metadata": {},
   "source": [
    "## Statistical Summary"
   ]
  },
  {
   "cell_type": "code",
   "execution_count": 20,
   "id": "06cbd01a",
   "metadata": {},
   "outputs": [
    {
     "data": {
      "text/html": [
       "<div>\n",
       "<style scoped>\n",
       "    .dataframe tbody tr th:only-of-type {\n",
       "        vertical-align: middle;\n",
       "    }\n",
       "\n",
       "    .dataframe tbody tr th {\n",
       "        vertical-align: top;\n",
       "    }\n",
       "\n",
       "    .dataframe thead th {\n",
       "        text-align: right;\n",
       "    }\n",
       "</style>\n",
       "<table border=\"1\" class=\"dataframe\">\n",
       "  <thead>\n",
       "    <tr style=\"text-align: right;\">\n",
       "      <th></th>\n",
       "      <th>Unnamed: 0</th>\n",
       "      <th>Name</th>\n",
       "      <th>Model</th>\n",
       "      <th>Transmission</th>\n",
       "      <th>Km_driven</th>\n",
       "      <th>Owner</th>\n",
       "      <th>Fuel</th>\n",
       "      <th>Discount</th>\n",
       "      <th>Discount_price</th>\n",
       "      <th>Sale_price</th>\n",
       "    </tr>\n",
       "  </thead>\n",
       "  <tbody>\n",
       "    <tr>\n",
       "      <th>count</th>\n",
       "      <td>5340.00000</td>\n",
       "      <td>5340.000000</td>\n",
       "      <td>5340.000000</td>\n",
       "      <td>5340.000000</td>\n",
       "      <td>5340.000000</td>\n",
       "      <td>5340.000000</td>\n",
       "      <td>5340.000000</td>\n",
       "      <td>5340.000000</td>\n",
       "      <td>5340.000000</td>\n",
       "      <td>5340.000000</td>\n",
       "    </tr>\n",
       "    <tr>\n",
       "      <th>mean</th>\n",
       "      <td>2669.50000</td>\n",
       "      <td>17.680337</td>\n",
       "      <td>13.068539</td>\n",
       "      <td>0.951685</td>\n",
       "      <td>19.540449</td>\n",
       "      <td>0.196629</td>\n",
       "      <td>0.922472</td>\n",
       "      <td>9.511798</td>\n",
       "      <td>19.337640</td>\n",
       "      <td>19.601124</td>\n",
       "    </tr>\n",
       "    <tr>\n",
       "      <th>std</th>\n",
       "      <td>1541.66955</td>\n",
       "      <td>9.857225</td>\n",
       "      <td>7.734847</td>\n",
       "      <td>0.386496</td>\n",
       "      <td>11.577651</td>\n",
       "      <td>0.454224</td>\n",
       "      <td>0.267453</td>\n",
       "      <td>5.253354</td>\n",
       "      <td>11.252672</td>\n",
       "      <td>11.581211</td>\n",
       "    </tr>\n",
       "    <tr>\n",
       "      <th>min</th>\n",
       "      <td>0.00000</td>\n",
       "      <td>0.000000</td>\n",
       "      <td>0.000000</td>\n",
       "      <td>0.000000</td>\n",
       "      <td>0.000000</td>\n",
       "      <td>0.000000</td>\n",
       "      <td>0.000000</td>\n",
       "      <td>0.000000</td>\n",
       "      <td>0.000000</td>\n",
       "      <td>0.000000</td>\n",
       "    </tr>\n",
       "    <tr>\n",
       "      <th>25%</th>\n",
       "      <td>1334.75000</td>\n",
       "      <td>10.000000</td>\n",
       "      <td>7.000000</td>\n",
       "      <td>1.000000</td>\n",
       "      <td>9.750000</td>\n",
       "      <td>0.000000</td>\n",
       "      <td>1.000000</td>\n",
       "      <td>5.000000</td>\n",
       "      <td>10.000000</td>\n",
       "      <td>10.000000</td>\n",
       "    </tr>\n",
       "    <tr>\n",
       "      <th>50%</th>\n",
       "      <td>2669.50000</td>\n",
       "      <td>18.000000</td>\n",
       "      <td>12.500000</td>\n",
       "      <td>1.000000</td>\n",
       "      <td>20.000000</td>\n",
       "      <td>0.000000</td>\n",
       "      <td>1.000000</td>\n",
       "      <td>10.500000</td>\n",
       "      <td>20.000000</td>\n",
       "      <td>20.000000</td>\n",
       "    </tr>\n",
       "    <tr>\n",
       "      <th>75%</th>\n",
       "      <td>4004.25000</td>\n",
       "      <td>27.000000</td>\n",
       "      <td>20.000000</td>\n",
       "      <td>1.000000</td>\n",
       "      <td>30.000000</td>\n",
       "      <td>0.000000</td>\n",
       "      <td>1.000000</td>\n",
       "      <td>14.000000</td>\n",
       "      <td>29.000000</td>\n",
       "      <td>30.000000</td>\n",
       "    </tr>\n",
       "    <tr>\n",
       "      <th>max</th>\n",
       "      <td>5339.00000</td>\n",
       "      <td>33.000000</td>\n",
       "      <td>26.000000</td>\n",
       "      <td>2.000000</td>\n",
       "      <td>39.000000</td>\n",
       "      <td>2.000000</td>\n",
       "      <td>1.000000</td>\n",
       "      <td>17.000000</td>\n",
       "      <td>38.000000</td>\n",
       "      <td>39.000000</td>\n",
       "    </tr>\n",
       "  </tbody>\n",
       "</table>\n",
       "</div>"
      ],
      "text/plain": [
       "       Unnamed: 0         Name        Model  Transmission    Km_driven  \\\n",
       "count  5340.00000  5340.000000  5340.000000   5340.000000  5340.000000   \n",
       "mean   2669.50000    17.680337    13.068539      0.951685    19.540449   \n",
       "std    1541.66955     9.857225     7.734847      0.386496    11.577651   \n",
       "min       0.00000     0.000000     0.000000      0.000000     0.000000   \n",
       "25%    1334.75000    10.000000     7.000000      1.000000     9.750000   \n",
       "50%    2669.50000    18.000000    12.500000      1.000000    20.000000   \n",
       "75%    4004.25000    27.000000    20.000000      1.000000    30.000000   \n",
       "max    5339.00000    33.000000    26.000000      2.000000    39.000000   \n",
       "\n",
       "             Owner         Fuel     Discount  Discount_price   Sale_price  \n",
       "count  5340.000000  5340.000000  5340.000000     5340.000000  5340.000000  \n",
       "mean      0.196629     0.922472     9.511798       19.337640    19.601124  \n",
       "std       0.454224     0.267453     5.253354       11.252672    11.581211  \n",
       "min       0.000000     0.000000     0.000000        0.000000     0.000000  \n",
       "25%       0.000000     1.000000     5.000000       10.000000    10.000000  \n",
       "50%       0.000000     1.000000    10.500000       20.000000    20.000000  \n",
       "75%       0.000000     1.000000    14.000000       29.000000    30.000000  \n",
       "max       2.000000     1.000000    17.000000       38.000000    39.000000  "
      ]
     },
     "execution_count": 20,
     "metadata": {},
     "output_type": "execute_result"
    }
   ],
   "source": [
    "df.describe()"
   ]
  },
  {
   "cell_type": "raw",
   "id": "d78472b9",
   "metadata": {},
   "source": [
    "Key Observations:\n",
    "     \n",
    "1 The difference in mean and median is almost similar.\n",
    "\n",
    "2 From the count we can see that we have no missing values.\n",
    "\n",
    "3 We can see that we have small difference in 75% percentile and max  in columns like Name, Model, Km_driven,Discount, Discount_price, Sale_Price.\n",
    "        "
   ]
  },
  {
   "cell_type": "code",
   "execution_count": 21,
   "id": "385c6966",
   "metadata": {},
   "outputs": [],
   "source": [
    " import matplotlib.pyplot as plt\n",
    "import warnings\n",
    "warnings.filterwarnings('ignore')"
   ]
  },
  {
   "cell_type": "markdown",
   "id": "eec624fb",
   "metadata": {},
   "source": [
    "# Univariate Analysis"
   ]
  },
  {
   "cell_type": "markdown",
   "id": "2140d6e6",
   "metadata": {},
   "source": [
    "For univariate analysis we are using box plot."
   ]
  },
  {
   "cell_type": "code",
   "execution_count": 22,
   "id": "2ef753df",
   "metadata": {
    "scrolled": true
   },
   "outputs": [
    {
     "data": {
      "text/plain": [
       "<AxesSubplot:>"
      ]
     },
     "execution_count": 22,
     "metadata": {},
     "output_type": "execute_result"
    },
    {
     "data": {
      "image/png": "[encoded data removed]",
      "text/plain": [
       "<Figure size 432x288 with 1 Axes>"
      ]
     },
     "metadata": {
      "needs_background": "light"
     },
     "output_type": "display_data"
    }
   ],
   "source": [
    "df['Unnamed: 0'].plot.box()"
   ]
  },
  {
   "cell_type": "markdown",
   "id": "1bbcc80f",
   "metadata": {},
   "source": [
    "Here in the Unnamed column is unique thus we have no  outliers in this column."
   ]
  },
  {
   "cell_type": "code",
   "execution_count": 23,
   "id": "dcd44232",
   "metadata": {},
   "outputs": [
    {
     "data": {
      "text/plain": [
       "<AxesSubplot:>"
      ]
     },
     "execution_count": 23,
     "metadata": {},
     "output_type": "execute_result"
    },
    {
     "data": {
      "image/png": "[encoded data removed]",
      "text/plain": [
       "<Figure size 432x288 with 1 Axes>"
      ]
     },
     "metadata": {
      "needs_background": "light"
     },
     "output_type": "display_data"
    }
   ],
   "source": [
    "df['Name'].plot.box()"
   ]
  },
  {
   "cell_type": "markdown",
   "id": "7183c3c0",
   "metadata": {},
   "source": [
    "Here in the name column, here also we  have no outliers in the column where median is across 17 where Q1 is at 10 and min is at 0 and max at above 30."
   ]
  },
  {
   "cell_type": "code",
   "execution_count": 24,
   "id": "4a9f8546",
   "metadata": {},
   "outputs": [
    {
     "data": {
      "text/plain": [
       "<AxesSubplot:>"
      ]
     },
     "execution_count": 24,
     "metadata": {},
     "output_type": "execute_result"
    },
    {
     "data": {
      "image/png": "[encoded data removed]",
      "text/plain": [
       "<Figure size 432x288 with 1 Axes>"
      ]
     },
     "metadata": {
      "needs_background": "light"
     },
     "output_type": "display_data"
    }
   ],
   "source": [
    "df['Model'].plot.box()"
   ]
  },
  {
   "cell_type": "markdown",
   "id": "00fdd455",
   "metadata": {},
   "source": [
    "Here in the car model column we have maximum models more than 25 and min is 0 where median lies across 13 and Q1 ia at 6 and Q3 at 20."
   ]
  },
  {
   "cell_type": "code",
   "execution_count": 25,
   "id": "81410ba2",
   "metadata": {},
   "outputs": [
    {
     "data": {
      "text/plain": [
       "<AxesSubplot:>"
      ]
     },
     "execution_count": 25,
     "metadata": {},
     "output_type": "execute_result"
    },
    {
     "data": {
      "image/png": "[encoded data removed]",
      "text/plain": [
       "<Figure size 432x288 with 1 Axes>"
      ]
     },
     "metadata": {
      "needs_background": "light"
     },
     "output_type": "display_data"
    }
   ],
   "source": [
    "df['Transmission'].plot.box()"
   ]
  },
  {
   "cell_type": "markdown",
   "id": "534e0d96",
   "metadata": {},
   "source": [
    "In the car transmission we have only 2 values is 1 and 2 thus 0 and 2 seems to be the outliers  where median is at 1."
   ]
  },
  {
   "cell_type": "code",
   "execution_count": 26,
   "id": "abc2555b",
   "metadata": {},
   "outputs": [
    {
     "data": {
      "text/plain": [
       "<AxesSubplot:>"
      ]
     },
     "execution_count": 26,
     "metadata": {},
     "output_type": "execute_result"
    },
    {
     "data": {
      "image/png": "[encoded data removed]",
      "text/plain": [
       "<Figure size 432x288 with 1 Axes>"
      ]
     },
     "metadata": {
      "needs_background": "light"
     },
     "output_type": "display_data"
    }
   ],
   "source": [
    "df['Km_driven'].plot.box()"
   ]
  },
  {
   "cell_type": "markdown",
   "id": "bdb18828",
   "metadata": {},
   "source": [
    "Here we have km driven by car where median of the values is at 20 and Q1 and Q3 are at 10 and 30  and we have no outliers."
   ]
  },
  {
   "cell_type": "code",
   "execution_count": 27,
   "id": "011241ac",
   "metadata": {},
   "outputs": [
    {
     "data": {
      "text/plain": [
       "<AxesSubplot:>"
      ]
     },
     "execution_count": 27,
     "metadata": {},
     "output_type": "execute_result"
    },
    {
     "data": {
      "image/png": "[encoded data removed]",
      "text/plain": [
       "<Figure size 432x288 with 1 Axes>"
      ]
     },
     "metadata": {
      "needs_background": "light"
     },
     "output_type": "display_data"
    }
   ],
   "source": [
    "df['Owner'].plot.box()"
   ]
  },
  {
   "cell_type": "markdown",
   "id": "197d3f39",
   "metadata": {},
   "source": [
    "Here in the owner column we have  1st owner and second owner, so the maximum is at 2 and min and median is at 0."
   ]
  },
  {
   "cell_type": "code",
   "execution_count": 28,
   "id": "14d27971",
   "metadata": {},
   "outputs": [
    {
     "data": {
      "text/plain": [
       "<AxesSubplot:>"
      ]
     },
     "execution_count": 28,
     "metadata": {},
     "output_type": "execute_result"
    },
    {
     "data": {
      "image/png": "[encoded data removed]",
      "text/plain": [
       "<Figure size 432x288 with 1 Axes>"
      ]
     },
     "metadata": {
      "needs_background": "light"
     },
     "output_type": "display_data"
    }
   ],
   "source": [
    "df['Fuel'].plot.box()"
   ]
  },
  {
   "cell_type": "markdown",
   "id": "9362c7c4",
   "metadata": {},
   "source": [
    "Here in the fuel we have fuel either 0 and 1  thus median is at 1 and minimum is at 0."
   ]
  },
  {
   "cell_type": "code",
   "execution_count": 29,
   "id": "995f1188",
   "metadata": {},
   "outputs": [
    {
     "data": {
      "text/plain": [
       "<AxesSubplot:>"
      ]
     },
     "execution_count": 29,
     "metadata": {},
     "output_type": "execute_result"
    },
    {
     "data": {
      "image/png": "[encoded data removed]",
      "text/plain": [
       "<Figure size 432x288 with 1 Axes>"
      ]
     },
     "metadata": {
      "needs_background": "light"
     },
     "output_type": "display_data"
    }
   ],
   "source": [
    "df['Discount'].plot.box()"
   ]
  },
  {
   "cell_type": "markdown",
   "id": "c6c483da",
   "metadata": {},
   "source": [
    "Here  in the discount we have no outliers  where we have max at 17.5, min at 0 and median at 10.0."
   ]
  },
  {
   "cell_type": "code",
   "execution_count": 30,
   "id": "8088e80e",
   "metadata": {},
   "outputs": [
    {
     "data": {
      "text/plain": [
       "<AxesSubplot:>"
      ]
     },
     "execution_count": 30,
     "metadata": {},
     "output_type": "execute_result"
    },
    {
     "data": {
      "image/png": "[encoded data removed]",
      "text/plain": [
       "<Figure size 432x288 with 1 Axes>"
      ]
     },
     "metadata": {
      "needs_background": "light"
     },
     "output_type": "display_data"
    }
   ],
   "source": [
    "df['Discount_price'].plot.box()"
   ]
  },
  {
   "cell_type": "markdown",
   "id": "29dd8f1e",
   "metadata": {},
   "source": [
    "Here in the discount price we also have no outliers ."
   ]
  },
  {
   "cell_type": "raw",
   "id": "be1872c2",
   "metadata": {},
   "source": [
    "Till here we have examined all the column using boxplot to get  the detailed information about each column ."
   ]
  },
  {
   "cell_type": "markdown",
   "id": "608c0df1",
   "metadata": {},
   "source": [
    "# Bivariate Analysis"
   ]
  },
  {
   "cell_type": "markdown",
   "id": "521e27f2",
   "metadata": {},
   "source": [
    "Now we will use strip plot for bivariate analysis to see the relation of each column with the target column."
   ]
  },
  {
   "cell_type": "code",
   "execution_count": 34,
   "id": "f43ab17f",
   "metadata": {},
   "outputs": [
    {
     "data": {
      "text/plain": [
       "<AxesSubplot:xlabel='Name', ylabel='Sale_price'>"
      ]
     },
     "execution_count": 34,
     "metadata": {},
     "output_type": "execute_result"
    },
    {
     "data": {
      "image/png": "[encoded data removed]",
      "text/plain": [
       "<Figure size 432x288 with 1 Axes>"
      ]
     },
     "metadata": {
      "needs_background": "light"
     },
     "output_type": "display_data"
    }
   ],
   "source": [
    "sns.stripplot(x=df['Name'],y=df['Sale_price'])"
   ]
  },
  {
   "cell_type": "markdown",
   "id": "a9e5fa61",
   "metadata": {},
   "source": [
    "Here we can see a positive linear relation abetween both the column saleprice increases."
   ]
  },
  {
   "cell_type": "code",
   "execution_count": 35,
   "id": "a28b1a40",
   "metadata": {},
   "outputs": [
    {
     "data": {
      "text/plain": [
       "<AxesSubplot:xlabel='Model', ylabel='Sale_price'>"
      ]
     },
     "execution_count": 35,
     "metadata": {},
     "output_type": "execute_result"
    },
    {
     "data": {
      "image/png": "[encoded data removed]",
      "text/plain": [
       "<Figure size 432x288 with 1 Axes>"
      ]
     },
     "metadata": {
      "needs_background": "light"
     },
     "output_type": "display_data"
    }
   ],
   "source": [
    "sns.stripplot(x=df['Model'],y=df['Sale_price'])"
   ]
  },
  {
   "cell_type": "markdown",
   "id": "116fb6d3",
   "metadata": {},
   "source": [
    "Here in this column we can see the model of cars according to the saleprice."
   ]
  },
  {
   "cell_type": "code",
   "execution_count": 36,
   "id": "2f124ef6",
   "metadata": {},
   "outputs": [
    {
     "data": {
      "text/plain": [
       "<AxesSubplot:xlabel='Transmission', ylabel='Sale_price'>"
      ]
     },
     "execution_count": 36,
     "metadata": {},
     "output_type": "execute_result"
    },
    {
     "data": {
      "image/png": "[encoded data removed]",
      "text/plain": [
       "<Figure size 432x288 with 1 Axes>"
      ]
     },
     "metadata": {
      "needs_background": "light"
     },
     "output_type": "display_data"
    }
   ],
   "source": [
    "sns.stripplot(x=df['Transmission'],y=df['Sale_price'])"
   ]
  },
  {
   "cell_type": "markdown",
   "id": "9a4d257b",
   "metadata": {},
   "source": [
    "Here in thiscolumn we can see the transmission type of the cars with the saleprice , we have 3 transmission  where highest sale pricee is for automatic"
   ]
  },
  {
   "cell_type": "code",
   "execution_count": 37,
   "id": "598e2ce0",
   "metadata": {},
   "outputs": [
    {
     "data": {
      "text/plain": [
       "<AxesSubplot:xlabel='Km_driven', ylabel='Sale_price'>"
      ]
     },
     "execution_count": 37,
     "metadata": {},
     "output_type": "execute_result"
    },
    {
     "data": {
      "image/png": "[encoded data removed]",
      "text/plain": [
       "<Figure size 432x288 with 1 Axes>"
      ]
     },
     "metadata": {
      "needs_background": "light"
     },
     "output_type": "display_data"
    }
   ],
   "source": [
    "sns.stripplot(x=df['Km_driven'],y=df['Sale_price'])"
   ]
  },
  {
   "cell_type": "markdown",
   "id": "0b2ed164",
   "metadata": {},
   "source": [
    "Here we cannot see a linear relation between both the columns as the sale price is incresing and decrasing for different values we have some outliers also."
   ]
  },
  {
   "cell_type": "code",
   "execution_count": 38,
   "id": "cad9b097",
   "metadata": {},
   "outputs": [
    {
     "data": {
      "text/plain": [
       "<AxesSubplot:xlabel='Owner', ylabel='Sale_price'>"
      ]
     },
     "execution_count": 38,
     "metadata": {},
     "output_type": "execute_result"
    },
    {
     "data": {
      "image/png": "[encoded data removed]",
      "text/plain": [
       "<Figure size 432x288 with 1 Axes>"
      ]
     },
     "metadata": {
      "needs_background": "light"
     },
     "output_type": "display_data"
    }
   ],
   "source": [
    "sns.stripplot(x=df['Owner'],y=df['Sale_price'])"
   ]
  },
  {
   "cell_type": "markdown",
   "id": "622a538e",
   "metadata": {},
   "source": [
    "Here in the ownercolumns we have 1st , 2nd, and 3rd owner where higheest saleprice is for 1st owner cars."
   ]
  },
  {
   "cell_type": "code",
   "execution_count": 39,
   "id": "a8f18f09",
   "metadata": {},
   "outputs": [
    {
     "data": {
      "text/plain": [
       "<AxesSubplot:xlabel='Fuel', ylabel='Sale_price'>"
      ]
     },
     "execution_count": 39,
     "metadata": {},
     "output_type": "execute_result"
    },
    {
     "data": {
      "image/png": "[encoded data removed]",
      "text/plain": [
       "<Figure size 432x288 with 1 Axes>"
      ]
     },
     "metadata": {
      "needs_background": "light"
     },
     "output_type": "display_data"
    }
   ],
   "source": [
    "sns.stripplot(x=df['Fuel'],y=df['Sale_price'])"
   ]
  },
  {
   "cell_type": "markdown",
   "id": "7368e0f3",
   "metadata": {},
   "source": [
    "We have cars having petrol and diesel as fuel type the highest saleprice is for diesel cars."
   ]
  },
  {
   "cell_type": "code",
   "execution_count": 40,
   "id": "8e4accd3",
   "metadata": {},
   "outputs": [
    {
     "data": {
      "text/plain": [
       "<AxesSubplot:xlabel='Discount', ylabel='Sale_price'>"
      ]
     },
     "execution_count": 40,
     "metadata": {},
     "output_type": "execute_result"
    },
    {
     "data": {
      "image/png": "[encoded data removed]",
      "text/plain": [
       "<Figure size 432x288 with 1 Axes>"
      ]
     },
     "metadata": {
      "needs_background": "light"
     },
     "output_type": "display_data"
    }
   ],
   "source": [
    "sns.stripplot(x=df['Discount'],y=df['Sale_price'])"
   ]
  },
  {
   "cell_type": "markdown",
   "id": "37587580",
   "metadata": {},
   "source": [
    "Here we can see the discount for different saleprice  we can also see that some outliers are present."
   ]
  },
  {
   "cell_type": "code",
   "execution_count": 41,
   "id": "659ad321",
   "metadata": {},
   "outputs": [
    {
     "data": {
      "text/plain": [
       "<AxesSubplot:xlabel='Discount_price', ylabel='Sale_price'>"
      ]
     },
     "execution_count": 41,
     "metadata": {},
     "output_type": "execute_result"
    },
    {
     "data": {
      "image/png": "[encoded data removed]",
      "text/plain": [
       "<Figure size 432x288 with 1 Axes>"
      ]
     },
     "metadata": {
      "needs_background": "light"
     },
     "output_type": "display_data"
    }
   ],
   "source": [
    "sns.stripplot(x=df['Discount_price'],y=df['Sale_price'])"
   ]
  },
  {
   "cell_type": "markdown",
   "id": "1c71a98c",
   "metadata": {},
   "source": [
    "Here we can see a linear relation between both the columns as discount price increases saleprice also increases."
   ]
  },
  {
   "cell_type": "markdown",
   "id": "454a7f19",
   "metadata": {},
   "source": [
    "# Multivariate Analysis"
   ]
  },
  {
   "cell_type": "markdown",
   "id": "21a022a8",
   "metadata": {},
   "source": [
    "To check correlation"
   ]
  },
  {
   "cell_type": "code",
   "execution_count": 42,
   "id": "3e044a12",
   "metadata": {},
   "outputs": [
    {
     "data": {
      "text/html": [
       "<div>\n",
       "<style scoped>\n",
       "    .dataframe tbody tr th:only-of-type {\n",
       "        vertical-align: middle;\n",
       "    }\n",
       "\n",
       "    .dataframe tbody tr th {\n",
       "        vertical-align: top;\n",
       "    }\n",
       "\n",
       "    .dataframe thead th {\n",
       "        text-align: right;\n",
       "    }\n",
       "</style>\n",
       "<table border=\"1\" class=\"dataframe\">\n",
       "  <thead>\n",
       "    <tr style=\"text-align: right;\">\n",
       "      <th></th>\n",
       "      <th>Unnamed: 0</th>\n",
       "      <th>Name</th>\n",
       "      <th>Model</th>\n",
       "      <th>Transmission</th>\n",
       "      <th>Km_driven</th>\n",
       "      <th>Owner</th>\n",
       "      <th>Fuel</th>\n",
       "      <th>Discount</th>\n",
       "      <th>Discount_price</th>\n",
       "      <th>Sale_price</th>\n",
       "    </tr>\n",
       "  </thead>\n",
       "  <tbody>\n",
       "    <tr>\n",
       "      <th>Unnamed: 0</th>\n",
       "      <td>1.000000</td>\n",
       "      <td>-0.274525</td>\n",
       "      <td>-0.060481</td>\n",
       "      <td>-0.111436</td>\n",
       "      <td>-0.089973</td>\n",
       "      <td>0.191698</td>\n",
       "      <td>0.242381</td>\n",
       "      <td>-0.057925</td>\n",
       "      <td>-0.200286</td>\n",
       "      <td>-0.224460</td>\n",
       "    </tr>\n",
       "    <tr>\n",
       "      <th>Name</th>\n",
       "      <td>-0.274525</td>\n",
       "      <td>1.000000</td>\n",
       "      <td>-0.201807</td>\n",
       "      <td>0.064233</td>\n",
       "      <td>0.094975</td>\n",
       "      <td>-0.244108</td>\n",
       "      <td>0.216097</td>\n",
       "      <td>0.168247</td>\n",
       "      <td>0.789612</td>\n",
       "      <td>0.791891</td>\n",
       "    </tr>\n",
       "    <tr>\n",
       "      <th>Model</th>\n",
       "      <td>-0.060481</td>\n",
       "      <td>-0.201807</td>\n",
       "      <td>1.000000</td>\n",
       "      <td>-0.027086</td>\n",
       "      <td>-0.140709</td>\n",
       "      <td>0.130028</td>\n",
       "      <td>-0.272311</td>\n",
       "      <td>0.260328</td>\n",
       "      <td>-0.035741</td>\n",
       "      <td>-0.031184</td>\n",
       "    </tr>\n",
       "    <tr>\n",
       "      <th>Transmission</th>\n",
       "      <td>-0.111436</td>\n",
       "      <td>0.064233</td>\n",
       "      <td>-0.027086</td>\n",
       "      <td>1.000000</td>\n",
       "      <td>-0.172979</td>\n",
       "      <td>-0.230739</td>\n",
       "      <td>-0.036243</td>\n",
       "      <td>0.062548</td>\n",
       "      <td>0.144450</td>\n",
       "      <td>0.177091</td>\n",
       "    </tr>\n",
       "    <tr>\n",
       "      <th>Km_driven</th>\n",
       "      <td>-0.089973</td>\n",
       "      <td>0.094975</td>\n",
       "      <td>-0.140709</td>\n",
       "      <td>-0.172979</td>\n",
       "      <td>1.000000</td>\n",
       "      <td>0.046356</td>\n",
       "      <td>-0.086635</td>\n",
       "      <td>0.035611</td>\n",
       "      <td>0.066362</td>\n",
       "      <td>0.051104</td>\n",
       "    </tr>\n",
       "    <tr>\n",
       "      <th>Owner</th>\n",
       "      <td>0.191698</td>\n",
       "      <td>-0.244108</td>\n",
       "      <td>0.130028</td>\n",
       "      <td>-0.230739</td>\n",
       "      <td>0.046356</td>\n",
       "      <td>1.000000</td>\n",
       "      <td>0.125508</td>\n",
       "      <td>-0.091397</td>\n",
       "      <td>-0.247922</td>\n",
       "      <td>-0.255974</td>\n",
       "    </tr>\n",
       "    <tr>\n",
       "      <th>Fuel</th>\n",
       "      <td>0.242381</td>\n",
       "      <td>0.216097</td>\n",
       "      <td>-0.272311</td>\n",
       "      <td>-0.036243</td>\n",
       "      <td>-0.086635</td>\n",
       "      <td>0.125508</td>\n",
       "      <td>1.000000</td>\n",
       "      <td>0.028246</td>\n",
       "      <td>0.043053</td>\n",
       "      <td>0.048428</td>\n",
       "    </tr>\n",
       "    <tr>\n",
       "      <th>Discount</th>\n",
       "      <td>-0.057925</td>\n",
       "      <td>0.168247</td>\n",
       "      <td>0.260328</td>\n",
       "      <td>0.062548</td>\n",
       "      <td>0.035611</td>\n",
       "      <td>-0.091397</td>\n",
       "      <td>0.028246</td>\n",
       "      <td>1.000000</td>\n",
       "      <td>0.143373</td>\n",
       "      <td>0.126228</td>\n",
       "    </tr>\n",
       "    <tr>\n",
       "      <th>Discount_price</th>\n",
       "      <td>-0.200286</td>\n",
       "      <td>0.789612</td>\n",
       "      <td>-0.035741</td>\n",
       "      <td>0.144450</td>\n",
       "      <td>0.066362</td>\n",
       "      <td>-0.247922</td>\n",
       "      <td>0.043053</td>\n",
       "      <td>0.143373</td>\n",
       "      <td>1.000000</td>\n",
       "      <td>0.994258</td>\n",
       "    </tr>\n",
       "    <tr>\n",
       "      <th>Sale_price</th>\n",
       "      <td>-0.224460</td>\n",
       "      <td>0.791891</td>\n",
       "      <td>-0.031184</td>\n",
       "      <td>0.177091</td>\n",
       "      <td>0.051104</td>\n",
       "      <td>-0.255974</td>\n",
       "      <td>0.048428</td>\n",
       "      <td>0.126228</td>\n",
       "      <td>0.994258</td>\n",
       "      <td>1.000000</td>\n",
       "    </tr>\n",
       "  </tbody>\n",
       "</table>\n",
       "</div>"
      ],
      "text/plain": [
       "                Unnamed: 0      Name     Model  Transmission  Km_driven  \\\n",
       "Unnamed: 0        1.000000 -0.274525 -0.060481     -0.111436  -0.089973   \n",
       "Name             -0.274525  1.000000 -0.201807      0.064233   0.094975   \n",
       "Model            -0.060481 -0.201807  1.000000     -0.027086  -0.140709   \n",
       "Transmission     -0.111436  0.064233 -0.027086      1.000000  -0.172979   \n",
       "Km_driven        -0.089973  0.094975 -0.140709     -0.172979   1.000000   \n",
       "Owner             0.191698 -0.244108  0.130028     -0.230739   0.046356   \n",
       "Fuel              0.242381  0.216097 -0.272311     -0.036243  -0.086635   \n",
       "Discount         -0.057925  0.168247  0.260328      0.062548   0.035611   \n",
       "Discount_price   -0.200286  0.789612 -0.035741      0.144450   0.066362   \n",
       "Sale_price       -0.224460  0.791891 -0.031184      0.177091   0.051104   \n",
       "\n",
       "                   Owner      Fuel  Discount  Discount_price  Sale_price  \n",
       "Unnamed: 0      0.191698  0.242381 -0.057925       -0.200286   -0.224460  \n",
       "Name           -0.244108  0.216097  0.168247        0.789612    0.791891  \n",
       "Model           0.130028 -0.272311  0.260328       -0.035741   -0.031184  \n",
       "Transmission   -0.230739 -0.036243  0.062548        0.144450    0.177091  \n",
       "Km_driven       0.046356 -0.086635  0.035611        0.066362    0.051104  \n",
       "Owner           1.000000  0.125508 -0.091397       -0.247922   -0.255974  \n",
       "Fuel            0.125508  1.000000  0.028246        0.043053    0.048428  \n",
       "Discount       -0.091397  0.028246  1.000000        0.143373    0.126228  \n",
       "Discount_price -0.247922  0.043053  0.143373        1.000000    0.994258  \n",
       "Sale_price     -0.255974  0.048428  0.126228        0.994258    1.000000  "
      ]
     },
     "execution_count": 42,
     "metadata": {},
     "output_type": "execute_result"
    }
   ],
   "source": [
    "dfcor=df.corr()\n",
    "dfcor"
   ]
  },
  {
   "cell_type": "code",
   "execution_count": 43,
   "id": "532e1bf5",
   "metadata": {},
   "outputs": [
    {
     "data": {
      "text/plain": [
       "<AxesSubplot:>"
      ]
     },
     "execution_count": 43,
     "metadata": {},
     "output_type": "execute_result"
    },
    {
     "data": {
      "image/png": "[encoded data removed]",
      "text/plain": [
       "<Figure size 1440x864 with 2 Axes>"
      ]
     },
     "metadata": {
      "needs_background": "light"
     },
     "output_type": "display_data"
    }
   ],
   "source": [
    "plt.figure(figsize=(20,12 ))\n",
    "sns.heatmap(dfcor,annot=True,cmap='YlOrRd_r')"
   ]
  },
  {
   "cell_type": "raw",
   "id": "106e9df2",
   "metadata": {},
   "source": [
    "Key Observations:\n",
    "\n",
    "Now we can clearly indentify the correlation of independent variable with the target variable\"SaLe_Price\".\n",
    "\n",
    "Light shades are highly  positively correlated.\n",
    "\n",
    "Sale_price is negatively correlated with Unnamed: o and Owner column.\n",
    "    \n",
    "Sale_price is positively correlated with discount price  and name column.\n"
   ]
  },
  {
   "cell_type": "code",
   "execution_count": 44,
   "id": "85a16620",
   "metadata": {},
   "outputs": [
    {
     "data": {
      "text/plain": [
       "<seaborn.axisgrid.PairGrid at 0x2738e7e85e0>"
      ]
     },
     "execution_count": 44,
     "metadata": {},
     "output_type": "execute_result"
    },
    {
     "data": {
      "image/png": "[encoded data removed]",
      "text/plain": [
       "<Figure size 1800x1800 with 110 Axes>"
      ]
     },
     "metadata": {
      "needs_background": "light"
     },
     "output_type": "display_data"
    }
   ],
   "source": [
    "# another example of multivariate analysis\n",
    "sns.pairplot(df)"
   ]
  },
  {
   "cell_type": "markdown",
   "id": "76a645df",
   "metadata": {},
   "source": [
    "Here we can clearly see the relation of each column with other columns."
   ]
  },
  {
   "cell_type": "markdown",
   "id": "e03f2fd0",
   "metadata": {},
   "source": [
    "# To check Skewness"
   ]
  },
  {
   "cell_type": "code",
   "execution_count": 45,
   "id": "919eb290",
   "metadata": {},
   "outputs": [
    {
     "data": {
      "text/plain": [
       "<AxesSubplot:xlabel='Unnamed: 0', ylabel='Density'>"
      ]
     },
     "execution_count": 45,
     "metadata": {},
     "output_type": "execute_result"
    },
    {
     "data": {
      "image/png": "[encoded data removed]",
      "text/plain": [
       "<Figure size 432x288 with 1 Axes>"
      ]
     },
     "metadata": {
      "needs_background": "light"
     },
     "output_type": "display_data"
    }
   ],
   "source": [
    "sns.distplot(df['Unnamed: 0'])"
   ]
  },
  {
   "cell_type": "markdown",
   "id": "afe971f8",
   "metadata": {},
   "source": [
    "Here we can see the skewness the curve is not normally distributed from the top."
   ]
  },
  {
   "cell_type": "code",
   "execution_count": 46,
   "id": "7517ace4",
   "metadata": {},
   "outputs": [
    {
     "data": {
      "text/plain": [
       "<AxesSubplot:xlabel='Name', ylabel='Density'>"
      ]
     },
     "execution_count": 46,
     "metadata": {},
     "output_type": "execute_result"
    },
    {
     "data": {
      "image/png": "[encoded data removed]",
      "text/plain": [
       "<Figure size 432x288 with 1 Axes>"
      ]
     },
     "metadata": {
      "needs_background": "light"
     },
     "output_type": "display_data"
    }
   ],
   "source": [
    "sns.distplot(df['Name'])"
   ]
  },
  {
   "cell_type": "markdown",
   "id": "e71fc36b",
   "metadata": {},
   "source": [
    "Here in this column also we can see that the curves are not normally distributed."
   ]
  },
  {
   "cell_type": "code",
   "execution_count": 47,
   "id": "8a1b895f",
   "metadata": {},
   "outputs": [
    {
     "data": {
      "text/plain": [
       "<AxesSubplot:xlabel='Model', ylabel='Density'>"
      ]
     },
     "execution_count": 47,
     "metadata": {},
     "output_type": "execute_result"
    },
    {
     "data": {
      "image/png": "[encoded data removed]",
      "text/plain": [
       "<Figure size 432x288 with 1 Axes>"
      ]
     },
     "metadata": {
      "needs_background": "light"
     },
     "output_type": "display_data"
    }
   ],
   "source": [
    "sns.distplot(df['Model'])"
   ]
  },
  {
   "cell_type": "markdown",
   "id": "b3be9d90",
   "metadata": {},
   "source": [
    "Here in this column also we can see that the curves are not normally distributed."
   ]
  },
  {
   "cell_type": "code",
   "execution_count": 48,
   "id": "10a1b7cb",
   "metadata": {},
   "outputs": [
    {
     "data": {
      "text/plain": [
       "<AxesSubplot:xlabel='Transmission', ylabel='Density'>"
      ]
     },
     "execution_count": 48,
     "metadata": {},
     "output_type": "execute_result"
    },
    {
     "data": {
      "image/png": "[encoded data removed]",
      "text/plain": [
       "<Figure size 432x288 with 1 Axes>"
      ]
     },
     "metadata": {
      "needs_background": "light"
     },
     "output_type": "display_data"
    }
   ],
   "source": [
    "sns.distplot(df['Transmission'])"
   ]
  },
  {
   "cell_type": "markdown",
   "id": "fa7b5c34",
   "metadata": {},
   "source": [
    "Here in this column we can see the skewness in 1st and last curve."
   ]
  },
  {
   "cell_type": "code",
   "execution_count": 49,
   "id": "72264c8b",
   "metadata": {},
   "outputs": [
    {
     "data": {
      "text/plain": [
       "<AxesSubplot:xlabel='Km_driven', ylabel='Density'>"
      ]
     },
     "execution_count": 49,
     "metadata": {},
     "output_type": "execute_result"
    },
    {
     "data": {
      "image/png": "[encoded data removed]",
      "text/plain": [
       "<Figure size 432x288 with 1 Axes>"
      ]
     },
     "metadata": {
      "needs_background": "light"
     },
     "output_type": "display_data"
    }
   ],
   "source": [
    "sns.distplot(df['Km_driven'])"
   ]
  },
  {
   "cell_type": "markdown",
   "id": "73c1baa2",
   "metadata": {},
   "source": [
    "Here we can see the skewness the curve is not normally distributed from the top."
   ]
  },
  {
   "cell_type": "code",
   "execution_count": 50,
   "id": "486f5147",
   "metadata": {},
   "outputs": [
    {
     "data": {
      "text/plain": [
       "<AxesSubplot:xlabel='Owner', ylabel='Density'>"
      ]
     },
     "execution_count": 50,
     "metadata": {},
     "output_type": "execute_result"
    },
    {
     "data": {
      "image/png": "[encoded data removed]",
      "text/plain": [
       "<Figure size 432x288 with 1 Axes>"
      ]
     },
     "metadata": {
      "needs_background": "light"
     },
     "output_type": "display_data"
    }
   ],
   "source": [
    "sns.distplot(df['Owner'])"
   ]
  },
  {
   "cell_type": "markdown",
   "id": "88bce885",
   "metadata": {},
   "source": [
    "Here in this column we can see the skewness in  the last 2 curves."
   ]
  },
  {
   "cell_type": "code",
   "execution_count": 51,
   "id": "1ee93fbf",
   "metadata": {},
   "outputs": [
    {
     "data": {
      "text/plain": [
       "<AxesSubplot:xlabel='Fuel', ylabel='Density'>"
      ]
     },
     "execution_count": 51,
     "metadata": {},
     "output_type": "execute_result"
    },
    {
     "data": {
      "image/png": "[encoded data removed]",
      "text/plain": [
       "<Figure size 432x288 with 1 Axes>"
      ]
     },
     "metadata": {
      "needs_background": "light"
     },
     "output_type": "display_data"
    }
   ],
   "source": [
    "sns.distplot(df['Fuel'])"
   ]
  },
  {
   "cell_type": "markdown",
   "id": "7b226822",
   "metadata": {},
   "source": [
    "Here also we can see the skewness in the 1st curve."
   ]
  },
  {
   "cell_type": "code",
   "execution_count": 52,
   "id": "727b6c70",
   "metadata": {},
   "outputs": [
    {
     "data": {
      "text/plain": [
       "<AxesSubplot:xlabel='Discount', ylabel='Density'>"
      ]
     },
     "execution_count": 52,
     "metadata": {},
     "output_type": "execute_result"
    },
    {
     "data": {
      "image/png": "[encoded data removed]",
      "text/plain": [
       "<Figure size 432x288 with 1 Axes>"
      ]
     },
     "metadata": {
      "needs_background": "light"
     },
     "output_type": "display_data"
    }
   ],
   "source": [
    "sns.distplot(df['Discount'])"
   ]
  },
  {
   "cell_type": "markdown",
   "id": "e456c506",
   "metadata": {},
   "source": [
    "Here in this column we can see the skewness in all the curves."
   ]
  },
  {
   "cell_type": "code",
   "execution_count": 53,
   "id": "3f5a7183",
   "metadata": {},
   "outputs": [
    {
     "data": {
      "text/plain": [
       "<AxesSubplot:xlabel='Discount_price', ylabel='Density'>"
      ]
     },
     "execution_count": 53,
     "metadata": {},
     "output_type": "execute_result"
    },
    {
     "data": {
      "image/png": "[encoded data removed]",
      "text/plain": [
       "<Figure size 432x288 with 1 Axes>"
      ]
     },
     "metadata": {
      "needs_background": "light"
     },
     "output_type": "display_data"
    }
   ],
   "source": [
    "sns.distplot(df['Discount_price'])"
   ]
  },
  {
   "cell_type": "markdown",
   "id": "103107c9",
   "metadata": {},
   "source": [
    "Here we can see the skewness the curve is not normally distributed from the top."
   ]
  },
  {
   "cell_type": "markdown",
   "id": "2600c8c7",
   "metadata": {},
   "source": [
    "From the above plots we have seen the skewness in all the curves."
   ]
  },
  {
   "cell_type": "markdown",
   "id": "5e7293cd",
   "metadata": {},
   "source": [
    "# Data Cleaning"
   ]
  },
  {
   "cell_type": "code",
   "execution_count": 54,
   "id": "03b81b6c",
   "metadata": {},
   "outputs": [],
   "source": [
    "# Dropping the highly correlated columns.\n",
    "df.drop('Unnamed: 0',axis=1,inplace=True)\n",
    "df.drop('Owner',axis=1,inplace=True)"
   ]
  },
  {
   "cell_type": "code",
   "execution_count": 55,
   "id": "a8a94c8d",
   "metadata": {},
   "outputs": [
    {
     "data": {
      "text/html": [
       "<div>\n",
       "<style scoped>\n",
       "    .dataframe tbody tr th:only-of-type {\n",
       "        vertical-align: middle;\n",
       "    }\n",
       "\n",
       "    .dataframe tbody tr th {\n",
       "        vertical-align: top;\n",
       "    }\n",
       "\n",
       "    .dataframe thead th {\n",
       "        text-align: right;\n",
       "    }\n",
       "</style>\n",
       "<table border=\"1\" class=\"dataframe\">\n",
       "  <thead>\n",
       "    <tr style=\"text-align: right;\">\n",
       "      <th></th>\n",
       "      <th>Name</th>\n",
       "      <th>Model</th>\n",
       "      <th>Transmission</th>\n",
       "      <th>Km_driven</th>\n",
       "      <th>Fuel</th>\n",
       "      <th>Discount</th>\n",
       "      <th>Discount_price</th>\n",
       "      <th>Sale_price</th>\n",
       "    </tr>\n",
       "  </thead>\n",
       "  <tbody>\n",
       "    <tr>\n",
       "      <th>0</th>\n",
       "      <td>32</td>\n",
       "      <td>0</td>\n",
       "      <td>0</td>\n",
       "      <td>22</td>\n",
       "      <td>1</td>\n",
       "      <td>14</td>\n",
       "      <td>24</td>\n",
       "      <td>23</td>\n",
       "    </tr>\n",
       "    <tr>\n",
       "      <th>1</th>\n",
       "      <td>6</td>\n",
       "      <td>9</td>\n",
       "      <td>1</td>\n",
       "      <td>10</td>\n",
       "      <td>1</td>\n",
       "      <td>1</td>\n",
       "      <td>0</td>\n",
       "      <td>0</td>\n",
       "    </tr>\n",
       "    <tr>\n",
       "      <th>2</th>\n",
       "      <td>31</td>\n",
       "      <td>20</td>\n",
       "      <td>1</td>\n",
       "      <td>26</td>\n",
       "      <td>1</td>\n",
       "      <td>14</td>\n",
       "      <td>31</td>\n",
       "      <td>32</td>\n",
       "    </tr>\n",
       "    <tr>\n",
       "      <th>3</th>\n",
       "      <td>27</td>\n",
       "      <td>24</td>\n",
       "      <td>1</td>\n",
       "      <td>23</td>\n",
       "      <td>1</td>\n",
       "      <td>14</td>\n",
       "      <td>35</td>\n",
       "      <td>36</td>\n",
       "    </tr>\n",
       "    <tr>\n",
       "      <th>4</th>\n",
       "      <td>30</td>\n",
       "      <td>13</td>\n",
       "      <td>1</td>\n",
       "      <td>36</td>\n",
       "      <td>1</td>\n",
       "      <td>15</td>\n",
       "      <td>34</td>\n",
       "      <td>35</td>\n",
       "    </tr>\n",
       "  </tbody>\n",
       "</table>\n",
       "</div>"
      ],
      "text/plain": [
       "   Name  Model  Transmission  Km_driven  Fuel  Discount  Discount_price  \\\n",
       "0    32      0             0         22     1        14              24   \n",
       "1     6      9             1         10     1         1               0   \n",
       "2    31     20             1         26     1        14              31   \n",
       "3    27     24             1         23     1        14              35   \n",
       "4    30     13             1         36     1        15              34   \n",
       "\n",
       "   Sale_price  \n",
       "0          23  \n",
       "1           0  \n",
       "2          32  \n",
       "3          36  \n",
       "4          35  "
      ]
     },
     "execution_count": 55,
     "metadata": {},
     "output_type": "execute_result"
    }
   ],
   "source": [
    "df.head()"
   ]
  },
  {
   "cell_type": "markdown",
   "id": "ec7eef9b",
   "metadata": {},
   "source": [
    "Here we have dropped the Unnamed: 0 and owner column due to its highly negative correlation with the sale_price column.These columns impacts our data negatively."
   ]
  },
  {
   "cell_type": "code",
   "execution_count": 56,
   "id": "96292d73",
   "metadata": {},
   "outputs": [
    {
     "data": {
      "text/plain": [
       "(5340, 8)"
      ]
     },
     "execution_count": 56,
     "metadata": {},
     "output_type": "execute_result"
    }
   ],
   "source": [
    "df.shape"
   ]
  },
  {
   "cell_type": "markdown",
   "id": "f4c42657",
   "metadata": {},
   "source": [
    "From the univariate and bivariate analysis we have seen that only few outliers are present, So no need to remove outliers."
   ]
  },
  {
   "cell_type": "markdown",
   "id": "28cb86c7",
   "metadata": {},
   "source": [
    "# Separating independent variable and target variable."
   ]
  },
  {
   "cell_type": "code",
   "execution_count": 57,
   "id": "21d24e59",
   "metadata": {},
   "outputs": [],
   "source": [
    "x1=df.drop('Sale_price',axis=1)\n",
    "y1=df['Sale_price']"
   ]
  },
  {
   "cell_type": "code",
   "execution_count": 58,
   "id": "480ad628",
   "metadata": {},
   "outputs": [
    {
     "data": {
      "text/plain": [
       "Name             -0.093277\n",
       "Model             0.005797\n",
       "Transmission     -0.460198\n",
       "Km_driven        -0.001951\n",
       "Fuel             -3.160412\n",
       "Discount         -0.386313\n",
       "Discount_price   -0.055214\n",
       "Sale_price       -0.005915\n",
       "dtype: float64"
      ]
     },
     "execution_count": 58,
     "metadata": {},
     "output_type": "execute_result"
    }
   ],
   "source": [
    "df.skew()"
   ]
  },
  {
   "cell_type": "markdown",
   "id": "18d7d2a1",
   "metadata": {},
   "source": [
    "#### So we are using power transformer to remove the skewness."
   ]
  },
  {
   "cell_type": "code",
   "execution_count": 61,
   "id": "3e2b7d8e",
   "metadata": {},
   "outputs": [],
   "source": [
    "from sklearn.preprocessing import power_transform\n",
    "x=power_transform(x1)\n",
    "x=pd.DataFrame(x,columns=x1.columns)"
   ]
  },
  {
   "cell_type": "code",
   "execution_count": 62,
   "id": "4c065a4e",
   "metadata": {},
   "outputs": [
    {
     "data": {
      "text/plain": [
       "Name             -0.266371\n",
       "Model            -0.236729\n",
       "Transmission      0.319962\n",
       "Km_driven        -0.256632\n",
       "Fuel             -3.160412\n",
       "Discount         -0.391616\n",
       "Discount_price   -0.272772\n",
       "dtype: float64"
      ]
     },
     "execution_count": 62,
     "metadata": {},
     "output_type": "execute_result"
    }
   ],
   "source": [
    "x.skew()"
   ]
  },
  {
   "cell_type": "markdown",
   "id": "cd903959",
   "metadata": {},
   "source": [
    "From the above output we can see that skewness is removed from the columns"
   ]
  },
  {
   "cell_type": "code",
   "execution_count": 63,
   "id": "2fb054ad",
   "metadata": {},
   "outputs": [
    {
     "data": {
      "text/html": [
       "<div>\n",
       "<style scoped>\n",
       "    .dataframe tbody tr th:only-of-type {\n",
       "        vertical-align: middle;\n",
       "    }\n",
       "\n",
       "    .dataframe tbody tr th {\n",
       "        vertical-align: top;\n",
       "    }\n",
       "\n",
       "    .dataframe thead th {\n",
       "        text-align: right;\n",
       "    }\n",
       "</style>\n",
       "<table border=\"1\" class=\"dataframe\">\n",
       "  <thead>\n",
       "    <tr style=\"text-align: right;\">\n",
       "      <th></th>\n",
       "      <th>Name</th>\n",
       "      <th>Model</th>\n",
       "      <th>Transmission</th>\n",
       "      <th>Km_driven</th>\n",
       "      <th>Fuel</th>\n",
       "      <th>Discount</th>\n",
       "      <th>Discount_price</th>\n",
       "    </tr>\n",
       "  </thead>\n",
       "  <tbody>\n",
       "    <tr>\n",
       "      <th>0</th>\n",
       "      <td>1.379012</td>\n",
       "      <td>-1.943010</td>\n",
       "      <td>-2.261733</td>\n",
       "      <td>0.289346</td>\n",
       "      <td>0.289903</td>\n",
       "      <td>0.854038</td>\n",
       "      <td>0.463862</td>\n",
       "    </tr>\n",
       "    <tr>\n",
       "      <th>1</th>\n",
       "      <td>-1.179883</td>\n",
       "      <td>-0.438149</td>\n",
       "      <td>0.080367</td>\n",
       "      <td>-0.753949</td>\n",
       "      <td>0.289903</td>\n",
       "      <td>-1.623536</td>\n",
       "      <td>-1.965400</td>\n",
       "    </tr>\n",
       "    <tr>\n",
       "      <th>2</th>\n",
       "      <td>1.291198</td>\n",
       "      <td>0.892230</td>\n",
       "      <td>0.080367</td>\n",
       "      <td>0.599550</td>\n",
       "      <td>0.289903</td>\n",
       "      <td>0.854038</td>\n",
       "      <td>1.010187</td>\n",
       "    </tr>\n",
       "    <tr>\n",
       "      <th>3</th>\n",
       "      <td>0.934361</td>\n",
       "      <td>1.324167</td>\n",
       "      <td>0.080367</td>\n",
       "      <td>0.368211</td>\n",
       "      <td>0.289903</td>\n",
       "      <td>0.854038</td>\n",
       "      <td>1.309037</td>\n",
       "    </tr>\n",
       "    <tr>\n",
       "      <th>4</th>\n",
       "      <td>1.202848</td>\n",
       "      <td>0.077088</td>\n",
       "      <td>0.080367</td>\n",
       "      <td>1.324512</td>\n",
       "      <td>0.289903</td>\n",
       "      <td>1.043383</td>\n",
       "      <td>1.235120</td>\n",
       "    </tr>\n",
       "    <tr>\n",
       "      <th>...</th>\n",
       "      <td>...</td>\n",
       "      <td>...</td>\n",
       "      <td>...</td>\n",
       "      <td>...</td>\n",
       "      <td>...</td>\n",
       "      <td>...</td>\n",
       "      <td>...</td>\n",
       "    </tr>\n",
       "    <tr>\n",
       "      <th>5335</th>\n",
       "      <td>0.188272</td>\n",
       "      <td>0.780892</td>\n",
       "      <td>0.080367</td>\n",
       "      <td>0.749806</td>\n",
       "      <td>0.289903</td>\n",
       "      <td>1.043383</td>\n",
       "      <td>0.050512</td>\n",
       "    </tr>\n",
       "    <tr>\n",
       "      <th>5336</th>\n",
       "      <td>-0.206052</td>\n",
       "      <td>0.319358</td>\n",
       "      <td>0.080367</td>\n",
       "      <td>-0.657783</td>\n",
       "      <td>0.289903</td>\n",
       "      <td>-0.094578</td>\n",
       "      <td>-1.073732</td>\n",
       "    </tr>\n",
       "    <tr>\n",
       "      <th>5337</th>\n",
       "      <td>-1.424284</td>\n",
       "      <td>0.780892</td>\n",
       "      <td>0.080367</td>\n",
       "      <td>1.042003</td>\n",
       "      <td>0.289903</td>\n",
       "      <td>-1.431044</td>\n",
       "      <td>-0.866957</td>\n",
       "    </tr>\n",
       "    <tr>\n",
       "      <th>5338</th>\n",
       "      <td>0.660195</td>\n",
       "      <td>1.429149</td>\n",
       "      <td>0.080367</td>\n",
       "      <td>-1.522414</td>\n",
       "      <td>0.289903</td>\n",
       "      <td>1.232621</td>\n",
       "      <td>0.780040</td>\n",
       "    </tr>\n",
       "    <tr>\n",
       "      <th>5339</th>\n",
       "      <td>0.284341</td>\n",
       "      <td>0.780892</td>\n",
       "      <td>0.080367</td>\n",
       "      <td>-0.206148</td>\n",
       "      <td>0.289903</td>\n",
       "      <td>0.474999</td>\n",
       "      <td>-0.670105</td>\n",
       "    </tr>\n",
       "  </tbody>\n",
       "</table>\n",
       "<p>5340 rows × 7 columns</p>\n",
       "</div>"
      ],
      "text/plain": [
       "          Name     Model  Transmission  Km_driven      Fuel  Discount  \\\n",
       "0     1.379012 -1.943010     -2.261733   0.289346  0.289903  0.854038   \n",
       "1    -1.179883 -0.438149      0.080367  -0.753949  0.289903 -1.623536   \n",
       "2     1.291198  0.892230      0.080367   0.599550  0.289903  0.854038   \n",
       "3     0.934361  1.324167      0.080367   0.368211  0.289903  0.854038   \n",
       "4     1.202848  0.077088      0.080367   1.324512  0.289903  1.043383   \n",
       "...        ...       ...           ...        ...       ...       ...   \n",
       "5335  0.188272  0.780892      0.080367   0.749806  0.289903  1.043383   \n",
       "5336 -0.206052  0.319358      0.080367  -0.657783  0.289903 -0.094578   \n",
       "5337 -1.424284  0.780892      0.080367   1.042003  0.289903 -1.431044   \n",
       "5338  0.660195  1.429149      0.080367  -1.522414  0.289903  1.232621   \n",
       "5339  0.284341  0.780892      0.080367  -0.206148  0.289903  0.474999   \n",
       "\n",
       "      Discount_price  \n",
       "0           0.463862  \n",
       "1          -1.965400  \n",
       "2           1.010187  \n",
       "3           1.309037  \n",
       "4           1.235120  \n",
       "...              ...  \n",
       "5335        0.050512  \n",
       "5336       -1.073732  \n",
       "5337       -0.866957  \n",
       "5338        0.780040  \n",
       "5339       -0.670105  \n",
       "\n",
       "[5340 rows x 7 columns]"
      ]
     },
     "execution_count": 63,
     "metadata": {},
     "output_type": "execute_result"
    }
   ],
   "source": [
    "x"
   ]
  },
  {
   "cell_type": "markdown",
   "id": "cd29f828",
   "metadata": {},
   "source": [
    "## Creating Train Test split"
   ]
  },
  {
   "cell_type": "code",
   "execution_count": 64,
   "id": "2ab6959c",
   "metadata": {},
   "outputs": [
    {
     "data": {
      "text/plain": [
       "(5340, 7)"
      ]
     },
     "execution_count": 64,
     "metadata": {},
     "output_type": "execute_result"
    }
   ],
   "source": [
    "x.shape"
   ]
  },
  {
   "cell_type": "code",
   "execution_count": 66,
   "id": "dcba6eee",
   "metadata": {},
   "outputs": [
    {
     "data": {
      "text/plain": [
       "(5340,)"
      ]
     },
     "execution_count": 66,
     "metadata": {},
     "output_type": "execute_result"
    }
   ],
   "source": [
    "y=y1\n",
    "y.shape"
   ]
  },
  {
   "cell_type": "code",
   "execution_count": 67,
   "id": "1c8709b7",
   "metadata": {},
   "outputs": [],
   "source": [
    "y=y.values.reshape(-1,1)"
   ]
  },
  {
   "cell_type": "code",
   "execution_count": 68,
   "id": "6c2e8bf1",
   "metadata": {},
   "outputs": [
    {
     "data": {
      "text/plain": [
       "(5340, 1)"
      ]
     },
     "execution_count": 68,
     "metadata": {},
     "output_type": "execute_result"
    }
   ],
   "source": [
    "y.shape"
   ]
  },
  {
   "cell_type": "code",
   "execution_count": 69,
   "id": "d6ad4d0c",
   "metadata": {},
   "outputs": [],
   "source": [
    "from sklearn.model_selection import train_test_split"
   ]
  },
  {
   "cell_type": "code",
   "execution_count": 70,
   "id": "f49f451b",
   "metadata": {},
   "outputs": [],
   "source": [
    "x_train,x_test,y_train,y_test=train_test_split(x,y,test_size=0.30,random_state=52)"
   ]
  },
  {
   "cell_type": "code",
   "execution_count": 71,
   "id": "ff7674ae",
   "metadata": {},
   "outputs": [
    {
     "data": {
      "text/plain": [
       "(3738, 7)"
      ]
     },
     "execution_count": 71,
     "metadata": {},
     "output_type": "execute_result"
    }
   ],
   "source": [
    "x_train.shape"
   ]
  },
  {
   "cell_type": "code",
   "execution_count": 72,
   "id": "ee5a8882",
   "metadata": {},
   "outputs": [
    {
     "data": {
      "text/plain": [
       "(1602, 7)"
      ]
     },
     "execution_count": 72,
     "metadata": {},
     "output_type": "execute_result"
    }
   ],
   "source": [
    "x_test.shape"
   ]
  },
  {
   "cell_type": "code",
   "execution_count": 73,
   "id": "746a6f88",
   "metadata": {},
   "outputs": [
    {
     "data": {
      "text/plain": [
       "(3738, 1)"
      ]
     },
     "execution_count": 73,
     "metadata": {},
     "output_type": "execute_result"
    }
   ],
   "source": [
    "y_train.shape"
   ]
  },
  {
   "cell_type": "code",
   "execution_count": 74,
   "id": "c1bde8f9",
   "metadata": {},
   "outputs": [
    {
     "data": {
      "text/plain": [
       "(1602, 1)"
      ]
     },
     "execution_count": 74,
     "metadata": {},
     "output_type": "execute_result"
    }
   ],
   "source": [
    "y_test.shape"
   ]
  },
  {
   "cell_type": "code",
   "execution_count": 75,
   "id": "d2b9b664",
   "metadata": {},
   "outputs": [],
   "source": [
    "from sklearn.metrics import r2_score\n",
    "from sklearn.metrics import mean_absolute_error\n",
    "from sklearn.metrics import mean_squared_error\n",
    "from sklearn.linear_model import Lasso,Ridge\n",
    "from sklearn.svm import SVR\n",
    "from sklearn.tree import DecisionTreeRegressor\n",
    "from sklearn.neighbors import KNeighborsRegressor\n",
    "from sklearn.linear_model import LinearRegression"
   ]
  },
  {
   "cell_type": "markdown",
   "id": "51cb96d1",
   "metadata": {},
   "source": [
    "## Finding Best Algorithm using multiple models."
   ]
  },
  {
   "cell_type": "code",
   "execution_count": 76,
   "id": "1aad4605",
   "metadata": {},
   "outputs": [],
   "source": [
    "lm=LinearRegression()\n",
    "dtr=DecisionTreeRegressor()\n",
    "svr=SVR()\n",
    "knr=KNeighborsRegressor()\n",
    "ls=Lasso(alpha=0.0001)\n",
    "rd=Ridge(alpha=0.0001)"
   ]
  },
  {
   "cell_type": "code",
   "execution_count": 77,
   "id": "87f821fe",
   "metadata": {},
   "outputs": [
    {
     "name": "stdout",
     "output_type": "stream",
     "text": [
      "error: LinearRegression()\n",
      "Mean absolute error: 1.2612455869544392\n",
      "Mean squared error: 2.2494214604215217\n",
      "Root Mean Squared error: 1.4998071410756524\n",
      "error: DecisionTreeRegressor()\n",
      "Mean absolute error: 0.0\n",
      "Mean squared error: 0.0\n",
      "Root Mean Squared error: 0.0\n",
      "error: SVR()\n",
      "Mean absolute error: 0.104492926680308\n",
      "Mean squared error: 0.012669614353803782\n",
      "Root Mean Squared error: 0.1125593814562064\n",
      "error: KNeighborsRegressor()\n",
      "Mean absolute error: 0.0\n",
      "Mean squared error: 0.0\n",
      "Root Mean Squared error: 0.0\n",
      "error: Lasso(alpha=0.0001)\n",
      "Mean absolute error: 1.26123962824057\n",
      "Mean squared error: 2.2494611671665483\n",
      "Root Mean Squared error: 1.4998203783008646\n",
      "error: Ridge(alpha=0.0001)\n",
      "Mean absolute error: 1.2612455927114086\n",
      "Mean squared error: 2.249421508811089\n",
      "Root Mean Squared error: 1.4998071572075822\n"
     ]
    }
   ],
   "source": [
    "model=[lm,dtr,svr,knr,ls,rd]\n",
    "\n",
    "for m in model:\n",
    "    m.fit(x_train,y_train)\n",
    "    pred=m.predict(x_test)\n",
    "    print('error:',m)\n",
    "    print('Mean absolute error:',mean_absolute_error(y_test,pred))\n",
    "    print('Mean squared error:',mean_squared_error(y_test,pred))\n",
    "    print('Root Mean Squared error:',np.sqrt(mean_squared_error(y_test,pred)))"
   ]
  },
  {
   "cell_type": "markdown",
   "id": "409e3e33",
   "metadata": {},
   "source": [
    "Here we can see that we are getting least error with Decision tree and KNeighborsRegressor"
   ]
  },
  {
   "cell_type": "code",
   "execution_count": 78,
   "id": "8489b246",
   "metadata": {},
   "outputs": [],
   "source": [
    "#Let's check the r2_score for all the models"
   ]
  },
  {
   "cell_type": "code",
   "execution_count": 79,
   "id": "e2eea175",
   "metadata": {},
   "outputs": [
    {
     "name": "stdout",
     "output_type": "stream",
     "text": [
      "score: LinearRegression()\n",
      "0.9834959852057372\n",
      "score: DecisionTreeRegressor()\n",
      "1.0\n",
      "score: SVR()\n",
      "0.9999070429857579\n",
      "score: KNeighborsRegressor()\n",
      "1.0\n",
      "score: Lasso(alpha=0.0001)\n",
      "0.9834956938771806\n",
      "score: Ridge(alpha=0.0001)\n",
      "0.9834959848507028\n"
     ]
    }
   ],
   "source": [
    "for m in model:\n",
    "    m.fit(x_train,y_train)\n",
    "    pred=m.predict(x_test)\n",
    "    print('score:',m)\n",
    "    print(r2_score(y_test,pred))"
   ]
  },
  {
   "cell_type": "markdown",
   "id": "35d75d3d",
   "metadata": {},
   "source": [
    "Here also we are getting highest accuracy with r2_score with Decision tree and KNeighborsRegressor."
   ]
  },
  {
   "cell_type": "markdown",
   "id": "1c41188b",
   "metadata": {},
   "source": [
    "The accuracy can also be due to overfitting so we will check for cross validation."
   ]
  },
  {
   "cell_type": "markdown",
   "id": "920e3512",
   "metadata": {},
   "source": [
    "## Cross Validation"
   ]
  },
  {
   "cell_type": "code",
   "execution_count": 80,
   "id": "a5ea071d",
   "metadata": {},
   "outputs": [],
   "source": [
    "from sklearn.model_selection import cross_val_score"
   ]
  },
  {
   "cell_type": "code",
   "execution_count": 81,
   "id": "a3c21f60",
   "metadata": {},
   "outputs": [
    {
     "name": "stdout",
     "output_type": "stream",
     "text": [
      "score: LinearRegression()\n",
      "[0.9787249  0.97854213 0.98284689 0.97999383 0.97984505]\n",
      "0.9799905583407849\n",
      "score: DecisionTreeRegressor()\n",
      "[1. 1. 1. 1. 1.]\n",
      "1.0\n",
      "score: SVR()\n",
      "[0.99993329 0.99993311 0.99992386 0.99973016 0.99971868]\n",
      "0.9998478220473132\n",
      "score: KNeighborsRegressor()\n",
      "[1. 1. 1. 1. 1.]\n",
      "1.0\n",
      "score: Lasso(alpha=0.0001)\n",
      "[0.978725   0.97854226 0.98284691 0.97999582 0.97984702]\n",
      "0.9799914033992613\n",
      "score: Ridge(alpha=0.0001)\n",
      "[0.9787249  0.97854213 0.98284689 0.97999383 0.97984505]\n",
      "0.9799905588040844\n"
     ]
    }
   ],
   "source": [
    "for m in model:\n",
    "    score=cross_val_score(m,x,y,cv=5)\n",
    "    print('score:',m)\n",
    "    print(score)\n",
    "    print(score.mean())"
   ]
  },
  {
   "cell_type": "markdown",
   "id": "de4dc795",
   "metadata": {},
   "source": [
    "From the cross validation score we have seen that DecisionTreeRegressor() and KNeighborsRegressor() has least cross validation score. "
   ]
  },
  {
   "cell_type": "markdown",
   "id": "2f3144bb",
   "metadata": {},
   "source": [
    "## Hyper parameter Tuning"
   ]
  },
  {
   "cell_type": "code",
   "execution_count": 82,
   "id": "b125ce43",
   "metadata": {},
   "outputs": [],
   "source": [
    "from sklearn.model_selection import GridSearchCV"
   ]
  },
  {
   "cell_type": "markdown",
   "id": "c76090f4",
   "metadata": {},
   "source": [
    "### Hyper parameter tuning for SVR"
   ]
  },
  {
   "cell_type": "code",
   "execution_count": 83,
   "id": "a5fdb809",
   "metadata": {},
   "outputs": [],
   "source": [
    "param={'kernel': ('linear','poly','rbf','sigmoid'),\n",
    "       'C': [1,5,10],\n",
    "      'degree':[3,8],\n",
    "       'coef0':[0.01,10,0.5],\n",
    "      'gamma': ('auto','scale')}\n",
    "svr=SVR()"
   ]
  },
  {
   "cell_type": "code",
   "execution_count": 84,
   "id": "283cdd09",
   "metadata": {},
   "outputs": [],
   "source": [
    "grid_sr=GridSearchCV(svr,param,cv=5,n_jobs=-1,verbose=2)"
   ]
  },
  {
   "cell_type": "code",
   "execution_count": 85,
   "id": "b30afe8b",
   "metadata": {},
   "outputs": [
    {
     "name": "stdout",
     "output_type": "stream",
     "text": [
      "Fitting 5 folds for each of 144 candidates, totalling 720 fits\n"
     ]
    },
    {
     "data": {
      "text/plain": [
       "GridSearchCV(cv=5, estimator=SVR(), n_jobs=-1,\n",
       "             param_grid={'C': [1, 5, 10], 'coef0': [0.01, 10, 0.5],\n",
       "                         'degree': [3, 8], 'gamma': ('auto', 'scale'),\n",
       "                         'kernel': ('linear', 'poly', 'rbf', 'sigmoid')},\n",
       "             verbose=2)"
      ]
     },
     "execution_count": 85,
     "metadata": {},
     "output_type": "execute_result"
    }
   ],
   "source": [
    "grid_sr.fit(x_train,y_train)"
   ]
  },
  {
   "cell_type": "code",
   "execution_count": 86,
   "id": "041a61fe",
   "metadata": {},
   "outputs": [
    {
     "name": "stdout",
     "output_type": "stream",
     "text": [
      "{'C': 10, 'coef0': 0.5, 'degree': 8, 'gamma': 'scale', 'kernel': 'poly'}\n"
     ]
    }
   ],
   "source": [
    "print(grid_sr.best_params_)"
   ]
  },
  {
   "cell_type": "code",
   "execution_count": 87,
   "id": "f0edabd4",
   "metadata": {},
   "outputs": [
    {
     "data": {
      "text/plain": [
       "0.9999270617811484"
      ]
     },
     "execution_count": 87,
     "metadata": {},
     "output_type": "execute_result"
    }
   ],
   "source": [
    "grid_sr.best_score_"
   ]
  },
  {
   "cell_type": "code",
   "execution_count": 88,
   "id": "873fe76c",
   "metadata": {},
   "outputs": [
    {
     "data": {
      "text/plain": [
       "SVR(C=1, coef0=10, kernel='poly')"
      ]
     },
     "execution_count": 88,
     "metadata": {},
     "output_type": "execute_result"
    }
   ],
   "source": [
    "svr1=SVR( C=1, coef0 = 10, degree= 3, gamma= 'scale', kernel= 'poly')\n",
    "svr1.fit(x_train,y_train)"
   ]
  },
  {
   "cell_type": "code",
   "execution_count": 89,
   "id": "ef91bb75",
   "metadata": {},
   "outputs": [
    {
     "data": {
      "text/plain": [
       "0.999875823058907"
      ]
     },
     "execution_count": 89,
     "metadata": {},
     "output_type": "execute_result"
    }
   ],
   "source": [
    "svr1.score(x_test,y_test)"
   ]
  },
  {
   "cell_type": "markdown",
   "id": "e4320187",
   "metadata": {},
   "source": [
    "Here we have seen that accuracy is same."
   ]
  },
  {
   "cell_type": "markdown",
   "id": "7e86e246",
   "metadata": {},
   "source": [
    "## Hyper parameter tuning for DecisionTreeRegressor"
   ]
  },
  {
   "cell_type": "code",
   "execution_count": 90,
   "id": "00a2cd7b",
   "metadata": {},
   "outputs": [
    {
     "name": "stdout",
     "output_type": "stream",
     "text": [
      "{'criterion': 'mse'}\n"
     ]
    }
   ],
   "source": [
    "dtr=DecisionTreeRegressor()\n",
    "grid_param={'criterion':['mse','mae','friedman_mse','poisson']}\n",
    "gd_sr=GridSearchCV(dtr,\n",
    "                   scoring='accuracy',\n",
    "                   param_grid=grid_param,\n",
    "                   cv=5)\n",
    "gd_sr.fit(x_train,y_train)\n",
    "best_parameters=gd_sr.best_params_\n",
    "print(best_parameters)\n"
   ]
  },
  {
   "cell_type": "code",
   "execution_count": 91,
   "id": "bd93857d",
   "metadata": {},
   "outputs": [
    {
     "data": {
      "text/plain": [
       "DecisionTreeRegressor()"
      ]
     },
     "execution_count": 91,
     "metadata": {},
     "output_type": "execute_result"
    }
   ],
   "source": [
    "dtr1=DecisionTreeRegressor(criterion= 'mse')\n",
    "dtr1.fit(x_train,y_train)"
   ]
  },
  {
   "cell_type": "code",
   "execution_count": 92,
   "id": "a5b32d9a",
   "metadata": {},
   "outputs": [
    {
     "data": {
      "text/plain": [
       "1.0"
      ]
     },
     "execution_count": 92,
     "metadata": {},
     "output_type": "execute_result"
    }
   ],
   "source": [
    "dtr1.score(x_test,y_test)"
   ]
  },
  {
   "cell_type": "markdown",
   "id": "944101e3",
   "metadata": {},
   "source": [
    "Here the accuracy is also 100%  which is the best."
   ]
  },
  {
   "cell_type": "markdown",
   "id": "8a013c12",
   "metadata": {},
   "source": [
    "#### Hyper parameter tuning for KNeighborsRegressor"
   ]
  },
  {
   "cell_type": "code",
   "execution_count": 94,
   "id": "1857855c",
   "metadata": {},
   "outputs": [
    {
     "name": "stdout",
     "output_type": "stream",
     "text": [
      "{'n_neighbors': 1, 'weights': 'uniform'}\n"
     ]
    }
   ],
   "source": [
    "param={'n_neighbors':np.arange(1,12,2),\n",
    "      'weights':['uniform','distance']}\n",
    "knr=KNeighborsRegressor()\n",
    "gscv=GridSearchCV(knr,param,cv=5)\n",
    "gscv.fit(x_train,y_train)\n",
    "\n",
    "best_parameters=gscv.best_params_\n",
    "print(best_parameters)"
   ]
  },
  {
   "cell_type": "code",
   "execution_count": 95,
   "id": "3ce0985d",
   "metadata": {},
   "outputs": [
    {
     "data": {
      "text/plain": [
       "1.0"
      ]
     },
     "execution_count": 95,
     "metadata": {},
     "output_type": "execute_result"
    }
   ],
   "source": [
    "gscv.best_score_"
   ]
  },
  {
   "cell_type": "code",
   "execution_count": 96,
   "id": "80bed5a1",
   "metadata": {},
   "outputs": [
    {
     "data": {
      "text/plain": [
       "KNeighborsRegressor(n_neighbors=11, weights='distance')"
      ]
     },
     "execution_count": 96,
     "metadata": {},
     "output_type": "execute_result"
    }
   ],
   "source": [
    "knr1=KNeighborsRegressor(n_neighbors=11, weights= 'distance')\n",
    "knr1.fit(x_train,y_train)"
   ]
  },
  {
   "cell_type": "code",
   "execution_count": 97,
   "id": "7a801a68",
   "metadata": {},
   "outputs": [
    {
     "data": {
      "text/plain": [
       "1.0"
      ]
     },
     "execution_count": 97,
     "metadata": {},
     "output_type": "execute_result"
    }
   ],
   "source": [
    "knr1.score(x_test,y_test)"
   ]
  },
  {
   "cell_type": "markdown",
   "id": "0c6fd9f3",
   "metadata": {},
   "source": [
    "Here also the accuracy is also 100%  which is the best."
   ]
  },
  {
   "cell_type": "markdown",
   "id": "515fc6d2",
   "metadata": {},
   "source": [
    "So we are taking DecisionTreeRegressor as our best model."
   ]
  },
  {
   "cell_type": "markdown",
   "id": "e43287dc",
   "metadata": {},
   "source": [
    "### So we are getting highest accuracy with the DecisionTreeRegressor after hyperparmeter tuning so this is our best model among all the models."
   ]
  },
  {
   "cell_type": "markdown",
   "id": "f2e108e1",
   "metadata": {},
   "source": [
    "# Saving our best model"
   ]
  },
  {
   "cell_type": "code",
   "execution_count": 99,
   "id": "b78a9a60",
   "metadata": {},
   "outputs": [],
   "source": [
    "import joblib\n",
    "joblib.dump(dtr1, \"dtr1carfile.obj\")\n",
    "\n",
    "dtr1_from_joblib =joblib.load(\"dtr1carfile.obj\")"
   ]
  },
  {
   "cell_type": "code",
   "execution_count": null,
   "id": "50e60d06",
   "metadata": {},
   "outputs": [],
   "source": []
  }
 ],
 "metadata": {
  "kernelspec": {
   "display_name": "Python 3",
   "language": "python",
   "name": "python3"
  },
  "language_info": {
   "codemirror_mode": {
    "name": "ipython",
    "version": 3
   },
   "file_extension": ".py",
   "mimetype": "text/x-python",
   "name": "python",
   "nbconvert_exporter": "python",
   "pygments_lexer": "ipython3",
   "version": "3.8.8"
  }
 },
 "nbformat": 4,
 "nbformat_minor": 5
}
